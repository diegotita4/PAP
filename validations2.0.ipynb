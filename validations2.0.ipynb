{
 "cells": [
  {
   "cell_type": "markdown",
   "metadata": {},
   "source": [
    "## IMPORT QAA FUNCTION AND VALUES TO VALIDATE STRATEGIES....."
   ]
  },
  {
   "cell_type": "code",
   "execution_count": 1,
   "metadata": {},
   "outputs": [
    {
     "name": "stderr",
     "output_type": "stream",
     "text": [
      "[*********************100%%**********************]  5 of 5 completed\n",
      "c:\\Users\\oscar\\Documents\\ITESO\\Octavo Semestre Tieso\\Backtesting AA\\PAP\\functions.py:137: FutureWarning: The argument 'date_parser' is deprecated and will be removed in a future version. Please use 'date_format' instead, or read your data in as 'object' dtype and then call 'to_datetime'.\n",
      "  ff_data = web.DataReader('F-F_Research_Data_Factors_daily', 'famafrench', start=self.start_date, end=self.end_date)[0]\n"
     ]
    }
   ],
   "source": [
    "from functions import QAA\n",
    "import numpy as np\n",
    "import pandas as pd\n",
    "import yfinance as yf\n",
    "import matplotlib.pyplot as plt\n",
    "from datetime import datetime\n",
    "from scipy.optimize import minimize\n",
    "from scipy.spatial.distance import squareform\n",
    "from scipy.cluster.hierarchy import linkage, dendrogram, leaves_list\n",
    "import optuna\n",
    "import warnings\n",
    "import logging\n",
    "from pypfopt import EfficientFrontier, risk_models, expected_returns\n",
    "from pypfopt.efficient_frontier import EfficientCVaR\n",
    "import yfinance as yf\n",
    "optuna.logging.set_verbosity(optuna.logging.WARNING)\n",
    "warnings.filterwarnings('ignore', message='A new study created in memory with name:')\n",
    "warnings.filterwarnings('ignore', message='Method COBYLA cannot handle bounds.')\n",
    "\n",
    "\n",
    "tickers = [\"ABBV\", \"MET\", \"OXY\", \"PERI\"]\n",
    "optimization_models = ['SLSQP', 'Monte Carlo', 'COBYLA']\n",
    "\n",
    "QAA_instance = QAA(tickers=tickers, start_date='2020-01-02', end_date='2024-01-23', rf=0.02)\n"
   ]
  },
  {
   "cell_type": "markdown",
   "metadata": {},
   "source": [
    "## Minimum Variance"
   ]
  },
  {
   "cell_type": "code",
   "execution_count": 11,
   "metadata": {},
   "outputs": [
    {
     "name": "stdout",
     "output_type": "stream",
     "text": [
      "Expected annual return: 21.9%\n",
      "Annual volatility: 25.3%\n",
      "Sharpe Ratio: 0.79\n",
      "\n",
      "Optimal weights (Library: PyPortfolioOpt):\n",
      "OrderedDict([('ABBV', 0.7), ('MET', 0.1), ('OXY', 0.1), ('PERI', 0.1)])\n",
      "\n",
      "Optimal weights in our class (Minimum Variance - SLSQP): ['0.7000', '0.1000', '0.1000', '0.1000']\n",
      "\n",
      "Optimal weights in our class (Minimum Variance - Monte Carlo): ['0.6706', '0.1251', '0.1009', '0.1033']\n",
      "\n",
      "Optimal weights in our class (Minimum Variance - COBYLA): ['0.6970', '0.1010', '0.1010', '0.1010']\n"
     ]
    }
   ],
   "source": [
    "from pypfopt import expected_returns, risk_models, EfficientFrontier\n",
    "\n",
    "# Obtén los datos históricos de precios\n",
    "historical_data = QAA_instance.data\n",
    "\n",
    "# Calcula el rendimiento esperado y la matriz de covarianza\n",
    "mu = expected_returns.mean_historical_return(historical_data)\n",
    "S = risk_models.sample_cov(historical_data)\n",
    "\n",
    "# Optimiza para la mínima varianza usando PyPortfolioOpt\n",
    "ef = EfficientFrontier(mu, S, weight_bounds=(0.10,1))\n",
    "weights_pypfopt = ef.min_volatility()\n",
    "ef.portfolio_performance(verbose=True)\n",
    "\n",
    "# Compara los pesos óptimos\n",
    "print(\"\\nOptimal weights (Library: PyPortfolioOpt):\")\n",
    "print(weights_pypfopt)\n",
    "\n",
    "# Define a list of strategies to optimize\n",
    "strategies = ['Minimum Variance']\n",
    "\n",
    "for strategy in strategies:\n",
    "    QAA_instance.set_optimization_strategy(strategy)\n",
    "    for model in optimization_models:\n",
    "        QAA_instance.set_optimization_model(model)\n",
    "        QAA_instance.optimize()\n",
    "        if QAA_instance.optimal_weights is not None:\n",
    "            print(f\"\\nOptimal weights in our class ({strategy} - {model}):\", [format(weight, '.4f') for weight in QAA_instance.optimal_weights])\n",
    "        else:\n",
    "            print(f\"\\nOptimization for {strategy} with {model} did not converge or is not implemented.\")\n"
   ]
  },
  {
   "cell_type": "markdown",
   "metadata": {},
   "source": [
    "## Omega"
   ]
  },
  {
   "cell_type": "code",
   "execution_count": 19,
   "metadata": {},
   "outputs": [
    {
     "name": "stdout",
     "output_type": "stream",
     "text": [
      "[*********************100%***********************]  4 of 4 completed\n",
      "Optimal weights to maximize the Omega Ratio validation:\n",
      "[0.1 0.1 0.7 0.1]\n",
      "[*********************100%***********************]  5 of 5 completed\n",
      "\n",
      "Optimal weights in our class (Omega Ratio - SLSQP): ['0.1000', '0.1000', '0.7000', '0.1000']\n",
      "\n",
      "Optimal weights in our class (Omega Ratio - Monte Carlo): ['0.1002', '0.1016', '0.6678', '0.1305']\n",
      "\n",
      "Optimal weights in our class (Omega Ratio - COBYLA): ['0.1000', '0.1000', '0.7000', '0.1000']\n"
     ]
    }
   ],
   "source": [
    "# Risk-free rate\n",
    "rf = 0.02\n",
    "\n",
    "# Function to calculate the Omega Ratio\n",
    "def omega_ratio(weights, returns, rf):\n",
    "    portfolio_returns = np.dot(returns, weights)\n",
    "    excess_returns = portfolio_returns - rf\n",
    "    upside_potential = np.sum(excess_returns[excess_returns > 0])\n",
    "    downside_risk = np.sqrt(np.sum(np.square(excess_returns[excess_returns < 0])))\n",
    "    return upside_potential / downside_risk if downside_risk != 0 else np.inf\n",
    "\n",
    "# Objective function for optimization (negative of the Omega Ratio)\n",
    "def neg_omega_ratio(weights, returns, rf):\n",
    "    return omega_ratio(weights, returns, rf)\n",
    "\n",
    "# Load data and calculate returns\n",
    "tickers = [\"ABBV\", \"MET\", \"OXY\", \"PERI\"]\n",
    "data = yf.download(tickers, start='2020-01-02', end='2024-01-23')['Adj Close']\n",
    "returns = data.pct_change().dropna().values\n",
    "rf = 0.02 / 252  # Daily risk-free rate\n",
    "\n",
    "# Constraints and bounds for optimization\n",
    "constraints = ({'type': 'eq', 'fun': lambda x: np.sum(x) - 1})\n",
    "bounds = [(0.10, 1) for _ in tickers]\n",
    "\n",
    "# Optimization to maximize the Omega Ratio\n",
    "initial_weights = np.ones(len(tickers)) / len(tickers)\n",
    "result = minimize(neg_omega_ratio, initial_weights, args=(returns, rf), method='SLSQP', bounds=bounds, constraints=constraints)\n",
    "\n",
    "# Optimal weights\n",
    "optimal_weights = result.x\n",
    "print(\"Optimal weights to maximize the Omega Ratio validation:\")\n",
    "print(optimal_weights)\n",
    "\n",
    "# Instantiation of the optimized strategy\n",
    "QAA_instance = QAA(tickers=tickers, start_date='2020-01-02', end_date='2024-01-23', rf=0.02)\n",
    "\n",
    "# Define a list of strategies to optimize\n",
    "strategies = [\"Omega Ratio\"]\n",
    "\n",
    "for strategy in strategies:\n",
    "    QAA_instance.set_optimization_strategy(strategy)\n",
    "    for model in optimization_models:\n",
    "        QAA_instance.set_optimization_model(model)\n",
    "        QAA_instance.optimize()\n",
    "        if QAA_instance.optimal_weights is not None:\n",
    "            print(f\"\\nOptimal weights in our class ({strategy} - {model}):\", [format(weight, '.4f') for weight in QAA_instance.optimal_weights])\n",
    "        else:\n",
    "            print(f\"\\nOptimization for {strategy} with {model} did not converge or is not implemented.\")\n"
   ]
  },
  {
   "cell_type": "markdown",
   "metadata": {},
   "source": [
    "## NEED VALIDATE MARTINGALE"
   ]
  },
  {
   "cell_type": "markdown",
   "metadata": {},
   "source": [
    "## NEED VALIDATE ROY SAFETY FIRST RATIO"
   ]
  },
  {
   "cell_type": "markdown",
   "metadata": {},
   "source": [
    "## SORTINO RATIO"
   ]
  },
  {
   "cell_type": "code",
   "execution_count": 4,
   "metadata": {},
   "outputs": [
    {
     "name": "stdout",
     "output_type": "stream",
     "text": [
      "\n",
      "Optimal weights in our class (Sortino Ratio - SLSQP): ['0.3591', '0.1000', '0.1000', '0.4409']\n",
      "\n",
      "Optimal weights in our class (Sortino Ratio - Monte Carlo): ['0.3510', '0.1033', '0.1005', '0.4453']\n",
      "\n",
      "Optimal weights in our class (Sortino Ratio - COBYLA): ['0.3592', '0.1000', '0.1000', '0.4408']\n"
     ]
    }
   ],
   "source": [
    "strategies = [\"Sortino Ratio\"]\n",
    "\n",
    "for strategy in strategies:\n",
    "    QAA_instance.set_optimization_strategy(strategy)\n",
    "    for model in optimization_models:\n",
    "        QAA_instance.set_optimization_model(model)\n",
    "        QAA_instance.optimize()\n",
    "        if QAA_instance.optimal_weights is not None:\n",
    "            print(f\"\\nOptimal weights in our class ({strategy} - {model}):\", [format(weight, '.4f') for weight in QAA_instance.optimal_weights])\n",
    "        else:\n",
    "            print(f\"\\nOptimization for {strategy} with {model} did not converge or is not implemented.\")"
   ]
  },
  {
   "cell_type": "markdown",
   "metadata": {},
   "source": [
    "## FAMMA - FRENCH"
   ]
  },
  {
   "cell_type": "code",
   "execution_count": 5,
   "metadata": {},
   "outputs": [
    {
     "name": "stderr",
     "output_type": "stream",
     "text": [
      "[*********************100%%**********************]  5 of 5 completed\n"
     ]
    },
    {
     "name": "stdout",
     "output_type": "stream",
     "text": [
      "\n",
      "Optimal weights in our class (Fama French - SLSQP): ['0.5469', '0.1000', '0.1000', '0.2531']\n",
      "\n",
      "Optimal weights in our class (Fama French - Monte Carlo): ['0.5349', '0.1004', '0.1026', '0.2621']\n",
      "\n",
      "Optimal weights in our class (Fama French - COBYLA): ['0.5470', '0.1000', '0.1000', '0.2530']\n"
     ]
    }
   ],
   "source": [
    "tickers = [\"ABBV\", \"MET\", \"OXY\", \"PERI\"]\n",
    "optimization_models = ['SLSQP', 'Monte Carlo', 'COBYLA']\n",
    "QAA_instance = QAA(tickers=tickers, start_date='2020-01-02', end_date='2024-01-23', rf=0.02)\n",
    "\n",
    "# Define a list of strategies to optimize\n",
    "strategies = [\"Fama French\"]\n",
    "\n",
    "for strategy in strategies:\n",
    "    QAA_instance.set_optimization_strategy(strategy)\n",
    "    for model in optimization_models:\n",
    "        QAA_instance.set_optimization_model(model)\n",
    "        QAA_instance.optimize()\n",
    "        if QAA_instance.optimal_weights is not None:\n",
    "            print(f\"\\nOptimal weights in our class ({strategy} - {model}):\", [format(weight, '.4f') for weight in QAA_instance.optimal_weights])\n",
    "        else:\n",
    "            print(f\"\\nOptimization for {strategy} with {model} did not converge or is not implemented.\")"
   ]
  },
  {
   "cell_type": "code",
   "execution_count": null,
   "metadata": {},
   "outputs": [],
   "source": []
  },
  {
   "cell_type": "code",
   "execution_count": null,
   "metadata": {},
   "outputs": [],
   "source": []
  },
  {
   "cell_type": "code",
   "execution_count": null,
   "metadata": {},
   "outputs": [],
   "source": []
  },
  {
   "cell_type": "code",
   "execution_count": null,
   "metadata": {},
   "outputs": [],
   "source": []
  },
  {
   "cell_type": "code",
   "execution_count": null,
   "metadata": {},
   "outputs": [],
   "source": []
  }
 ],
 "metadata": {
  "kernelspec": {
   "display_name": "Python 3",
   "language": "python",
   "name": "python3"
  },
  "language_info": {
   "codemirror_mode": {
    "name": "ipython",
    "version": 3
   },
   "file_extension": ".py",
   "mimetype": "text/x-python",
   "name": "python",
   "nbconvert_exporter": "python",
   "pygments_lexer": "ipython3",
   "version": "3.11.3"
  }
 },
 "nbformat": 4,
 "nbformat_minor": 2
}
