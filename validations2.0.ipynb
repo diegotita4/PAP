{
 "cells": [
  {
   "cell_type": "markdown",
   "metadata": {},
   "source": [
    "## IMPORT QAA FUNCTION AND VALUES TO VALIDATE STRATEGIES....."
   ]
  },
  {
   "cell_type": "code",
   "execution_count": 1,
   "metadata": {},
   "outputs": [
    {
     "name": "stderr",
     "output_type": "stream",
     "text": [
      "c:\\Users\\joalf\\AppData\\Local\\Programs\\Python\\Python310\\lib\\site-packages\\tqdm\\auto.py:21: TqdmWarning: IProgress not found. Please update jupyter and ipywidgets. See https://ipywidgets.readthedocs.io/en/stable/user_install.html\n",
      "  from .autonotebook import tqdm as notebook_tqdm\n",
      "[*********************100%%**********************]  5 of 5 completed\n",
      "c:\\Users\\joalf\\OneDrive\\Documentos\\A_ITESO\\A_Octavo_Semestre\\PAP\\PAP\\functions.py:139: FutureWarning: The argument 'date_parser' is deprecated and will be removed in a future version. Please use 'date_format' instead, or read your data in as 'object' dtype and then call 'to_datetime'.\n",
      "  ff_data = web.DataReader('F-F_Research_Data_Factors_daily', 'famafrench', start=self.start_date, end=self.end_date)[0]\n"
     ]
    }
   ],
   "source": [
    "from functions import QAA\n",
    "from backtest import BacktestingDinamico\n",
    "import numpy as np\n",
    "import pandas as pd\n",
    "import yfinance as yf\n",
    "import matplotlib.pyplot as plt\n",
    "from datetime import datetime\n",
    "from scipy.optimize import minimize\n",
    "from scipy.spatial.distance import squareform\n",
    "from scipy.cluster.hierarchy import linkage, dendrogram, leaves_list\n",
    "import optuna\n",
    "import warnings\n",
    "import logging\n",
    "from pypfopt import EfficientFrontier, risk_models, expected_returns\n",
    "from pypfopt.efficient_frontier import EfficientCVaR\n",
    "import yfinance as yf\n",
    "optuna.logging.set_verbosity(optuna.logging.WARNING)\n",
    "warnings.filterwarnings('ignore', message='A new study created in memory with name:')\n",
    "warnings.filterwarnings('ignore', message='Method COBYLA cannot handle bounds.')\n",
    "\n",
    "\n",
    "tickers = [\"ABBV\", \"MET\", \"OXY\", \"PERI\"]\n",
    "optimization_models = ['SLSQP', 'Monte Carlo', 'COBYLA']\n",
    "\n",
    "QAA_instance = QAA(tickers=tickers, start_date='2020-01-02', end_date='2024-01-23', rf=0.02)\n"
   ]
  },
  {
   "cell_type": "markdown",
   "metadata": {},
   "source": [
    "## Minimum Variance"
   ]
  },
  {
   "cell_type": "code",
   "execution_count": 2,
   "metadata": {},
   "outputs": [
    {
     "name": "stdout",
     "output_type": "stream",
     "text": [
      "Expected annual return: 21.9%\n",
      "Annual volatility: 25.3%\n",
      "Sharpe Ratio: 0.79\n",
      "\n",
      "Optimal weights (Library: PyPortfolioOpt):\n",
      "OrderedDict([('ABBV', 0.7), ('MET', 0.1), ('OXY', 0.1), ('PERI', 0.1)])\n",
      "\n",
      "Optimal weights in our class (Minimum Variance - SLSQP): ['0.7000', '0.1000', '0.1000', '0.1000']\n",
      "\n",
      "Optimal weights in our class (Minimum Variance - Monte Carlo): ['0.5989', '0.1928', '0.1053', '0.1031']\n",
      "\n",
      "Optimal weights in our class (Minimum Variance - COBYLA): ['0.6970', '0.1010', '0.1010', '0.1010']\n"
     ]
    }
   ],
   "source": [
    "from pypfopt import expected_returns, risk_models, EfficientFrontier\n",
    "\n",
    "# Obtén los datos históricos de precios\n",
    "historical_data = QAA_instance.data\n",
    "\n",
    "# Calcula el rendimiento esperado y la matriz de covarianza\n",
    "mu = expected_returns.mean_historical_return(historical_data)\n",
    "S = risk_models.sample_cov(historical_data)\n",
    "\n",
    "# Optimiza para la mínima varianza usando PyPortfolioOpt\n",
    "ef = EfficientFrontier(mu, S, weight_bounds=(0.10,1))\n",
    "weights_pypfopt = ef.min_volatility()\n",
    "ef.portfolio_performance(verbose=True)\n",
    "\n",
    "# Compara los pesos óptimos\n",
    "print(\"\\nOptimal weights (Library: PyPortfolioOpt):\")\n",
    "print(weights_pypfopt)\n",
    "\n",
    "# Define a list of strategies to optimize\n",
    "strategies = ['Minimum Variance']\n",
    "\n",
    "for strategy in strategies:\n",
    "    QAA_instance.set_optimization_strategy(strategy)\n",
    "    for model in optimization_models:\n",
    "        QAA_instance.set_optimization_model(model)\n",
    "        QAA_instance.optimize()\n",
    "        if QAA_instance.optimal_weights is not None:\n",
    "            print(f\"\\nOptimal weights in our class ({strategy} - {model}):\", [format(weight, '.4f') for weight in QAA_instance.optimal_weights])\n",
    "        else:\n",
    "            print(f\"\\nOptimization for {strategy} with {model} did not converge or is not implemented.\")\n"
   ]
  },
  {
   "cell_type": "markdown",
   "metadata": {},
   "source": [
    "## Omega"
   ]
  },
  {
   "cell_type": "code",
   "execution_count": 4,
   "metadata": {},
   "outputs": [
    {
     "name": "stderr",
     "output_type": "stream",
     "text": [
      "[*********************100%%**********************]  4 of 4 completed\n",
      "[                       0%%                      ]"
     ]
    },
    {
     "name": "stdout",
     "output_type": "stream",
     "text": [
      "Optimal weights to maximize the Omega Ratio validation:\n",
      "[0.1 0.1 0.7 0.1]\n"
     ]
    },
    {
     "name": "stderr",
     "output_type": "stream",
     "text": [
      "[*********************100%%**********************]  5 of 5 completed\n"
     ]
    },
    {
     "name": "stdout",
     "output_type": "stream",
     "text": [
      "\n",
      "Optimal weights in our class (Omega Ratio - SLSQP): ['0.1000', '0.1000', '0.7000', '0.1000']\n",
      "\n",
      "Optimal weights in our class (Omega Ratio - Monte Carlo): ['0.1041', '0.1230', '0.1345', '0.6384']\n",
      "\n",
      "Optimal weights in our class (Omega Ratio - COBYLA): ['0.1000', '0.1000', '0.7000', '0.1000']\n"
     ]
    }
   ],
   "source": [
    "# Risk-free rate\n",
    "rf = 0.02\n",
    "\n",
    "# Function to calculate the Omega Ratio\n",
    "def omega_ratio(weights, returns, rf):\n",
    "    portfolio_returns = np.dot(returns, weights)\n",
    "    excess_returns = portfolio_returns - rf\n",
    "    upside_potential = np.sum(excess_returns[excess_returns > 0])\n",
    "    downside_risk = np.sqrt(np.sum(np.square(excess_returns[excess_returns < 0])))\n",
    "    return upside_potential / downside_risk if downside_risk != 0 else np.inf\n",
    "\n",
    "# Objective function for optimization (negative of the Omega Ratio)\n",
    "def neg_omega_ratio(weights, returns, rf):\n",
    "    return omega_ratio(weights, returns, rf)\n",
    "\n",
    "# Load data and calculate returns\n",
    "tickers = [\"ABBV\", \"MET\", \"OXY\", \"PERI\"]\n",
    "data = yf.download(tickers, start='2020-01-02', end='2024-01-23')['Adj Close']\n",
    "returns = data.pct_change().dropna().values\n",
    "rf = 0.02 / 252  # Daily risk-free rate\n",
    "\n",
    "# Constraints and bounds for optimization\n",
    "constraints = ({'type': 'eq', 'fun': lambda x: np.sum(x) - 1})\n",
    "bounds = [(0.10, 1) for _ in tickers]\n",
    "\n",
    "# Optimization to maximize the Omega Ratio\n",
    "initial_weights = np.ones(len(tickers)) / len(tickers)\n",
    "result = minimize(neg_omega_ratio, initial_weights, args=(returns, rf), method='SLSQP', bounds=bounds, constraints=constraints)\n",
    "\n",
    "# Optimal weights\n",
    "optimal_weights = result.x\n",
    "print(\"Optimal weights to maximize the Omega Ratio validation:\")\n",
    "print(optimal_weights)\n",
    "\n",
    "# Instantiation of the optimized strategy\n",
    "QAA_instance = QAA(tickers=tickers, start_date='2020-01-02', end_date='2024-01-23', rf=0.02)\n",
    "\n",
    "# Define a list of strategies to optimize\n",
    "strategies = [\"Omega Ratio\"]\n",
    "\n",
    "for strategy in strategies:\n",
    "    QAA_instance.set_optimization_strategy(strategy)\n",
    "    for model in optimization_models:\n",
    "        QAA_instance.set_optimization_model(model)\n",
    "        QAA_instance.optimize()\n",
    "        if QAA_instance.optimal_weights is not None:\n",
    "            print(f\"\\nOptimal weights in our class ({strategy} - {model}):\", [format(weight, '.4f') for weight in QAA_instance.optimal_weights])\n",
    "        else:\n",
    "            print(f\"\\nOptimization for {strategy} with {model} did not converge or is not implemented.\")\n"
   ]
  },
  {
   "cell_type": "markdown",
   "metadata": {},
   "source": [
    "## NEED VALIDATE MARTINGALE"
   ]
  },
  {
   "cell_type": "markdown",
   "metadata": {},
   "source": [
    "## NEED VALIDATE ROY SAFETY FIRST RATIO"
   ]
  },
  {
   "cell_type": "markdown",
   "metadata": {},
   "source": [
    "## SORTINO RATIO"
   ]
  },
  {
   "cell_type": "code",
   "execution_count": 7,
   "metadata": {},
   "outputs": [
    {
     "name": "stderr",
     "output_type": "stream",
     "text": [
      "[W 2024-04-12 20:40:56,412] Trial 0 failed with parameters: {'weight_0': 0.09666496733128882, 'weight_1': 0.7198419935938155, 'weight_2': 0.33254536803425006, 'weight_3': 0.18435345227199107} because of the following error: TypeError('QAA.sortino_ratio() takes 2 positional arguments but 3 were given').\n",
      "Traceback (most recent call last):\n",
      "  File \"c:\\Users\\joalf\\AppData\\Local\\Programs\\Python\\Python310\\lib\\site-packages\\optuna\\study\\_optimize.py\", line 200, in _run_trial\n",
      "    value_or_values = func(trial)\n",
      "  File \"c:\\Users\\joalf\\OneDrive\\Documentos\\A_ITESO\\A_Octavo_Semestre\\PAP\\PAP\\functions.py\", line 235, in objective\n",
      "    objective_value = self.sortino_ratio(weights, self.rf) + penalty\n",
      "TypeError: QAA.sortino_ratio() takes 2 positional arguments but 3 were given\n",
      "[W 2024-04-12 20:40:56,415] Trial 1 failed with parameters: {'weight_0': 0.06063982198471851, 'weight_1': 0.6283350693002778, 'weight_2': 0.029114794668148036, 'weight_3': 0.10377176543855149} because of the following error: TypeError('QAA.sortino_ratio() takes 2 positional arguments but 3 were given').\n",
      "Traceback (most recent call last):\n",
      "  File \"c:\\Users\\joalf\\AppData\\Local\\Programs\\Python\\Python310\\lib\\site-packages\\optuna\\study\\_optimize.py\", line 200, in _run_trial\n",
      "    value_or_values = func(trial)\n",
      "  File \"c:\\Users\\joalf\\OneDrive\\Documentos\\A_ITESO\\A_Octavo_Semestre\\PAP\\PAP\\functions.py\", line 235, in objective\n",
      "    objective_value = self.sortino_ratio(weights, self.rf) + penalty\n",
      "TypeError: QAA.sortino_ratio() takes 2 positional arguments but 3 were given\n",
      "[W 2024-04-12 20:40:56,423] Trial 2 failed with parameters: {'weight_0': 0.9905618695433882, 'weight_1': 0.30058759957670134, 'weight_2': 0.7941436348168559, 'weight_3': 0.16893639344004985} because of the following error: TypeError('QAA.sortino_ratio() takes 2 positional arguments but 3 were given').\n",
      "Traceback (most recent call last):\n",
      "  File \"c:\\Users\\joalf\\AppData\\Local\\Programs\\Python\\Python310\\lib\\site-packages\\optuna\\study\\_optimize.py\", line 200, in _run_trial\n",
      "    value_or_values = func(trial)\n",
      "  File \"c:\\Users\\joalf\\OneDrive\\Documentos\\A_ITESO\\A_Octavo_Semestre\\PAP\\PAP\\functions.py\", line 235, in objective\n",
      "    objective_value = self.sortino_ratio(weights, self.rf) + penalty\n",
      "TypeError: QAA.sortino_ratio() takes 2 positional arguments but 3 were given\n",
      "[W 2024-04-12 20:40:56,425] Trial 3 failed with parameters: {'weight_0': 0.47144837286308916, 'weight_1': 0.7624369668820724, 'weight_2': 0.9930723823763025, 'weight_3': 0.5156514217183823} because of the following error: TypeError('QAA.sortino_ratio() takes 2 positional arguments but 3 were given').\n",
      "Traceback (most recent call last):\n",
      "  File \"c:\\Users\\joalf\\AppData\\Local\\Programs\\Python\\Python310\\lib\\site-packages\\optuna\\study\\_optimize.py\", line 200, in _run_trial\n",
      "    value_or_values = func(trial)\n",
      "  File \"c:\\Users\\joalf\\OneDrive\\Documentos\\A_ITESO\\A_Octavo_Semestre\\PAP\\PAP\\functions.py\", line 235, in objective\n",
      "    objective_value = self.sortino_ratio(weights, self.rf) + penalty\n",
      "TypeError: QAA.sortino_ratio() takes 2 positional arguments but 3 were given\n",
      "[W 2024-04-12 20:40:56,432] Trial 4 failed with parameters: {'weight_0': 0.8793106206491873, 'weight_1': 0.3474663523844769, 'weight_2': 0.9049442363992203, 'weight_3': 0.31974616632037745} because of the following error: TypeError('QAA.sortino_ratio() takes 2 positional arguments but 3 were given').\n",
      "Traceback (most recent call last):\n",
      "  File \"c:\\Users\\joalf\\AppData\\Local\\Programs\\Python\\Python310\\lib\\site-packages\\optuna\\study\\_optimize.py\", line 200, in _run_trial\n",
      "    value_or_values = func(trial)\n",
      "  File \"c:\\Users\\joalf\\OneDrive\\Documentos\\A_ITESO\\A_Octavo_Semestre\\PAP\\PAP\\functions.py\", line 235, in objective\n",
      "    objective_value = self.sortino_ratio(weights, self.rf) + penalty\n",
      "TypeError: QAA.sortino_ratio() takes 2 positional arguments but 3 were given\n",
      "[W 2024-04-12 20:40:56,436] Trial 5 failed with parameters: {'weight_0': 0.1984720330939681, 'weight_1': 0.7140633799587364, 'weight_2': 0.1530403987830523, 'weight_3': 0.4648869508559226} because of the following error: TypeError('QAA.sortino_ratio() takes 2 positional arguments but 3 were given').\n",
      "Traceback (most recent call last):\n",
      "  File \"c:\\Users\\joalf\\AppData\\Local\\Programs\\Python\\Python310\\lib\\site-packages\\optuna\\study\\_optimize.py\", line 200, in _run_trial\n",
      "    value_or_values = func(trial)\n",
      "  File \"c:\\Users\\joalf\\OneDrive\\Documentos\\A_ITESO\\A_Octavo_Semestre\\PAP\\PAP\\functions.py\", line 235, in objective\n",
      "    objective_value = self.sortino_ratio(weights, self.rf) + penalty\n",
      "TypeError: QAA.sortino_ratio() takes 2 positional arguments but 3 were given\n",
      "[W 2024-04-12 20:40:56,439] Trial 6 failed with parameters: {'weight_0': 0.6860375747789446, 'weight_1': 0.04502308352224338, 'weight_2': 0.1876729310165638, 'weight_3': 0.895104449244001} because of the following error: TypeError('QAA.sortino_ratio() takes 2 positional arguments but 3 were given').\n",
      "Traceback (most recent call last):\n",
      "  File \"c:\\Users\\joalf\\AppData\\Local\\Programs\\Python\\Python310\\lib\\site-packages\\optuna\\study\\_optimize.py\", line 200, in _run_trial\n",
      "    value_or_values = func(trial)\n",
      "  File \"c:\\Users\\joalf\\OneDrive\\Documentos\\A_ITESO\\A_Octavo_Semestre\\PAP\\PAP\\functions.py\", line 235, in objective\n",
      "    objective_value = self.sortino_ratio(weights, self.rf) + penalty\n",
      "TypeError: QAA.sortino_ratio() takes 2 positional arguments but 3 were given\n",
      "[W 2024-04-12 20:40:56,446] Trial 7 failed with parameters: {'weight_0': 0.4249486850412836, 'weight_1': 0.32924466194453106, 'weight_2': 0.10619810044228906, 'weight_3': 0.7286510624279592} because of the following error: TypeError('QAA.sortino_ratio() takes 2 positional arguments but 3 were given').\n",
      "Traceback (most recent call last):\n",
      "  File \"c:\\Users\\joalf\\AppData\\Local\\Programs\\Python\\Python310\\lib\\site-packages\\optuna\\study\\_optimize.py\", line 200, in _run_trial\n",
      "    value_or_values = func(trial)\n",
      "  File \"c:\\Users\\joalf\\OneDrive\\Documentos\\A_ITESO\\A_Octavo_Semestre\\PAP\\PAP\\functions.py\", line 235, in objective\n",
      "    objective_value = self.sortino_ratio(weights, self.rf) + penalty\n",
      "TypeError: QAA.sortino_ratio() takes 2 positional arguments but 3 were given\n",
      "[W 2024-04-12 20:40:56,449] Trial 0 failed with value None.\n",
      "[W 2024-04-12 20:40:56,457] Trial 1 failed with value None.\n",
      "[W 2024-04-12 20:40:56,464] Trial 2 failed with value None.\n",
      "[W 2024-04-12 20:40:56,468] Trial 3 failed with value None.\n",
      "[W 2024-04-12 20:40:56,471] Trial 4 failed with value None.\n",
      "[W 2024-04-12 20:40:56,476] Trial 5 failed with value None.\n",
      "[W 2024-04-12 20:40:56,483] Trial 6 failed with value None.\n",
      "[W 2024-04-12 20:40:56,487] Trial 7 failed with value None.\n"
     ]
    },
    {
     "name": "stdout",
     "output_type": "stream",
     "text": [
      "\n",
      "Optimal weights in our class (Sortino Ratio - SLSQP): ['0.4292', '0.1000', '0.1000', '0.3708']\n"
     ]
    },
    {
     "ename": "TypeError",
     "evalue": "QAA.sortino_ratio() takes 2 positional arguments but 3 were given",
     "output_type": "error",
     "traceback": [
      "\u001b[1;31m---------------------------------------------------------------------------\u001b[0m",
      "\u001b[1;31mTypeError\u001b[0m                                 Traceback (most recent call last)",
      "Input \u001b[1;32mIn [7]\u001b[0m, in \u001b[0;36m<cell line: 3>\u001b[1;34m()\u001b[0m\n\u001b[0;32m      5\u001b[0m \u001b[38;5;28;01mfor\u001b[39;00m model \u001b[38;5;129;01min\u001b[39;00m optimization_models:\n\u001b[0;32m      6\u001b[0m     QAA_instance\u001b[38;5;241m.\u001b[39mset_optimization_model(model)\n\u001b[1;32m----> 7\u001b[0m     \u001b[43mQAA_instance\u001b[49m\u001b[38;5;241;43m.\u001b[39;49m\u001b[43moptimize\u001b[49m\u001b[43m(\u001b[49m\u001b[43m)\u001b[49m\n\u001b[0;32m      8\u001b[0m     \u001b[38;5;28;01mif\u001b[39;00m QAA_instance\u001b[38;5;241m.\u001b[39moptimal_weights \u001b[38;5;129;01mis\u001b[39;00m \u001b[38;5;129;01mnot\u001b[39;00m \u001b[38;5;28;01mNone\u001b[39;00m:\n\u001b[0;32m      9\u001b[0m         \u001b[38;5;28mprint\u001b[39m(\u001b[38;5;124mf\u001b[39m\u001b[38;5;124m\"\u001b[39m\u001b[38;5;130;01m\\n\u001b[39;00m\u001b[38;5;124mOptimal weights in our class (\u001b[39m\u001b[38;5;132;01m{\u001b[39;00mstrategy\u001b[38;5;132;01m}\u001b[39;00m\u001b[38;5;124m - \u001b[39m\u001b[38;5;132;01m{\u001b[39;00mmodel\u001b[38;5;132;01m}\u001b[39;00m\u001b[38;5;124m):\u001b[39m\u001b[38;5;124m\"\u001b[39m, [\u001b[38;5;28mformat\u001b[39m(weight, \u001b[38;5;124m'\u001b[39m\u001b[38;5;124m.4f\u001b[39m\u001b[38;5;124m'\u001b[39m) \u001b[38;5;28;01mfor\u001b[39;00m weight \u001b[38;5;129;01min\u001b[39;00m QAA_instance\u001b[38;5;241m.\u001b[39moptimal_weights])\n",
      "File \u001b[1;32mc:\\Users\\joalf\\OneDrive\\Documentos\\A_ITESO\\A_Octavo_Semestre\\PAP\\PAP\\functions.py:440\u001b[0m, in \u001b[0;36mQAA.optimize\u001b[1;34m(self)\u001b[0m\n\u001b[0;32m    438\u001b[0m     \u001b[38;5;28mself\u001b[39m\u001b[38;5;241m.\u001b[39moptimize_slsqp()\n\u001b[0;32m    439\u001b[0m \u001b[38;5;28;01melif\u001b[39;00m \u001b[38;5;28mself\u001b[39m\u001b[38;5;241m.\u001b[39moptimization_model \u001b[38;5;241m==\u001b[39m \u001b[38;5;124m'\u001b[39m\u001b[38;5;124mMonte Carlo\u001b[39m\u001b[38;5;124m'\u001b[39m:\n\u001b[1;32m--> 440\u001b[0m     \u001b[38;5;28;43mself\u001b[39;49m\u001b[38;5;241;43m.\u001b[39;49m\u001b[43moptimize_montecarlo\u001b[49m\u001b[43m(\u001b[49m\u001b[43m)\u001b[49m\n\u001b[0;32m    441\u001b[0m \u001b[38;5;28;01melif\u001b[39;00m \u001b[38;5;28mself\u001b[39m\u001b[38;5;241m.\u001b[39moptimization_model \u001b[38;5;241m==\u001b[39m \u001b[38;5;124m'\u001b[39m\u001b[38;5;124mCOBYLA\u001b[39m\u001b[38;5;124m'\u001b[39m:\n\u001b[0;32m    442\u001b[0m     \u001b[38;5;28mself\u001b[39m\u001b[38;5;241m.\u001b[39moptimize_cobyla()\n",
      "File \u001b[1;32mc:\\Users\\joalf\\OneDrive\\Documentos\\A_ITESO\\A_Octavo_Semestre\\PAP\\PAP\\functions.py:249\u001b[0m, in \u001b[0;36mQAA.optimize_montecarlo\u001b[1;34m(self)\u001b[0m\n\u001b[0;32m    246\u001b[0m study \u001b[38;5;241m=\u001b[39m optuna\u001b[38;5;241m.\u001b[39mcreate_study(sampler\u001b[38;5;241m=\u001b[39moptuna\u001b[38;5;241m.\u001b[39msamplers\u001b[38;5;241m.\u001b[39mTPESampler(), direction\u001b[38;5;241m=\u001b[39m\u001b[38;5;124m'\u001b[39m\u001b[38;5;124mminimize\u001b[39m\u001b[38;5;124m'\u001b[39m)\n\u001b[0;32m    248\u001b[0m num_trials \u001b[38;5;241m=\u001b[39m \u001b[38;5;241m500\u001b[39m  \u001b[38;5;66;03m# Adjust the number of trials as necessary\u001b[39;00m\n\u001b[1;32m--> 249\u001b[0m \u001b[43mstudy\u001b[49m\u001b[38;5;241;43m.\u001b[39;49m\u001b[43moptimize\u001b[49m\u001b[43m(\u001b[49m\u001b[43mobjective\u001b[49m\u001b[43m,\u001b[49m\u001b[43m \u001b[49m\u001b[43mn_trials\u001b[49m\u001b[38;5;241;43m=\u001b[39;49m\u001b[43mnum_trials\u001b[49m\u001b[43m,\u001b[49m\u001b[43m \u001b[49m\u001b[43mn_jobs\u001b[49m\u001b[38;5;241;43m=\u001b[39;49m\u001b[38;5;241;43m-\u001b[39;49m\u001b[38;5;241;43m1\u001b[39;49m\u001b[43m)\u001b[49m  \u001b[38;5;66;03m# n_jobs=-1 uses all available cores\u001b[39;00m\n\u001b[0;32m    251\u001b[0m \u001b[38;5;66;03m# Get and save the optimal weights\u001b[39;00m\n\u001b[0;32m    252\u001b[0m optimal_weights \u001b[38;5;241m=\u001b[39m np\u001b[38;5;241m.\u001b[39marray([study\u001b[38;5;241m.\u001b[39mbest_params[\u001b[38;5;124mf\u001b[39m\u001b[38;5;124m\"\u001b[39m\u001b[38;5;124mweight_\u001b[39m\u001b[38;5;132;01m{\u001b[39;00mi\u001b[38;5;132;01m}\u001b[39;00m\u001b[38;5;124m\"\u001b[39m] \u001b[38;5;28;01mfor\u001b[39;00m i \u001b[38;5;129;01min\u001b[39;00m \u001b[38;5;28mrange\u001b[39m(\u001b[38;5;28mlen\u001b[39m(\u001b[38;5;28mself\u001b[39m\u001b[38;5;241m.\u001b[39mtickers))])\n",
      "File \u001b[1;32mc:\\Users\\joalf\\AppData\\Local\\Programs\\Python\\Python310\\lib\\site-packages\\optuna\\study\\study.py:451\u001b[0m, in \u001b[0;36mStudy.optimize\u001b[1;34m(self, func, n_trials, timeout, n_jobs, catch, callbacks, gc_after_trial, show_progress_bar)\u001b[0m\n\u001b[0;32m    348\u001b[0m \u001b[38;5;28;01mdef\u001b[39;00m \u001b[38;5;21moptimize\u001b[39m(\n\u001b[0;32m    349\u001b[0m     \u001b[38;5;28mself\u001b[39m,\n\u001b[0;32m    350\u001b[0m     func: ObjectiveFuncType,\n\u001b[1;32m   (...)\u001b[0m\n\u001b[0;32m    357\u001b[0m     show_progress_bar: \u001b[38;5;28mbool\u001b[39m \u001b[38;5;241m=\u001b[39m \u001b[38;5;28;01mFalse\u001b[39;00m,\n\u001b[0;32m    358\u001b[0m ) \u001b[38;5;241m-\u001b[39m\u001b[38;5;241m>\u001b[39m \u001b[38;5;28;01mNone\u001b[39;00m:\n\u001b[0;32m    359\u001b[0m     \u001b[38;5;124;03m\"\"\"Optimize an objective function.\u001b[39;00m\n\u001b[0;32m    360\u001b[0m \n\u001b[0;32m    361\u001b[0m \u001b[38;5;124;03m    Optimization is done by choosing a suitable set of hyperparameter values from a given\u001b[39;00m\n\u001b[1;32m   (...)\u001b[0m\n\u001b[0;32m    449\u001b[0m \u001b[38;5;124;03m            If nested invocation of this method occurs.\u001b[39;00m\n\u001b[0;32m    450\u001b[0m \u001b[38;5;124;03m    \"\"\"\u001b[39;00m\n\u001b[1;32m--> 451\u001b[0m     \u001b[43m_optimize\u001b[49m\u001b[43m(\u001b[49m\n\u001b[0;32m    452\u001b[0m \u001b[43m        \u001b[49m\u001b[43mstudy\u001b[49m\u001b[38;5;241;43m=\u001b[39;49m\u001b[38;5;28;43mself\u001b[39;49m\u001b[43m,\u001b[49m\n\u001b[0;32m    453\u001b[0m \u001b[43m        \u001b[49m\u001b[43mfunc\u001b[49m\u001b[38;5;241;43m=\u001b[39;49m\u001b[43mfunc\u001b[49m\u001b[43m,\u001b[49m\n\u001b[0;32m    454\u001b[0m \u001b[43m        \u001b[49m\u001b[43mn_trials\u001b[49m\u001b[38;5;241;43m=\u001b[39;49m\u001b[43mn_trials\u001b[49m\u001b[43m,\u001b[49m\n\u001b[0;32m    455\u001b[0m \u001b[43m        \u001b[49m\u001b[43mtimeout\u001b[49m\u001b[38;5;241;43m=\u001b[39;49m\u001b[43mtimeout\u001b[49m\u001b[43m,\u001b[49m\n\u001b[0;32m    456\u001b[0m \u001b[43m        \u001b[49m\u001b[43mn_jobs\u001b[49m\u001b[38;5;241;43m=\u001b[39;49m\u001b[43mn_jobs\u001b[49m\u001b[43m,\u001b[49m\n\u001b[0;32m    457\u001b[0m \u001b[43m        \u001b[49m\u001b[43mcatch\u001b[49m\u001b[38;5;241;43m=\u001b[39;49m\u001b[38;5;28;43mtuple\u001b[39;49m\u001b[43m(\u001b[49m\u001b[43mcatch\u001b[49m\u001b[43m)\u001b[49m\u001b[43m \u001b[49m\u001b[38;5;28;43;01mif\u001b[39;49;00m\u001b[43m \u001b[49m\u001b[38;5;28;43misinstance\u001b[39;49m\u001b[43m(\u001b[49m\u001b[43mcatch\u001b[49m\u001b[43m,\u001b[49m\u001b[43m \u001b[49m\u001b[43mIterable\u001b[49m\u001b[43m)\u001b[49m\u001b[43m \u001b[49m\u001b[38;5;28;43;01melse\u001b[39;49;00m\u001b[43m \u001b[49m\u001b[43m(\u001b[49m\u001b[43mcatch\u001b[49m\u001b[43m,\u001b[49m\u001b[43m)\u001b[49m\u001b[43m,\u001b[49m\n\u001b[0;32m    458\u001b[0m \u001b[43m        \u001b[49m\u001b[43mcallbacks\u001b[49m\u001b[38;5;241;43m=\u001b[39;49m\u001b[43mcallbacks\u001b[49m\u001b[43m,\u001b[49m\n\u001b[0;32m    459\u001b[0m \u001b[43m        \u001b[49m\u001b[43mgc_after_trial\u001b[49m\u001b[38;5;241;43m=\u001b[39;49m\u001b[43mgc_after_trial\u001b[49m\u001b[43m,\u001b[49m\n\u001b[0;32m    460\u001b[0m \u001b[43m        \u001b[49m\u001b[43mshow_progress_bar\u001b[49m\u001b[38;5;241;43m=\u001b[39;49m\u001b[43mshow_progress_bar\u001b[49m\u001b[43m,\u001b[49m\n\u001b[0;32m    461\u001b[0m \u001b[43m    \u001b[49m\u001b[43m)\u001b[49m\n",
      "File \u001b[1;32mc:\\Users\\joalf\\AppData\\Local\\Programs\\Python\\Python310\\lib\\site-packages\\optuna\\study\\_optimize.py:103\u001b[0m, in \u001b[0;36m_optimize\u001b[1;34m(study, func, n_trials, timeout, n_jobs, catch, callbacks, gc_after_trial, show_progress_bar)\u001b[0m\n\u001b[0;32m    101\u001b[0m                     \u001b[38;5;66;03m# Raise if exception occurred in executing the completed futures.\u001b[39;00m\n\u001b[0;32m    102\u001b[0m                     \u001b[38;5;28;01mfor\u001b[39;00m f \u001b[38;5;129;01min\u001b[39;00m completed:\n\u001b[1;32m--> 103\u001b[0m                         \u001b[43mf\u001b[49m\u001b[38;5;241;43m.\u001b[39;49m\u001b[43mresult\u001b[49m\u001b[43m(\u001b[49m\u001b[43m)\u001b[49m\n\u001b[0;32m    105\u001b[0m                 futures\u001b[38;5;241m.\u001b[39madd(\n\u001b[0;32m    106\u001b[0m                     executor\u001b[38;5;241m.\u001b[39msubmit(\n\u001b[0;32m    107\u001b[0m                         _optimize_sequential,\n\u001b[1;32m   (...)\u001b[0m\n\u001b[0;32m    118\u001b[0m                     )\n\u001b[0;32m    119\u001b[0m                 )\n\u001b[0;32m    120\u001b[0m \u001b[38;5;28;01mfinally\u001b[39;00m:\n",
      "File \u001b[1;32mc:\\Users\\joalf\\AppData\\Local\\Programs\\Python\\Python310\\lib\\concurrent\\futures\\_base.py:439\u001b[0m, in \u001b[0;36mFuture.result\u001b[1;34m(self, timeout)\u001b[0m\n\u001b[0;32m    437\u001b[0m     \u001b[38;5;28;01mraise\u001b[39;00m CancelledError()\n\u001b[0;32m    438\u001b[0m \u001b[38;5;28;01melif\u001b[39;00m \u001b[38;5;28mself\u001b[39m\u001b[38;5;241m.\u001b[39m_state \u001b[38;5;241m==\u001b[39m FINISHED:\n\u001b[1;32m--> 439\u001b[0m     \u001b[38;5;28;01mreturn\u001b[39;00m \u001b[38;5;28;43mself\u001b[39;49m\u001b[38;5;241;43m.\u001b[39;49m\u001b[43m__get_result\u001b[49m\u001b[43m(\u001b[49m\u001b[43m)\u001b[49m\n\u001b[0;32m    441\u001b[0m \u001b[38;5;28mself\u001b[39m\u001b[38;5;241m.\u001b[39m_condition\u001b[38;5;241m.\u001b[39mwait(timeout)\n\u001b[0;32m    443\u001b[0m \u001b[38;5;28;01mif\u001b[39;00m \u001b[38;5;28mself\u001b[39m\u001b[38;5;241m.\u001b[39m_state \u001b[38;5;129;01min\u001b[39;00m [CANCELLED, CANCELLED_AND_NOTIFIED]:\n",
      "File \u001b[1;32mc:\\Users\\joalf\\AppData\\Local\\Programs\\Python\\Python310\\lib\\concurrent\\futures\\_base.py:391\u001b[0m, in \u001b[0;36mFuture.__get_result\u001b[1;34m(self)\u001b[0m\n\u001b[0;32m    389\u001b[0m \u001b[38;5;28;01mif\u001b[39;00m \u001b[38;5;28mself\u001b[39m\u001b[38;5;241m.\u001b[39m_exception:\n\u001b[0;32m    390\u001b[0m     \u001b[38;5;28;01mtry\u001b[39;00m:\n\u001b[1;32m--> 391\u001b[0m         \u001b[38;5;28;01mraise\u001b[39;00m \u001b[38;5;28mself\u001b[39m\u001b[38;5;241m.\u001b[39m_exception\n\u001b[0;32m    392\u001b[0m     \u001b[38;5;28;01mfinally\u001b[39;00m:\n\u001b[0;32m    393\u001b[0m         \u001b[38;5;66;03m# Break a reference cycle with the exception in self._exception\u001b[39;00m\n\u001b[0;32m    394\u001b[0m         \u001b[38;5;28mself\u001b[39m \u001b[38;5;241m=\u001b[39m \u001b[38;5;28;01mNone\u001b[39;00m\n",
      "File \u001b[1;32mc:\\Users\\joalf\\AppData\\Local\\Programs\\Python\\Python310\\lib\\concurrent\\futures\\thread.py:58\u001b[0m, in \u001b[0;36m_WorkItem.run\u001b[1;34m(self)\u001b[0m\n\u001b[0;32m     55\u001b[0m     \u001b[38;5;28;01mreturn\u001b[39;00m\n\u001b[0;32m     57\u001b[0m \u001b[38;5;28;01mtry\u001b[39;00m:\n\u001b[1;32m---> 58\u001b[0m     result \u001b[38;5;241m=\u001b[39m \u001b[38;5;28mself\u001b[39m\u001b[38;5;241m.\u001b[39mfn(\u001b[38;5;241m*\u001b[39m\u001b[38;5;28mself\u001b[39m\u001b[38;5;241m.\u001b[39margs, \u001b[38;5;241m*\u001b[39m\u001b[38;5;241m*\u001b[39m\u001b[38;5;28mself\u001b[39m\u001b[38;5;241m.\u001b[39mkwargs)\n\u001b[0;32m     59\u001b[0m \u001b[38;5;28;01mexcept\u001b[39;00m \u001b[38;5;167;01mBaseException\u001b[39;00m \u001b[38;5;28;01mas\u001b[39;00m exc:\n\u001b[0;32m     60\u001b[0m     \u001b[38;5;28mself\u001b[39m\u001b[38;5;241m.\u001b[39mfuture\u001b[38;5;241m.\u001b[39mset_exception(exc)\n",
      "File \u001b[1;32mc:\\Users\\joalf\\AppData\\Local\\Programs\\Python\\Python310\\lib\\site-packages\\optuna\\study\\_optimize.py:163\u001b[0m, in \u001b[0;36m_optimize_sequential\u001b[1;34m(study, func, n_trials, timeout, catch, callbacks, gc_after_trial, reseed_sampler_rng, time_start, progress_bar)\u001b[0m\n\u001b[0;32m    160\u001b[0m         \u001b[38;5;28;01mbreak\u001b[39;00m\n\u001b[0;32m    162\u001b[0m \u001b[38;5;28;01mtry\u001b[39;00m:\n\u001b[1;32m--> 163\u001b[0m     frozen_trial \u001b[38;5;241m=\u001b[39m \u001b[43m_run_trial\u001b[49m\u001b[43m(\u001b[49m\u001b[43mstudy\u001b[49m\u001b[43m,\u001b[49m\u001b[43m \u001b[49m\u001b[43mfunc\u001b[49m\u001b[43m,\u001b[49m\u001b[43m \u001b[49m\u001b[43mcatch\u001b[49m\u001b[43m)\u001b[49m\n\u001b[0;32m    164\u001b[0m \u001b[38;5;28;01mfinally\u001b[39;00m:\n\u001b[0;32m    165\u001b[0m     \u001b[38;5;66;03m# The following line mitigates memory problems that can be occurred in some\u001b[39;00m\n\u001b[0;32m    166\u001b[0m     \u001b[38;5;66;03m# environments (e.g., services that use computing containers such as GitHub Actions).\u001b[39;00m\n\u001b[0;32m    167\u001b[0m     \u001b[38;5;66;03m# Please refer to the following PR for further details:\u001b[39;00m\n\u001b[0;32m    168\u001b[0m     \u001b[38;5;66;03m# https://github.com/optuna/optuna/pull/325.\u001b[39;00m\n\u001b[0;32m    169\u001b[0m     \u001b[38;5;28;01mif\u001b[39;00m gc_after_trial:\n",
      "File \u001b[1;32mc:\\Users\\joalf\\AppData\\Local\\Programs\\Python\\Python310\\lib\\site-packages\\optuna\\study\\_optimize.py:251\u001b[0m, in \u001b[0;36m_run_trial\u001b[1;34m(study, func, catch)\u001b[0m\n\u001b[0;32m    244\u001b[0m         \u001b[38;5;28;01massert\u001b[39;00m \u001b[38;5;28;01mFalse\u001b[39;00m, \u001b[38;5;124m\"\u001b[39m\u001b[38;5;124mShould not reach.\u001b[39m\u001b[38;5;124m\"\u001b[39m\n\u001b[0;32m    246\u001b[0m \u001b[38;5;28;01mif\u001b[39;00m (\n\u001b[0;32m    247\u001b[0m     frozen_trial\u001b[38;5;241m.\u001b[39mstate \u001b[38;5;241m==\u001b[39m TrialState\u001b[38;5;241m.\u001b[39mFAIL\n\u001b[0;32m    248\u001b[0m     \u001b[38;5;129;01mand\u001b[39;00m func_err \u001b[38;5;129;01mis\u001b[39;00m \u001b[38;5;129;01mnot\u001b[39;00m \u001b[38;5;28;01mNone\u001b[39;00m\n\u001b[0;32m    249\u001b[0m     \u001b[38;5;129;01mand\u001b[39;00m \u001b[38;5;129;01mnot\u001b[39;00m \u001b[38;5;28misinstance\u001b[39m(func_err, catch)\n\u001b[0;32m    250\u001b[0m ):\n\u001b[1;32m--> 251\u001b[0m     \u001b[38;5;28;01mraise\u001b[39;00m func_err\n\u001b[0;32m    252\u001b[0m \u001b[38;5;28;01mreturn\u001b[39;00m frozen_trial\n",
      "File \u001b[1;32mc:\\Users\\joalf\\AppData\\Local\\Programs\\Python\\Python310\\lib\\site-packages\\optuna\\study\\_optimize.py:200\u001b[0m, in \u001b[0;36m_run_trial\u001b[1;34m(study, func, catch)\u001b[0m\n\u001b[0;32m    198\u001b[0m \u001b[38;5;28;01mwith\u001b[39;00m get_heartbeat_thread(trial\u001b[38;5;241m.\u001b[39m_trial_id, study\u001b[38;5;241m.\u001b[39m_storage):\n\u001b[0;32m    199\u001b[0m     \u001b[38;5;28;01mtry\u001b[39;00m:\n\u001b[1;32m--> 200\u001b[0m         value_or_values \u001b[38;5;241m=\u001b[39m \u001b[43mfunc\u001b[49m\u001b[43m(\u001b[49m\u001b[43mtrial\u001b[49m\u001b[43m)\u001b[49m\n\u001b[0;32m    201\u001b[0m     \u001b[38;5;28;01mexcept\u001b[39;00m exceptions\u001b[38;5;241m.\u001b[39mTrialPruned \u001b[38;5;28;01mas\u001b[39;00m e:\n\u001b[0;32m    202\u001b[0m         \u001b[38;5;66;03m# TODO(mamu): Handle multi-objective cases.\u001b[39;00m\n\u001b[0;32m    203\u001b[0m         state \u001b[38;5;241m=\u001b[39m TrialState\u001b[38;5;241m.\u001b[39mPRUNED\n",
      "File \u001b[1;32mc:\\Users\\joalf\\OneDrive\\Documentos\\A_ITESO\\A_Octavo_Semestre\\PAP\\PAP\\functions.py:235\u001b[0m, in \u001b[0;36mQAA.optimize_montecarlo.<locals>.objective\u001b[1;34m(trial)\u001b[0m\n\u001b[0;32m    233\u001b[0m     objective_value \u001b[38;5;241m=\u001b[39m \u001b[38;5;28mself\u001b[39m\u001b[38;5;241m.\u001b[39mroy_safety_first_ratio(weights) \u001b[38;5;241m+\u001b[39m penalty\n\u001b[0;32m    234\u001b[0m \u001b[38;5;28;01melif\u001b[39;00m \u001b[38;5;28mself\u001b[39m\u001b[38;5;241m.\u001b[39moptimization_strategy \u001b[38;5;241m==\u001b[39m \u001b[38;5;124m'\u001b[39m\u001b[38;5;124mSortino Ratio\u001b[39m\u001b[38;5;124m'\u001b[39m:  \n\u001b[1;32m--> 235\u001b[0m     objective_value \u001b[38;5;241m=\u001b[39m \u001b[38;5;28;43mself\u001b[39;49m\u001b[38;5;241;43m.\u001b[39;49m\u001b[43msortino_ratio\u001b[49m\u001b[43m(\u001b[49m\u001b[43mweights\u001b[49m\u001b[43m,\u001b[49m\u001b[43m \u001b[49m\u001b[38;5;28;43mself\u001b[39;49m\u001b[38;5;241;43m.\u001b[39;49m\u001b[43mrf\u001b[49m\u001b[43m)\u001b[49m \u001b[38;5;241m+\u001b[39m penalty\n\u001b[0;32m    236\u001b[0m \u001b[38;5;28;01melif\u001b[39;00m \u001b[38;5;28mself\u001b[39m\u001b[38;5;241m.\u001b[39moptimization_strategy \u001b[38;5;241m==\u001b[39m \u001b[38;5;124m'\u001b[39m\u001b[38;5;124mFama French\u001b[39m\u001b[38;5;124m'\u001b[39m:\n\u001b[0;32m    237\u001b[0m     objective_value \u001b[38;5;241m=\u001b[39m \u001b[38;5;28mself\u001b[39m\u001b[38;5;241m.\u001b[39mfama_french(weights) \u001b[38;5;241m+\u001b[39m penalty\n",
      "\u001b[1;31mTypeError\u001b[0m: QAA.sortino_ratio() takes 2 positional arguments but 3 were given"
     ]
    }
   ],
   "source": [
    "strategies = [\"Sortino Ratio\"]\n",
    "\n",
    "for strategy in strategies:\n",
    "    QAA_instance.set_optimization_strategy(strategy)\n",
    "    for model in optimization_models:\n",
    "        QAA_instance.set_optimization_model(model)\n",
    "        QAA_instance.optimize()\n",
    "        if QAA_instance.optimal_weights is not None:\n",
    "            print(f\"\\nOptimal weights in our class ({strategy} - {model}):\", [format(weight, '.4f') for weight in QAA_instance.optimal_weights])\n",
    "        else:\n",
    "            print(f\"\\nOptimization for {strategy} with {model} did not converge or is not implemented.\")"
   ]
  },
  {
   "cell_type": "markdown",
   "metadata": {},
   "source": [
    "## FAMMA - FRENCH"
   ]
  },
  {
   "cell_type": "code",
   "execution_count": 7,
   "metadata": {},
   "outputs": [
    {
     "name": "stderr",
     "output_type": "stream",
     "text": [
      "[*********************100%%**********************]  4 of 4 completed\n"
     ]
    },
    {
     "name": "stdout",
     "output_type": "stream",
     "text": [
      "Pesos óptimos: [0.55094848 0.1        0.1        0.24905152]\n"
     ]
    }
   ],
   "source": [
    "import pandas_datareader.data as web\n",
    "tickers = [\"ABBV\", \"MET\", \"OXY\", \"PERI\"]\n",
    "start_date = \"2020-01-02\"\n",
    "end_date = \"2024-01-24\"\n",
    "\n",
    "\n",
    "data = yf.download(tickers=tickers, start=start_date, end=end_date)[\"Adj Close\"]\n",
    "returns = data.pct_change().dropna()\n",
    "\n",
    "\n",
    "ff_data = web.DataReader('F-F_Research_Data_Factors_daily', 'famafrench', start=start_date, end=end_date)[0]\n",
    "ff_returns = ff_data[['Mkt-RF', 'SMB', 'HML']].loc[returns.index]\n",
    "\n",
    "def fama_french(returns, ff_returns, ff_data, weights):\n",
    "    \"\"\"Optimizes the objective function using Fama-French factors.\"\"\"\n",
    "    all_returns = pd.concat([returns, ff_returns], axis=1)\n",
    "    risk_free_rate = ff_data['RF'].mean()\n",
    "    ff_weights = np.append(weights, np.zeros(3))  \n",
    "    portfolio_returns = np.dot(all_returns, ff_weights)\n",
    "    ff_covariance = np.cov(all_returns.T)\n",
    "    portfolio_volatility = np.sqrt(np.dot(ff_weights.T, np.dot(ff_covariance, ff_weights)))\n",
    "    ff_ratio = (portfolio_returns.mean() * 252 - risk_free_rate) / portfolio_volatility\n",
    "    return -ff_ratio\n",
    "\n",
    "\n",
    "objective_function = lambda weights: fama_french(returns, ff_returns, ff_data, weights)\n",
    "\n",
    "\n",
    "initial_weights = np.ones(4) / 4\n",
    "\n",
    "\n",
    "result = minimize(objective_function, initial_weights, method='SLSQP', bounds=[(0.1, 0.9)] * 4, constraints=({'type': 'eq', 'fun': lambda w: np.sum(w) - 1}))\n",
    "\n",
    "\n",
    "optimal_weights = result.x\n",
    "\n",
    "\n",
    "optimal_weights /= np.sum(optimal_weights)\n",
    "\n",
    "print(\"Pesos óptimos:\", optimal_weights)"
   ]
  },
  {
   "cell_type": "code",
   "execution_count": 5,
   "metadata": {},
   "outputs": [
    {
     "name": "stderr",
     "output_type": "stream",
     "text": [
      "[*********************100%%**********************]  5 of 5 completed\n"
     ]
    },
    {
     "name": "stdout",
     "output_type": "stream",
     "text": [
      "\n",
      "Optimal weights in our class (Fama French - SLSQP): ['0.5469', '0.1000', '0.1000', '0.2531']\n",
      "\n",
      "Optimal weights in our class (Fama French - Monte Carlo): ['0.5349', '0.1004', '0.1026', '0.2621']\n",
      "\n",
      "Optimal weights in our class (Fama French - COBYLA): ['0.5470', '0.1000', '0.1000', '0.2530']\n"
     ]
    }
   ],
   "source": [
    "tickers = [\"ABBV\", \"MET\", \"OXY\", \"PERI\"]\n",
    "optimization_models = ['SLSQP', 'Monte Carlo', 'COBYLA']\n",
    "QAA_instance = QAA(tickers=tickers, start_date='2020-01-02', end_date='2024-01-23', rf=0.02)\n",
    "\n",
    "# Define a list of strategies to optimize\n",
    "strategies = [\"Fama French\"]\n",
    "\n",
    "for strategy in strategies:\n",
    "    QAA_instance.set_optimization_strategy(strategy)\n",
    "    for model in optimization_models:\n",
    "        QAA_instance.set_optimization_model(model)\n",
    "        QAA_instance.optimize()\n",
    "        if QAA_instance.optimal_weights is not None:\n",
    "            print(f\"\\nOptimal weights in our class ({strategy} - {model}):\", [format(weight, '.4f') for weight in QAA_instance.optimal_weights])\n",
    "        else:\n",
    "            print(f\"\\nOptimization for {strategy} with {model} did not converge or is not implemented.\")"
   ]
  },
  {
   "cell_type": "markdown",
   "metadata": {},
   "source": [
    "### CVaR"
   ]
  },
  {
   "cell_type": "code",
   "execution_count": null,
   "metadata": {},
   "outputs": [],
   "source": []
  },
  {
   "cell_type": "code",
   "execution_count": 2,
   "metadata": {},
   "outputs": [
    {
     "name": "stderr",
     "output_type": "stream",
     "text": [
      "[*********************100%%**********************]  5 of 5 completed\n",
      "c:\\Users\\joalf\\OneDrive\\Documentos\\A_ITESO\\A_Octavo_Semestre\\PAP\\PAP\\functions.py:139: FutureWarning: The argument 'date_parser' is deprecated and will be removed in a future version. Please use 'date_format' instead, or read your data in as 'object' dtype and then call 'to_datetime'.\n",
      "  ff_data = web.DataReader('F-F_Research_Data_Factors_daily', 'famafrench', start=self.start_date, end=self.end_date)[0]\n"
     ]
    },
    {
     "ename": "UnboundLocalError",
     "evalue": "local variable 'objective' referenced before assignment",
     "output_type": "error",
     "traceback": [
      "\u001b[1;31m---------------------------------------------------------------------------\u001b[0m",
      "\u001b[1;31mUnboundLocalError\u001b[0m                         Traceback (most recent call last)",
      "Input \u001b[1;32mIn [2]\u001b[0m, in \u001b[0;36m<cell line: 8>\u001b[1;34m()\u001b[0m\n\u001b[0;32m     10\u001b[0m \u001b[38;5;28;01mfor\u001b[39;00m model \u001b[38;5;129;01min\u001b[39;00m optimization_models:\n\u001b[0;32m     11\u001b[0m     QAA_instance\u001b[38;5;241m.\u001b[39mset_optimization_model(model)\n\u001b[1;32m---> 12\u001b[0m     \u001b[43mQAA_instance\u001b[49m\u001b[38;5;241;43m.\u001b[39;49m\u001b[43moptimize\u001b[49m\u001b[43m(\u001b[49m\u001b[43m)\u001b[49m\n\u001b[0;32m     13\u001b[0m     \u001b[38;5;28;01mif\u001b[39;00m QAA_instance\u001b[38;5;241m.\u001b[39moptimal_weights \u001b[38;5;129;01mis\u001b[39;00m \u001b[38;5;129;01mnot\u001b[39;00m \u001b[38;5;28;01mNone\u001b[39;00m:\n\u001b[0;32m     14\u001b[0m         \u001b[38;5;28mprint\u001b[39m(\u001b[38;5;124mf\u001b[39m\u001b[38;5;124m\"\u001b[39m\u001b[38;5;130;01m\\n\u001b[39;00m\u001b[38;5;124mOptimal weights in our class (\u001b[39m\u001b[38;5;132;01m{\u001b[39;00mstrategy\u001b[38;5;132;01m}\u001b[39;00m\u001b[38;5;124m - \u001b[39m\u001b[38;5;132;01m{\u001b[39;00mmodel\u001b[38;5;132;01m}\u001b[39;00m\u001b[38;5;124m):\u001b[39m\u001b[38;5;124m\"\u001b[39m, [\u001b[38;5;28mformat\u001b[39m(weight, \u001b[38;5;124m'\u001b[39m\u001b[38;5;124m.4f\u001b[39m\u001b[38;5;124m'\u001b[39m) \u001b[38;5;28;01mfor\u001b[39;00m weight \u001b[38;5;129;01min\u001b[39;00m QAA_instance\u001b[38;5;241m.\u001b[39moptimal_weights])\n",
      "File \u001b[1;32mc:\\Users\\joalf\\OneDrive\\Documentos\\A_ITESO\\A_Octavo_Semestre\\PAP\\PAP\\functions.py:438\u001b[0m, in \u001b[0;36mQAA.optimize\u001b[1;34m(self)\u001b[0m\n\u001b[0;32m    436\u001b[0m \u001b[38;5;66;03m# Execute the selected optimization model\u001b[39;00m\n\u001b[0;32m    437\u001b[0m \u001b[38;5;28;01mif\u001b[39;00m \u001b[38;5;28mself\u001b[39m\u001b[38;5;241m.\u001b[39moptimization_model \u001b[38;5;241m==\u001b[39m \u001b[38;5;124m'\u001b[39m\u001b[38;5;124mSLSQP\u001b[39m\u001b[38;5;124m'\u001b[39m:\n\u001b[1;32m--> 438\u001b[0m     \u001b[38;5;28;43mself\u001b[39;49m\u001b[38;5;241;43m.\u001b[39;49m\u001b[43moptimize_slsqp\u001b[49m\u001b[43m(\u001b[49m\u001b[43m)\u001b[49m\n\u001b[0;32m    439\u001b[0m \u001b[38;5;28;01melif\u001b[39;00m \u001b[38;5;28mself\u001b[39m\u001b[38;5;241m.\u001b[39moptimization_model \u001b[38;5;241m==\u001b[39m \u001b[38;5;124m'\u001b[39m\u001b[38;5;124mMonte Carlo\u001b[39m\u001b[38;5;124m'\u001b[39m:\n\u001b[0;32m    440\u001b[0m     \u001b[38;5;28mself\u001b[39m\u001b[38;5;241m.\u001b[39moptimize_montecarlo()\n",
      "File \u001b[1;32mc:\\Users\\joalf\\OneDrive\\Documentos\\A_ITESO\\A_Octavo_Semestre\\PAP\\PAP\\functions.py:197\u001b[0m, in \u001b[0;36mQAA.optimize_slsqp\u001b[1;34m(self)\u001b[0m\n\u001b[0;32m    194\u001b[0m constraints \u001b[38;5;241m=\u001b[39m ({\u001b[38;5;124m'\u001b[39m\u001b[38;5;124mtype\u001b[39m\u001b[38;5;124m'\u001b[39m: \u001b[38;5;124m'\u001b[39m\u001b[38;5;124meq\u001b[39m\u001b[38;5;124m'\u001b[39m, \u001b[38;5;124m'\u001b[39m\u001b[38;5;124mfun\u001b[39m\u001b[38;5;124m'\u001b[39m: \u001b[38;5;28;01mlambda\u001b[39;00m x: np\u001b[38;5;241m.\u001b[39msum(x) \u001b[38;5;241m-\u001b[39m \u001b[38;5;241m1\u001b[39m})\n\u001b[0;32m    195\u001b[0m bounds \u001b[38;5;241m=\u001b[39m [(\u001b[38;5;28mself\u001b[39m\u001b[38;5;241m.\u001b[39mlower_bound, \u001b[38;5;28mself\u001b[39m\u001b[38;5;241m.\u001b[39mhigher_bound) \u001b[38;5;28;01mfor\u001b[39;00m _ \u001b[38;5;129;01min\u001b[39;00m \u001b[38;5;28mself\u001b[39m\u001b[38;5;241m.\u001b[39mtickers]\n\u001b[1;32m--> 197\u001b[0m result \u001b[38;5;241m=\u001b[39m minimize(\u001b[43mobjective\u001b[49m, np\u001b[38;5;241m.\u001b[39mones(\u001b[38;5;28mlen\u001b[39m(\u001b[38;5;28mself\u001b[39m\u001b[38;5;241m.\u001b[39mtickers)) \u001b[38;5;241m/\u001b[39m \u001b[38;5;28mlen\u001b[39m(\u001b[38;5;28mself\u001b[39m\u001b[38;5;241m.\u001b[39mtickers), method\u001b[38;5;241m=\u001b[39m\u001b[38;5;124m'\u001b[39m\u001b[38;5;124mSLSQP\u001b[39m\u001b[38;5;124m'\u001b[39m, bounds\u001b[38;5;241m=\u001b[39mbounds, constraints\u001b[38;5;241m=\u001b[39mconstraints)\n\u001b[0;32m    198\u001b[0m \u001b[38;5;28mself\u001b[39m\u001b[38;5;241m.\u001b[39moptimal_weights \u001b[38;5;241m=\u001b[39m result\u001b[38;5;241m.\u001b[39mx \u001b[38;5;28;01mif\u001b[39;00m result\u001b[38;5;241m.\u001b[39msuccess \u001b[38;5;28;01melse\u001b[39;00m \u001b[38;5;28;01mNone\u001b[39;00m\n",
      "\u001b[1;31mUnboundLocalError\u001b[0m: local variable 'objective' referenced before assignment"
     ]
    }
   ],
   "source": [
    "tickers = [\"ABBV\", \"MET\", \"OXY\", \"PERI\"]\n",
    "optimization_models = ['SLSQP', 'Monte Carlo', 'COBYLA']\n",
    "QAA_instance = QAA(tickers=tickers, start_date='2020-01-02', end_date='2024-01-23', rf=0.02)\n",
    "\n",
    "# Define a list of strategies to optimize\n",
    "strategies = [\"CVaR\"]\n",
    "\n",
    "for strategy in strategies:\n",
    "    QAA_instance.set_optimization_strategy(strategy)\n",
    "    for model in optimization_models:\n",
    "        QAA_instance.set_optimization_model(model)\n",
    "        QAA_instance.optimize()\n",
    "        if QAA_instance.optimal_weights is not None:\n",
    "            print(f\"\\nOptimal weights in our class ({strategy} - {model}):\", [format(weight, '.4f') for weight in QAA_instance.optimal_weights])\n",
    "        else:\n",
    "            print(f\"\\nOptimization for {strategy} with {model} did not converge or is not implemented.\")"
   ]
  },
  {
   "cell_type": "code",
   "execution_count": null,
   "metadata": {},
   "outputs": [],
   "source": []
  },
  {
   "cell_type": "code",
   "execution_count": null,
   "metadata": {},
   "outputs": [],
   "source": []
  }
 ],
 "metadata": {
  "kernelspec": {
   "display_name": "Python 3",
   "language": "python",
   "name": "python3"
  },
  "language_info": {
   "codemirror_mode": {
    "name": "ipython",
    "version": 3
   },
   "file_extension": ".py",
   "mimetype": "text/x-python",
   "name": "python",
   "nbconvert_exporter": "python",
   "pygments_lexer": "ipython3",
   "version": "3.10.4"
  }
 },
 "nbformat": 4,
 "nbformat_minor": 2
}
