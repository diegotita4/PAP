{
 "cells": [
  {
   "cell_type": "markdown",
   "id": "8c60f38d",
   "metadata": {},
   "source": [
    " "
   ]
  },
  {
   "cell_type": "markdown",
   "id": "c003101a",
   "metadata": {},
   "source": [
    "# ----------------------------------------------------------------------------------------------------"
   ]
  },
  {
   "cell_type": "markdown",
   "id": "3a3ba59c",
   "metadata": {},
   "source": [
    " "
   ]
  },
  {
   "cell_type": "markdown",
   "id": "b9c7be06",
   "metadata": {},
   "source": [
    "# EXAMPE USAGE (main.py)"
   ]
  },
  {
   "cell_type": "markdown",
   "id": "ccf52f21",
   "metadata": {},
   "source": [
    " "
   ]
  },
  {
   "cell_type": "code",
   "execution_count": 1,
   "id": "1cef157e",
   "metadata": {},
   "outputs": [],
   "source": [
    "# LIBRARIES\n",
    "import numpy as np\n",
    "import pandas as pd\n",
    "import yfinance as yf\n",
    "import matplotlib.pyplot as plt\n",
    "from functions import QAA\n",
    "from datetime import datetime\n",
    "from scipy.optimize import minimize\n",
    "from scipy.spatial.distance import squareform\n",
    "from scipy.cluster.hierarchy import linkage, dendrogram, leaves_list"
   ]
  },
  {
   "cell_type": "markdown",
   "id": "2e8bfcb0",
   "metadata": {},
   "source": [
    " "
   ]
  },
  {
   "cell_type": "markdown",
   "id": "16ae4b4c",
   "metadata": {},
   "source": [
    "# ----------------------------------------------------------------------------------------------------"
   ]
  },
  {
   "cell_type": "markdown",
   "id": "54def241",
   "metadata": {},
   "source": [
    " "
   ]
  },
  {
   "cell_type": "code",
   "execution_count": 2,
   "id": "f908a3c7",
   "metadata": {},
   "outputs": [
    {
     "name": "stderr",
     "output_type": "stream",
     "text": [
      "[*********************100%%**********************]  5 of 5 completed\n"
     ]
    },
    {
     "name": "stdout",
     "output_type": "stream",
     "text": [
      "Error: Error in QAA strategy selection: Error in optimization model selection: Error in SLSQP optimization: shapes (5,) and (4,) not aligned: 5 (dim 0) != 4 (dim 0)\n"
     ]
    }
   ],
   "source": [
    "# EXAMPLE\n",
    "qaa_instance = QAA(\n",
    "    tickers=[\"ABBV\", \"MET\", \"OXY\", \"PERI\"],\n",
    "    benchmark=\"SPY\",\n",
    "    rf=0.02,\n",
    "    lower_bound=0.10,\n",
    "    higher_bound=0.90,\n",
    "    start_date=\"2020-01-02\",\n",
    "    end_date=\"2024-01-23\",\n",
    "    expected_returns=np.array([.15, .1, .1, .1]),\n",
    "    opinions=np.array([[1, 0, 0, 0], [0, 1, -3, 0], [0, 0, 1, -1], [0, 0, 0, 0]]),\n",
    "    MAR=0.2,\n",
    "    optimization_model=\"SLSQP\",\n",
    "    # optimization_model=\"MONTECARLO\",\n",
    "    #optimization_model=\"COBYLA\",\n",
    "    #optimization_model=\"PSO\",\n",
    "    # QAA_strategy=\"MIN VARIANCE\",\n",
    "    # QAA_strategy=\"MAX SHARPE RATIO\",\n",
    "    # QAA_strategy=\"OMEGA\",\n",
    "    QAA_strategy=\"SEMIVARIANCE\",\n",
    "    #QAA_strategy=\"SORTINO RATIO\",\n",
    "    #QAA_strategy=\"BLACK LITTERMAN\",\n",
    "    #QAA_strategy=\"HRP\",\n",
    "    #QAA_strategy=\"ROY SAFETY FIRST RATIO\",\n",
    "    #QAA_strategy=\"MARTINGALE\",\n",
    "    #QAA_strategy=\"ten\",\n",
    "    #QAA_strategy=\"eleven\"\n",
    ")\n",
    "\n",
    "try:\n",
    "    data, returns, std, var, cov, corr = qaa_instance.assets_metrics()\n",
    "\n",
    "    optimal_weights = qaa_instance.QAA_strategy_selection(returns=returns)\n",
    "\n",
    "    qaa_instance.portfolio_metrics(returns)\n",
    "\n",
    "except ValueError as ve:\n",
    "    print(f\"Error: {str(ve)}\")"
   ]
  },
  {
   "cell_type": "code",
   "execution_count": 5,
   "id": "7d33672e",
   "metadata": {},
   "outputs": [
    {
     "name": "stderr",
     "output_type": "stream",
     "text": [
      "[*********************100%%**********************]  5 of 5 completed\n"
     ]
    },
    {
     "data": {
      "text/html": [
       "<div>\n",
       "<style scoped>\n",
       "    .dataframe tbody tr th:only-of-type {\n",
       "        vertical-align: middle;\n",
       "    }\n",
       "\n",
       "    .dataframe tbody tr th {\n",
       "        vertical-align: top;\n",
       "    }\n",
       "\n",
       "    .dataframe thead th {\n",
       "        text-align: right;\n",
       "    }\n",
       "</style>\n",
       "<table border=\"1\" class=\"dataframe\">\n",
       "  <thead>\n",
       "    <tr style=\"text-align: right;\">\n",
       "      <th>Ticker</th>\n",
       "      <th>ABBV</th>\n",
       "      <th>MET</th>\n",
       "      <th>OXY</th>\n",
       "      <th>PERI</th>\n",
       "      <th>SPY</th>\n",
       "    </tr>\n",
       "    <tr>\n",
       "      <th>Ticker</th>\n",
       "      <th></th>\n",
       "      <th></th>\n",
       "      <th></th>\n",
       "      <th></th>\n",
       "      <th></th>\n",
       "    </tr>\n",
       "  </thead>\n",
       "  <tbody>\n",
       "    <tr>\n",
       "      <th>ABBV</th>\n",
       "      <td>1.000000</td>\n",
       "      <td>0.423931</td>\n",
       "      <td>0.279663</td>\n",
       "      <td>0.178136</td>\n",
       "      <td>0.508711</td>\n",
       "    </tr>\n",
       "    <tr>\n",
       "      <th>MET</th>\n",
       "      <td>0.423931</td>\n",
       "      <td>1.000000</td>\n",
       "      <td>0.567602</td>\n",
       "      <td>0.338079</td>\n",
       "      <td>0.733243</td>\n",
       "    </tr>\n",
       "    <tr>\n",
       "      <th>OXY</th>\n",
       "      <td>0.279663</td>\n",
       "      <td>0.567602</td>\n",
       "      <td>1.000000</td>\n",
       "      <td>0.254200</td>\n",
       "      <td>0.472604</td>\n",
       "    </tr>\n",
       "    <tr>\n",
       "      <th>PERI</th>\n",
       "      <td>0.178136</td>\n",
       "      <td>0.338079</td>\n",
       "      <td>0.254200</td>\n",
       "      <td>1.000000</td>\n",
       "      <td>0.458031</td>\n",
       "    </tr>\n",
       "    <tr>\n",
       "      <th>SPY</th>\n",
       "      <td>0.508711</td>\n",
       "      <td>0.733243</td>\n",
       "      <td>0.472604</td>\n",
       "      <td>0.458031</td>\n",
       "      <td>1.000000</td>\n",
       "    </tr>\n",
       "  </tbody>\n",
       "</table>\n",
       "</div>"
      ],
      "text/plain": [
       "Ticker      ABBV       MET       OXY      PERI       SPY\n",
       "Ticker                                                  \n",
       "ABBV    1.000000  0.423931  0.279663  0.178136  0.508711\n",
       "MET     0.423931  1.000000  0.567602  0.338079  0.733243\n",
       "OXY     0.279663  0.567602  1.000000  0.254200  0.472604\n",
       "PERI    0.178136  0.338079  0.254200  1.000000  0.458031\n",
       "SPY     0.508711  0.733243  0.472604  0.458031  1.000000"
      ]
     },
     "execution_count": 5,
     "metadata": {},
     "output_type": "execute_result"
    }
   ],
   "source": [
    "data, returns, std, var, cov, corr= qaa_instance.assets_metrics()\n",
    "corr"
   ]
  },
  {
   "cell_type": "markdown",
   "id": "0c25f857",
   "metadata": {},
   "source": [
    " "
   ]
  },
  {
   "cell_type": "markdown",
   "id": "3adcf9d3",
   "metadata": {},
   "source": [
    "# ----------------------------------------------------------------------------------------------------"
   ]
  },
  {
   "cell_type": "markdown",
   "id": "b2a9b5e7",
   "metadata": {},
   "source": [
    " "
   ]
  }
 ],
 "metadata": {
  "kernelspec": {
   "display_name": "Python 3 (ipykernel)",
   "language": "python",
   "name": "python3"
  },
  "language_info": {
   "codemirror_mode": {
    "name": "ipython",
    "version": 3
   },
   "file_extension": ".py",
   "mimetype": "text/x-python",
   "name": "python",
   "nbconvert_exporter": "python",
   "pygments_lexer": "ipython3",
   "version": "3.10.4"
  }
 },
 "nbformat": 4,
 "nbformat_minor": 5
}
