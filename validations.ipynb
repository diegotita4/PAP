{
 "cells": [
  {
   "cell_type": "markdown",
   "metadata": {},
   "source": [
    "## IMPORT QAA FUNCTION AND VALUES TO VALIDATE STRATEGIES....."
   ]
  },
  {
   "cell_type": "code",
   "metadata": {
    "ExecuteTime": {
     "end_time": "2024-04-15T02:22:23.651348Z",
     "start_time": "2024-04-15T02:21:48.358502Z"
    }
   },
   "source": [
    "from functions import QAA\n",
    "from backtest import backtesting_dinamico, plot_portfolio_value\n",
    "import numpy as np\n",
    "import pandas as pd\n",
    "import yfinance as yf\n",
    "import matplotlib.pyplot as plt\n",
    "from datetime import datetime\n",
    "from scipy.optimize import minimize\n",
    "from scipy.spatial.distance import squareform\n",
    "from scipy.cluster.hierarchy import linkage, dendrogram, leaves_list\n",
    "from matplotlib.lines import Line2D\n",
    "import optuna\n",
    "import warnings\n",
    "import logging\n",
    "from pypfopt import EfficientFrontier, risk_models, expected_returns\n",
    "from pypfopt.efficient_frontier import EfficientCVaR\n",
    "import yfinance as yf\n",
    "import seaborn as sns\n",
    "from scipy.cluster.hierarchy import dendrogram, linkage, leaves_list\n",
    "from scipy.spatial.distance import squareform\n",
    "from pypfopt.hierarchical_portfolio import HRPOpt\n",
    "optuna.logging.set_verbosity(optuna.logging.WARNING)\n",
    "warnings.filterwarnings('ignore', message='A new study created in memory with name:')\n",
    "warnings.filterwarnings('ignore', message='Method COBYLA cannot handle bounds.')\n",
    "\n",
    "\n",
    "tickers = [\"ABBV\", \"MET\", \"OXY\", \"PERI\"]\n",
    "optimization_models = ['SLSQP', 'Monte Carlo', 'COBYLA']\n",
    "\n",
    "QAA_instance = QAA(tickers=tickers, start_date='2020-01-02', end_date='2024-01-23', rf=0.02)\n"
   ],
   "outputs": [
    {
     "name": "stderr",
     "output_type": "stream",
     "text": [
      "[*********************100%%**********************]  5 of 5 completed\n",
      "C:\\Users\\J3SVS\\OneDrive - ITESO\\ITESO\\Noveno Semestre\\PAP Nico\\GitPAP\\functions.py:274: FutureWarning: The argument 'date_parser' is deprecated and will be removed in a future version. Please use 'date_format' instead, or read your data in as 'object' dtype and then call 'to_datetime'.\n",
      "  ff_data = web.DataReader('F-F_Research_Data_Factors_daily', 'famafrench', start=self.start_date, end=self.end_date)[0]\n"
     ]
    }
   ],
   "execution_count": 1
  },
  {
   "cell_type": "markdown",
   "metadata": {},
   "source": [
    "## Minimum Variance"
   ]
  },
  {
   "cell_type": "code",
   "metadata": {
    "ExecuteTime": {
     "end_time": "2024-04-15T02:22:49.885422Z",
     "start_time": "2024-04-15T02:22:23.651348Z"
    }
   },
   "source": [
    "from pypfopt import expected_returns, risk_models, EfficientFrontier\n",
    "\n",
    "# Obtén los datos históricos de precios\n",
    "historical_data = QAA_instance.data\n",
    "\n",
    "# Calcula el rendimiento esperado y la matriz de covarianza\n",
    "mu = expected_returns.mean_historical_return(historical_data)\n",
    "S = risk_models.sample_cov(historical_data)\n",
    "\n",
    "# Optimiza para la mínima varianza usando PyPortfolioOpt\n",
    "ef = EfficientFrontier(mu, S, weight_bounds=(0.10,1))\n",
    "weights_pypfopt = ef.min_volatility()\n",
    "ef.portfolio_performance(verbose=True)\n",
    "\n",
    "# Compara los pesos óptimos\n",
    "print(\"\\nOptimal weights (Library: PyPortfolioOpt):\")\n",
    "print(weights_pypfopt)\n",
    "\n",
    "# Define a list of strategies to optimize\n",
    "strategies = ['Minimum Variance']\n",
    "\n",
    "for strategy in strategies:\n",
    "    QAA_instance.set_optimization_strategy(strategy)\n",
    "    for model in optimization_models:\n",
    "        QAA_instance.set_optimization_model(model)\n",
    "        QAA_instance.optimize()\n",
    "        if QAA_instance.optimal_weights is not None:\n",
    "            print(f\"\\nOptimal weights in our class ({strategy} - {model}):\", [format(weight, '.4f') for weight in QAA_instance.optimal_weights])\n",
    "        else:\n",
    "            print(f\"\\nOptimization for {strategy} with {model} did not converge or is not implemented.\")\n"
   ],
   "outputs": [
    {
     "name": "stdout",
     "output_type": "stream",
     "text": [
      "Expected annual return: 21.9%\n",
      "Annual volatility: 25.3%\n",
      "Sharpe Ratio: 0.79\n",
      "\n",
      "Optimal weights (Library: PyPortfolioOpt):\n",
      "OrderedDict({'ABBV': 0.7, 'MET': 0.1, 'OXY': 0.1, 'PERI': 0.1})\n",
      "\n",
      "Optimal weights in our class (Minimum Variance - SLSQP): ['0.7000', '0.1000', '0.1000', '0.1000']\n",
      "\n",
      "Optimal weights in our class (Minimum Variance - Monte Carlo): ['0.6722', '0.1172', '0.1044', '0.1063']\n",
      "\n",
      "Optimal weights in our class (Minimum Variance - COBYLA): ['0.6970', '0.1010', '0.1010', '0.1010']\n"
     ]
    }
   ],
   "execution_count": 2
  },
  {
   "cell_type": "code",
   "metadata": {
    "ExecuteTime": {
     "end_time": "2024-04-15T02:22:49.897945Z",
     "start_time": "2024-04-15T02:22:49.885422Z"
    }
   },
   "source": [
    "tickers = [\"ABBV\", \"MET\", \"OXY\", \"PERI\"]\n",
    "rf = 0.02  # Tasa libre de riesgo\n",
    "optimization_strategy = 'Minimum Variance'\n",
    "optimization_model = 'SLSQP'\n",
    "valor_portafolio_inicial = 1_000_000\n",
    "frecuencias_rebalanceo_meses = 6"
   ],
   "outputs": [],
   "execution_count": 3
  },
  {
   "cell_type": "code",
   "metadata": {
    "ExecuteTime": {
     "end_time": "2024-04-15T02:23:55.209128Z",
     "start_time": "2024-04-15T02:22:49.897945Z"
    }
   },
   "source": [
    "# Realizar el backtesting\n",
    "resultados_backtesting = backtesting_dinamico(\n",
    "    tickers=tickers, \n",
    "    start_date='2020-01-02', \n",
    "    start_backtesting='2023-01-23', \n",
    "    end_date='2024-01-23', \n",
    "    frecuencias_rebalanceo_meses = [frecuencias_rebalanceo_meses] , # Ajustes cada 2, 3, 4 y 6 meses\n",
    "    rf=rf, \n",
    "    optimization_strategy=optimization_strategy, \n",
    "    optimization_model=optimization_model,\n",
    "    valor_portafolio_inicial = valor_portafolio_inicial\n",
    ")\n",
    "\n",
    "resultados_backtesting"
   ],
   "outputs": [
    {
     "name": "stderr",
     "output_type": "stream",
     "text": [
      "[*********************100%%**********************]  5 of 5 completed\n",
      "[*********************100%%**********************]  5 of 5 completed\n",
      "[*********************100%%**********************]  5 of 5 completed\n",
      "[*********************100%%**********************]  5 of 5 completed\n",
      "[*********************100%%**********************]  5 of 5 completed\n",
      "[*********************100%%**********************]  5 of 5 completed\n"
     ]
    },
    {
     "data": {
      "text/plain": [
       "  fecha_data_origen   fecha_fin  peso_ABBV  peso_MET  peso_OXY  peso_PERI  \\\n",
       "0        2020-01-02  2023-01-23        0.7       0.1       0.1        0.1   \n",
       "1        2020-01-02  2023-07-23        0.7       0.1       0.1        0.1   \n",
       "2        2020-01-02  2024-01-23        0.7       0.1       0.1        0.1   \n",
       "\n",
       "   acciones_ABBV  acciones_MET  acciones_OXY  acciones_PERI     valor_ABBV  \\\n",
       "0         4901.0        1481.0        1514.0         3358.0  698119.765213   \n",
       "1         4888.0        1633.0        1621.0         2876.0  682679.205444   \n",
       "2         4648.0        1578.0        1924.0         3650.0  761619.935303   \n",
       "\n",
       "       valor_MET      valor_OXY     valor_PERI  cash_sobrante  \\\n",
       "0   99717.630966   99748.518677   99732.602562    2681.482582   \n",
       "1   97488.475372   97523.855247   97525.159561    2648.590607   \n",
       "2  108806.273529  108774.624115  108806.498051    2915.444363   \n",
       "\n",
       "   valor_total_cartera  diff_ABBV  diff_MET  diff_OXY  diff_PERI  \n",
       "0         1.000000e+06        NaN       NaN       NaN        NaN  \n",
       "1         9.778653e+05      -13.0     152.0     107.0     -482.0  \n",
       "2         1.090923e+06     -240.0     -55.0     303.0      774.0  "
      ],
      "text/html": [
       "<div>\n",
       "<style scoped>\n",
       "    .dataframe tbody tr th:only-of-type {\n",
       "        vertical-align: middle;\n",
       "    }\n",
       "\n",
       "    .dataframe tbody tr th {\n",
       "        vertical-align: top;\n",
       "    }\n",
       "\n",
       "    .dataframe thead th {\n",
       "        text-align: right;\n",
       "    }\n",
       "</style>\n",
       "<table border=\"1\" class=\"dataframe\">\n",
       "  <thead>\n",
       "    <tr style=\"text-align: right;\">\n",
       "      <th></th>\n",
       "      <th>fecha_data_origen</th>\n",
       "      <th>fecha_fin</th>\n",
       "      <th>peso_ABBV</th>\n",
       "      <th>peso_MET</th>\n",
       "      <th>peso_OXY</th>\n",
       "      <th>peso_PERI</th>\n",
       "      <th>acciones_ABBV</th>\n",
       "      <th>acciones_MET</th>\n",
       "      <th>acciones_OXY</th>\n",
       "      <th>acciones_PERI</th>\n",
       "      <th>valor_ABBV</th>\n",
       "      <th>valor_MET</th>\n",
       "      <th>valor_OXY</th>\n",
       "      <th>valor_PERI</th>\n",
       "      <th>cash_sobrante</th>\n",
       "      <th>valor_total_cartera</th>\n",
       "      <th>diff_ABBV</th>\n",
       "      <th>diff_MET</th>\n",
       "      <th>diff_OXY</th>\n",
       "      <th>diff_PERI</th>\n",
       "    </tr>\n",
       "  </thead>\n",
       "  <tbody>\n",
       "    <tr>\n",
       "      <th>0</th>\n",
       "      <td>2020-01-02</td>\n",
       "      <td>2023-01-23</td>\n",
       "      <td>0.7</td>\n",
       "      <td>0.1</td>\n",
       "      <td>0.1</td>\n",
       "      <td>0.1</td>\n",
       "      <td>4901.0</td>\n",
       "      <td>1481.0</td>\n",
       "      <td>1514.0</td>\n",
       "      <td>3358.0</td>\n",
       "      <td>698119.765213</td>\n",
       "      <td>99717.630966</td>\n",
       "      <td>99748.518677</td>\n",
       "      <td>99732.602562</td>\n",
       "      <td>2681.482582</td>\n",
       "      <td>1.000000e+06</td>\n",
       "      <td>NaN</td>\n",
       "      <td>NaN</td>\n",
       "      <td>NaN</td>\n",
       "      <td>NaN</td>\n",
       "    </tr>\n",
       "    <tr>\n",
       "      <th>1</th>\n",
       "      <td>2020-01-02</td>\n",
       "      <td>2023-07-23</td>\n",
       "      <td>0.7</td>\n",
       "      <td>0.1</td>\n",
       "      <td>0.1</td>\n",
       "      <td>0.1</td>\n",
       "      <td>4888.0</td>\n",
       "      <td>1633.0</td>\n",
       "      <td>1621.0</td>\n",
       "      <td>2876.0</td>\n",
       "      <td>682679.205444</td>\n",
       "      <td>97488.475372</td>\n",
       "      <td>97523.855247</td>\n",
       "      <td>97525.159561</td>\n",
       "      <td>2648.590607</td>\n",
       "      <td>9.778653e+05</td>\n",
       "      <td>-13.0</td>\n",
       "      <td>152.0</td>\n",
       "      <td>107.0</td>\n",
       "      <td>-482.0</td>\n",
       "    </tr>\n",
       "    <tr>\n",
       "      <th>2</th>\n",
       "      <td>2020-01-02</td>\n",
       "      <td>2024-01-23</td>\n",
       "      <td>0.7</td>\n",
       "      <td>0.1</td>\n",
       "      <td>0.1</td>\n",
       "      <td>0.1</td>\n",
       "      <td>4648.0</td>\n",
       "      <td>1578.0</td>\n",
       "      <td>1924.0</td>\n",
       "      <td>3650.0</td>\n",
       "      <td>761619.935303</td>\n",
       "      <td>108806.273529</td>\n",
       "      <td>108774.624115</td>\n",
       "      <td>108806.498051</td>\n",
       "      <td>2915.444363</td>\n",
       "      <td>1.090923e+06</td>\n",
       "      <td>-240.0</td>\n",
       "      <td>-55.0</td>\n",
       "      <td>303.0</td>\n",
       "      <td>774.0</td>\n",
       "    </tr>\n",
       "  </tbody>\n",
       "</table>\n",
       "</div>"
      ]
     },
     "execution_count": 4,
     "metadata": {},
     "output_type": "execute_result"
    }
   ],
   "execution_count": 4
  },
  {
   "cell_type": "code",
   "metadata": {
    "ExecuteTime": {
     "end_time": "2024-04-15T02:23:59.903893Z",
     "start_time": "2024-04-15T02:23:55.209128Z"
    }
   },
   "source": [
    "plot_portfolio_value(resultados_backtesting, tickers)"
   ],
   "outputs": [
    {
     "name": "stderr",
     "output_type": "stream",
     "text": [
      "[*********************100%%**********************]  4 of 4 completed\n"
     ]
    },
    {
     "data": {
      "text/plain": [
       "<Figure size 1400x700 with 1 Axes>"
      ],
      "image/png": "[encoded data removed]"
     },
     "metadata": {},
     "output_type": "display_data"
    }
   ],
   "execution_count": 5
  },
  {
   "cell_type": "markdown",
   "metadata": {},
   "source": [
    "## Omega"
   ]
  },
  {
   "cell_type": "code",
   "metadata": {
    "ExecuteTime": {
     "end_time": "2024-04-15T02:24:54.913456Z",
     "start_time": "2024-04-15T02:23:59.903893Z"
    }
   },
   "source": [
    "# Risk-free rate\n",
    "rf = 0.02\n",
    "\n",
    "# Function to calculate the Omega Ratio\n",
    "def omega_ratio(weights, returns, rf):\n",
    "    portfolio_returns = np.dot(returns, weights)\n",
    "    excess_returns = portfolio_returns - rf\n",
    "    upside_potential = np.sum(excess_returns[excess_returns > 0])\n",
    "    downside_risk = np.sqrt(np.sum(np.square(excess_returns[excess_returns < 0])))\n",
    "    return upside_potential / downside_risk if downside_risk != 0 else np.inf\n",
    "\n",
    "# Objective function for optimization (negative of the Omega Ratio)\n",
    "def neg_omega_ratio(weights, returns, rf):\n",
    "    return omega_ratio(weights, returns, rf)\n",
    "\n",
    "# Load data and calculate returns\n",
    "tickers = [\"ABBV\", \"MET\", \"OXY\", \"PERI\"]\n",
    "data = yf.download(tickers, start='2020-01-02', end='2024-01-23')['Adj Close']\n",
    "returns = data.pct_change().dropna().values\n",
    "rf = 0.02 / 252  # Daily risk-free rate\n",
    "\n",
    "# Constraints and bounds for optimization\n",
    "constraints = ({'type': 'eq', 'fun': lambda x: np.sum(x) - 1})\n",
    "bounds = [(0.10, 1) for _ in tickers]\n",
    "\n",
    "# Optimization to maximize the Omega Ratio\n",
    "initial_weights = np.ones(len(tickers)) / len(tickers)\n",
    "result = minimize(neg_omega_ratio, initial_weights, args=(returns, rf), method='SLSQP', bounds=bounds, constraints=constraints)\n",
    "\n",
    "# Optimal weights\n",
    "optimal_weights = result.x\n",
    "print(\"Optimal weights to maximize the Omega Ratio validation:\")\n",
    "print(optimal_weights)\n",
    "\n",
    "# Instantiation of the optimized strategy\n",
    "QAA_instance = QAA(tickers=tickers, start_date='2020-01-02', end_date='2024-01-23', rf=0.02)\n",
    "\n",
    "# Define a list of strategies to optimize\n",
    "strategies = [\"Omega Ratio\"]\n",
    "\n",
    "for strategy in strategies:\n",
    "    QAA_instance.set_optimization_strategy(strategy)\n",
    "    for model in optimization_models:\n",
    "        QAA_instance.set_optimization_model(model)\n",
    "        QAA_instance.optimize()\n",
    "        if QAA_instance.optimal_weights is not None:\n",
    "            print(f\"\\nOptimal weights in our class ({strategy} - {model}):\", [format(weight, '.4f') for weight in QAA_instance.optimal_weights])\n",
    "        else:\n",
    "            print(f\"\\nOptimization for {strategy} with {model} did not converge or is not implemented.\")\n"
   ],
   "outputs": [
    {
     "name": "stderr",
     "output_type": "stream",
     "text": [
      "[*********************100%%**********************]  4 of 4 completed\n"
     ]
    },
    {
     "name": "stdout",
     "output_type": "stream",
     "text": [
      "Optimal weights to maximize the Omega Ratio validation:\n",
      "[0.1 0.1 0.7 0.1]\n"
     ]
    },
    {
     "name": "stderr",
     "output_type": "stream",
     "text": [
      "[*********************100%%**********************]  5 of 5 completed\n"
     ]
    },
    {
     "name": "stdout",
     "output_type": "stream",
     "text": [
      "\n",
      "Optimal weights in our class (Omega Ratio - SLSQP): ['0.1000', '0.1000', '0.7000', '0.1000']\n",
      "\n",
      "Optimal weights in our class (Omega Ratio - Monte Carlo): ['0.1021', '0.1021', '0.1050', '0.6908']\n",
      "\n",
      "Optimal weights in our class (Omega Ratio - COBYLA): ['0.1000', '0.1000', '0.7000', '0.1000']\n"
     ]
    }
   ],
   "execution_count": 6
  },
  {
   "cell_type": "code",
   "metadata": {
    "ExecuteTime": {
     "end_time": "2024-04-15T02:24:54.927444Z",
     "start_time": "2024-04-15T02:24:54.913456Z"
    }
   },
   "source": [
    "tickers = [\"ABBV\", \"MET\", \"OXY\", \"PERI\"]\n",
    "rf = 0.02  # Tasa libre de riesgo\n",
    "optimization_strategy = 'Omega Ratio'\n",
    "optimization_model = 'SLSQP'\n",
    "valor_portafolio_inicial = 1_000_000\n",
    "frecuencias_rebalanceo_meses = 6"
   ],
   "outputs": [],
   "execution_count": 7
  },
  {
   "cell_type": "code",
   "metadata": {
    "ExecuteTime": {
     "end_time": "2024-04-15T02:26:00.406987Z",
     "start_time": "2024-04-15T02:24:54.927444Z"
    }
   },
   "source": [
    "# Realizar el backtesting\n",
    "resultados_backtesting = backtesting_dinamico(\n",
    "    tickers=tickers, \n",
    "    start_date='2020-01-02', \n",
    "    start_backtesting='2023-01-23', \n",
    "    end_date='2024-01-23', \n",
    "    frecuencias_rebalanceo_meses = [frecuencias_rebalanceo_meses] , # Ajustes cada 2, 3, 4 y 6 meses\n",
    "    rf=rf, \n",
    "    optimization_strategy=optimization_strategy, \n",
    "    optimization_model=optimization_model,\n",
    "    valor_portafolio_inicial = valor_portafolio_inicial\n",
    ")\n",
    "\n",
    "resultados_backtesting"
   ],
   "outputs": [
    {
     "name": "stderr",
     "output_type": "stream",
     "text": [
      "[*********************100%%**********************]  5 of 5 completed\n",
      "[*********************100%%**********************]  5 of 5 completed\n",
      "[*********************100%%**********************]  5 of 5 completed\n",
      "[*********************100%%**********************]  5 of 5 completed\n",
      "[*********************100%%**********************]  5 of 5 completed\n",
      "[*********************100%%**********************]  5 of 5 completed\n"
     ]
    },
    {
     "data": {
      "text/plain": [
       "  fecha_data_origen   fecha_fin  peso_ABBV  peso_MET  peso_OXY  peso_PERI  \\\n",
       "0        2020-01-02  2023-01-23        0.1       0.1       0.7        0.1   \n",
       "1        2020-01-02  2023-07-23        0.1       0.1       0.7        0.1   \n",
       "2        2020-01-02  2024-01-23        0.1       0.1       0.7        0.1   \n",
       "\n",
       "   acciones_ABBV  acciones_MET  acciones_OXY  acciones_PERI    valor_ABBV  \\\n",
       "0          700.0        1481.0       10598.0         3358.0  99711.045837   \n",
       "1          669.0        1566.0       10882.0         2758.0  93435.431351   \n",
       "2          557.0        1323.0       11301.0         3061.0  91269.858856   \n",
       "\n",
       "      valor_MET      valor_OXY    valor_PERI  cash_sobrante  \\\n",
       "0  99717.630966  698239.630737  99732.602562    2599.089897   \n",
       "1  93488.642029  654691.297226  93523.779579    2514.950882   \n",
       "2  91223.510696  638909.577507  91248.408365    2386.751810   \n",
       "\n",
       "   valor_total_cartera  diff_ABBV  diff_MET  diff_OXY  diff_PERI  \n",
       "0       1000000.000000        NaN       NaN       NaN        NaN  \n",
       "1        937654.101067      -31.0      85.0     284.0     -600.0  \n",
       "2        915038.107235     -112.0    -243.0     419.0      303.0  "
      ],
      "text/html": [
       "<div>\n",
       "<style scoped>\n",
       "    .dataframe tbody tr th:only-of-type {\n",
       "        vertical-align: middle;\n",
       "    }\n",
       "\n",
       "    .dataframe tbody tr th {\n",
       "        vertical-align: top;\n",
       "    }\n",
       "\n",
       "    .dataframe thead th {\n",
       "        text-align: right;\n",
       "    }\n",
       "</style>\n",
       "<table border=\"1\" class=\"dataframe\">\n",
       "  <thead>\n",
       "    <tr style=\"text-align: right;\">\n",
       "      <th></th>\n",
       "      <th>fecha_data_origen</th>\n",
       "      <th>fecha_fin</th>\n",
       "      <th>peso_ABBV</th>\n",
       "      <th>peso_MET</th>\n",
       "      <th>peso_OXY</th>\n",
       "      <th>peso_PERI</th>\n",
       "      <th>acciones_ABBV</th>\n",
       "      <th>acciones_MET</th>\n",
       "      <th>acciones_OXY</th>\n",
       "      <th>acciones_PERI</th>\n",
       "      <th>valor_ABBV</th>\n",
       "      <th>valor_MET</th>\n",
       "      <th>valor_OXY</th>\n",
       "      <th>valor_PERI</th>\n",
       "      <th>cash_sobrante</th>\n",
       "      <th>valor_total_cartera</th>\n",
       "      <th>diff_ABBV</th>\n",
       "      <th>diff_MET</th>\n",
       "      <th>diff_OXY</th>\n",
       "      <th>diff_PERI</th>\n",
       "    </tr>\n",
       "  </thead>\n",
       "  <tbody>\n",
       "    <tr>\n",
       "      <th>0</th>\n",
       "      <td>2020-01-02</td>\n",
       "      <td>2023-01-23</td>\n",
       "      <td>0.1</td>\n",
       "      <td>0.1</td>\n",
       "      <td>0.7</td>\n",
       "      <td>0.1</td>\n",
       "      <td>700.0</td>\n",
       "      <td>1481.0</td>\n",
       "      <td>10598.0</td>\n",
       "      <td>3358.0</td>\n",
       "      <td>99711.045837</td>\n",
       "      <td>99717.630966</td>\n",
       "      <td>698239.630737</td>\n",
       "      <td>99732.602562</td>\n",
       "      <td>2599.089897</td>\n",
       "      <td>1000000.000000</td>\n",
       "      <td>NaN</td>\n",
       "      <td>NaN</td>\n",
       "      <td>NaN</td>\n",
       "      <td>NaN</td>\n",
       "    </tr>\n",
       "    <tr>\n",
       "      <th>1</th>\n",
       "      <td>2020-01-02</td>\n",
       "      <td>2023-07-23</td>\n",
       "      <td>0.1</td>\n",
       "      <td>0.1</td>\n",
       "      <td>0.7</td>\n",
       "      <td>0.1</td>\n",
       "      <td>669.0</td>\n",
       "      <td>1566.0</td>\n",
       "      <td>10882.0</td>\n",
       "      <td>2758.0</td>\n",
       "      <td>93435.431351</td>\n",
       "      <td>93488.642029</td>\n",
       "      <td>654691.297226</td>\n",
       "      <td>93523.779579</td>\n",
       "      <td>2514.950882</td>\n",
       "      <td>937654.101067</td>\n",
       "      <td>-31.0</td>\n",
       "      <td>85.0</td>\n",
       "      <td>284.0</td>\n",
       "      <td>-600.0</td>\n",
       "    </tr>\n",
       "    <tr>\n",
       "      <th>2</th>\n",
       "      <td>2020-01-02</td>\n",
       "      <td>2024-01-23</td>\n",
       "      <td>0.1</td>\n",
       "      <td>0.1</td>\n",
       "      <td>0.7</td>\n",
       "      <td>0.1</td>\n",
       "      <td>557.0</td>\n",
       "      <td>1323.0</td>\n",
       "      <td>11301.0</td>\n",
       "      <td>3061.0</td>\n",
       "      <td>91269.858856</td>\n",
       "      <td>91223.510696</td>\n",
       "      <td>638909.577507</td>\n",
       "      <td>91248.408365</td>\n",
       "      <td>2386.751810</td>\n",
       "      <td>915038.107235</td>\n",
       "      <td>-112.0</td>\n",
       "      <td>-243.0</td>\n",
       "      <td>419.0</td>\n",
       "      <td>303.0</td>\n",
       "    </tr>\n",
       "  </tbody>\n",
       "</table>\n",
       "</div>"
      ]
     },
     "execution_count": 8,
     "metadata": {},
     "output_type": "execute_result"
    }
   ],
   "execution_count": 8
  },
  {
   "cell_type": "code",
   "metadata": {
    "ExecuteTime": {
     "end_time": "2024-04-15T02:26:02.139588Z",
     "start_time": "2024-04-15T02:26:00.406987Z"
    }
   },
   "source": [
    "plot_portfolio_value(resultados_backtesting, tickers)"
   ],
   "outputs": [
    {
     "name": "stderr",
     "output_type": "stream",
     "text": [
      "[*********************100%%**********************]  4 of 4 completed\n"
     ]
    },
    {
     "data": {
      "text/plain": [
       "<Figure size 1400x700 with 1 Axes>"
      ],
      "image/png": "[encoded data removed]"
     },
     "metadata": {},
     "output_type": "display_data"
    }
   ],
   "execution_count": 9
  },
  {
   "cell_type": "markdown",
   "metadata": {},
   "source": [
    "## SEMI VARIANZA"
   ]
  },
  {
   "cell_type": "code",
   "metadata": {
    "ExecuteTime": {
     "end_time": "2024-04-15T02:26:52.050188Z",
     "start_time": "2024-04-15T02:26:02.139588Z"
    }
   },
   "source": [
    "tickers = [\"ABBV\", \"MET\", \"OXY\", \"PERI\"]\n",
    "optimization_models = ['SLSQP', 'Monte Carlo', 'COBYLA']\n",
    "\n",
    "QAA_instance = QAA(tickers=tickers, start_date='2020-01-02', end_date='2024-01-23', rf=0.02)\n",
    "\n",
    "strategies = [\"Semivariance\"]\n",
    "\n",
    "for strategy in strategies:\n",
    "    QAA_instance.set_optimization_strategy(strategy)\n",
    "    for model in optimization_models:\n",
    "        QAA_instance.set_optimization_model(model)\n",
    "        QAA_instance.optimize()\n",
    "        if QAA_instance.optimal_weights is not None:\n",
    "            print(f\"\\nOptimal weights in our class ({strategy} - {model}):\", [format(weight, '.4f') for weight in QAA_instance.optimal_weights])\n",
    "        else:\n",
    "            print(f\"\\nOptimization for {strategy} with {model} did not converge or is not implemented.\")"
   ],
   "outputs": [
    {
     "name": "stderr",
     "output_type": "stream",
     "text": [
      "[*********************100%%**********************]  5 of 5 completed\n"
     ]
    },
    {
     "name": "stdout",
     "output_type": "stream",
     "text": [
      "\n",
      "Optimal weights in our class (Semivariance - SLSQP): ['0.5486', '0.2514', '0.1000', '0.1000']\n",
      "\n",
      "Optimal weights in our class (Semivariance - Monte Carlo): ['0.5347', '0.2569', '0.1002', '0.1081']\n",
      "\n",
      "Optimal weights in our class (Semivariance - COBYLA): ['0.5484', '0.2495', '0.1010', '0.1010']\n"
     ]
    }
   ],
   "execution_count": 10
  },
  {
   "cell_type": "code",
   "metadata": {
    "ExecuteTime": {
     "end_time": "2024-04-15T02:27:04.117130Z",
     "start_time": "2024-04-15T02:26:52.050188Z"
    }
   },
   "source": [
    "\n",
    "tickers = [\"ABBV\", \"MET\", \"OXY\", \"PERI\"]\n",
    "benchmark = [\"SPY\"]\n",
    "start_date = \"2020-01-02\"\n",
    "end_date = \"2024-01-24\"\n",
    "\n",
    "# Download data\n",
    "data = yf.download(tickers=tickers, start=start_date, end=end_date)[\"Adj Close\"]\n",
    "bm = yf.download(tickers=benchmark, start=start_date, end=end_date)[\"Adj Close\"]\n",
    "returns = data.pct_change().dropna()\n",
    "benchmark_returns = bm.pct_change().dropna()\n",
    "\n",
    "# Calculating semivariance\n",
    "diff = returns.subtract(benchmark_returns, axis=0)\n",
    "negative_diff = diff.copy()\n",
    "negative_diff[negative_diff > 0] = 0\n",
    "downside_risk = negative_diff.std()\n",
    "\n",
    "downside_risk_df = downside_risk.to_frame()\n",
    "downside_risk_transposed = downside_risk_df.T\n",
    "mmult = np.dot(downside_risk_df, downside_risk_transposed)\n",
    "correlation = returns.corr()\n",
    "semi_var_matrix = (mmult * correlation) * 100\n",
    "\n",
    "\n",
    "# Define the objective function to minimize the total semivariance of the portfolio\n",
    "def semivariance(w):\n",
    "    return np.dot(w, np.dot(semi_var_matrix, w))\n",
    "\n",
    "# Constraints: sum of weights equals 1\n",
    "constraints = ({'type': 'eq', 'fun': lambda x: np.sum(x) - 1})  \n",
    "\n",
    "# Bounds for the weights (between 0.1 and 1)\n",
    "bounds = tuple((0.1, 1) for _ in range(len(tickers)))\n",
    "\n",
    "# Initial guess for the weights\n",
    "initial_guess = np.array([1.0 / len(tickers) for _ in range(len(tickers))])\n",
    "\n",
    "# Perform portfolio optimization using minimize\n",
    "opt_results = minimize(semivariance, initial_guess, method='SLSQP', bounds=bounds, constraints=constraints)\n",
    "\n",
    "print(\"Optimal Weights:\", opt_results.x)\n"
   ],
   "outputs": [
    {
     "name": "stderr",
     "output_type": "stream",
     "text": [
      "[*********************100%%**********************]  4 of 4 completed\n",
      "[*********************100%%**********************]  1 of 1 completed"
     ]
    },
    {
     "name": "stdout",
     "output_type": "stream",
     "text": [
      "Optimal Weights: [0.54845189 0.25154811 0.1        0.1       ]\n"
     ]
    },
    {
     "name": "stderr",
     "output_type": "stream",
     "text": [
      "\n"
     ]
    }
   ],
   "execution_count": 11
  },
  {
   "cell_type": "code",
   "metadata": {
    "ExecuteTime": {
     "end_time": "2024-04-15T02:27:04.130357Z",
     "start_time": "2024-04-15T02:27:04.117130Z"
    }
   },
   "source": [
    "tickers = [\"ABBV\", \"MET\", \"OXY\", \"PERI\"]\n",
    "rf = 0.02  # Tasa libre de riesgo\n",
    "optimization_strategy = 'Semivariance'\n",
    "optimization_model = 'SLSQP'\n",
    "valor_portafolio_inicial = 1_000_000\n",
    "frecuencias_rebalanceo_meses = 6\n",
    "sin_frecuencias_rebalanceo_meses = 12"
   ],
   "outputs": [],
   "execution_count": 12
  },
  {
   "cell_type": "code",
   "metadata": {
    "ExecuteTime": {
     "end_time": "2024-04-15T02:29:51.528540Z",
     "start_time": "2024-04-15T02:27:04.130357Z"
    }
   },
   "source": [
    "# Realizar el backtesting\n",
    "resultados_backtesting = backtesting_dinamico(\n",
    "    tickers=tickers, \n",
    "    start_date='2020-01-02', \n",
    "    start_backtesting='2023-01-23', \n",
    "    end_date='2024-01-23', \n",
    "    frecuencias_rebalanceo_meses = [frecuencias_rebalanceo_meses] , # Ajustes cada 2, 3, 4 y 6 meses\n",
    "    rf=rf, \n",
    "    optimization_strategy=optimization_strategy, \n",
    "    optimization_model=optimization_model,\n",
    "    valor_portafolio_inicial = valor_portafolio_inicial\n",
    ")\n",
    "\n",
    "resultados_sin_backtesting = backtesting_dinamico(\n",
    "    tickers=tickers, \n",
    "    start_date='2010-01-02', \n",
    "    start_backtesting='2020-01-23', \n",
    "    end_date='2024-01-23', \n",
    "    frecuencias_rebalanceo_meses = [sin_frecuencias_rebalanceo_meses] , # Ajustes cada 2, 3, 4 y 6 meses\n",
    "    rf=rf, \n",
    "    optimization_strategy=optimization_strategy, \n",
    "    optimization_model=optimization_model,\n",
    "    valor_portafolio_inicial = valor_portafolio_inicial\n",
    ")\n",
    "\n",
    "resultados_backtesting"
   ],
   "outputs": [
    {
     "name": "stderr",
     "output_type": "stream",
     "text": [
      "[*********************100%%**********************]  5 of 5 completed\n",
      "[*********************100%%**********************]  5 of 5 completed\n",
      "[*********************100%%**********************]  5 of 5 completed\n",
      "[*********************100%%**********************]  5 of 5 completed\n",
      "[*********************100%%**********************]  5 of 5 completed\n",
      "[*********************100%%**********************]  5 of 5 completed\n",
      "[*********************100%%**********************]  5 of 5 completed\n",
      "[*********************100%%**********************]  5 of 5 completed\n",
      "[*********************100%%**********************]  5 of 5 completed\n",
      "[*********************100%%**********************]  5 of 5 completed\n",
      "[*********************100%%**********************]  5 of 5 completed\n",
      "[*********************100%%**********************]  5 of 5 completed\n",
      "[*********************100%%**********************]  5 of 5 completed\n",
      "[*********************100%%**********************]  5 of 5 completed\n",
      "[*********************100%%**********************]  5 of 5 completed\n",
      "[*********************100%%**********************]  5 of 5 completed\n"
     ]
    },
    {
     "data": {
      "text/plain": [
       "  fecha_data_origen   fecha_fin  peso_ABBV  peso_MET  peso_OXY  peso_PERI  \\\n",
       "0        2020-01-02  2023-01-23   0.566788  0.233212       0.1        0.1   \n",
       "1        2020-01-02  2023-07-23   0.556328  0.243672       0.1        0.1   \n",
       "2        2020-01-02  2024-01-23   0.548558  0.251442       0.1        0.1   \n",
       "\n",
       "   acciones_ABBV  acciones_MET  acciones_OXY  acciones_PERI     valor_ABBV  \\\n",
       "0         3969.0        3455.0        1514.0         3358.0  565361.629898   \n",
       "1         3836.0        3931.0        1600.0         2840.0  535752.338806   \n",
       "2         3588.0        3909.0        1896.0         3596.0  587928.641968   \n",
       "\n",
       "       valor_MET      valor_OXY     valor_PERI  cash_sobrante  \\\n",
       "0  232629.584732   99748.518677   99732.602562    2527.664131   \n",
       "1  234676.789154   96260.437012   96304.399567    2550.009804   \n",
       "2  269533.411423  107191.625427  107196.758080    2883.235344   \n",
       "\n",
       "   valor_total_cartera  diff_ABBV  diff_MET  diff_OXY  diff_PERI  \n",
       "0         1.000000e+06        NaN       NaN       NaN        NaN  \n",
       "1         9.655440e+05     -133.0     476.0      86.0     -518.0  \n",
       "2         1.074734e+06     -248.0     -22.0     296.0      756.0  "
      ],
      "text/html": [
       "<div>\n",
       "<style scoped>\n",
       "    .dataframe tbody tr th:only-of-type {\n",
       "        vertical-align: middle;\n",
       "    }\n",
       "\n",
       "    .dataframe tbody tr th {\n",
       "        vertical-align: top;\n",
       "    }\n",
       "\n",
       "    .dataframe thead th {\n",
       "        text-align: right;\n",
       "    }\n",
       "</style>\n",
       "<table border=\"1\" class=\"dataframe\">\n",
       "  <thead>\n",
       "    <tr style=\"text-align: right;\">\n",
       "      <th></th>\n",
       "      <th>fecha_data_origen</th>\n",
       "      <th>fecha_fin</th>\n",
       "      <th>peso_ABBV</th>\n",
       "      <th>peso_MET</th>\n",
       "      <th>peso_OXY</th>\n",
       "      <th>peso_PERI</th>\n",
       "      <th>acciones_ABBV</th>\n",
       "      <th>acciones_MET</th>\n",
       "      <th>acciones_OXY</th>\n",
       "      <th>acciones_PERI</th>\n",
       "      <th>valor_ABBV</th>\n",
       "      <th>valor_MET</th>\n",
       "      <th>valor_OXY</th>\n",
       "      <th>valor_PERI</th>\n",
       "      <th>cash_sobrante</th>\n",
       "      <th>valor_total_cartera</th>\n",
       "      <th>diff_ABBV</th>\n",
       "      <th>diff_MET</th>\n",
       "      <th>diff_OXY</th>\n",
       "      <th>diff_PERI</th>\n",
       "    </tr>\n",
       "  </thead>\n",
       "  <tbody>\n",
       "    <tr>\n",
       "      <th>0</th>\n",
       "      <td>2020-01-02</td>\n",
       "      <td>2023-01-23</td>\n",
       "      <td>0.566788</td>\n",
       "      <td>0.233212</td>\n",
       "      <td>0.1</td>\n",
       "      <td>0.1</td>\n",
       "      <td>3969.0</td>\n",
       "      <td>3455.0</td>\n",
       "      <td>1514.0</td>\n",
       "      <td>3358.0</td>\n",
       "      <td>565361.629898</td>\n",
       "      <td>232629.584732</td>\n",
       "      <td>99748.518677</td>\n",
       "      <td>99732.602562</td>\n",
       "      <td>2527.664131</td>\n",
       "      <td>1.000000e+06</td>\n",
       "      <td>NaN</td>\n",
       "      <td>NaN</td>\n",
       "      <td>NaN</td>\n",
       "      <td>NaN</td>\n",
       "    </tr>\n",
       "    <tr>\n",
       "      <th>1</th>\n",
       "      <td>2020-01-02</td>\n",
       "      <td>2023-07-23</td>\n",
       "      <td>0.556328</td>\n",
       "      <td>0.243672</td>\n",
       "      <td>0.1</td>\n",
       "      <td>0.1</td>\n",
       "      <td>3836.0</td>\n",
       "      <td>3931.0</td>\n",
       "      <td>1600.0</td>\n",
       "      <td>2840.0</td>\n",
       "      <td>535752.338806</td>\n",
       "      <td>234676.789154</td>\n",
       "      <td>96260.437012</td>\n",
       "      <td>96304.399567</td>\n",
       "      <td>2550.009804</td>\n",
       "      <td>9.655440e+05</td>\n",
       "      <td>-133.0</td>\n",
       "      <td>476.0</td>\n",
       "      <td>86.0</td>\n",
       "      <td>-518.0</td>\n",
       "    </tr>\n",
       "    <tr>\n",
       "      <th>2</th>\n",
       "      <td>2020-01-02</td>\n",
       "      <td>2024-01-23</td>\n",
       "      <td>0.548558</td>\n",
       "      <td>0.251442</td>\n",
       "      <td>0.1</td>\n",
       "      <td>0.1</td>\n",
       "      <td>3588.0</td>\n",
       "      <td>3909.0</td>\n",
       "      <td>1896.0</td>\n",
       "      <td>3596.0</td>\n",
       "      <td>587928.641968</td>\n",
       "      <td>269533.411423</td>\n",
       "      <td>107191.625427</td>\n",
       "      <td>107196.758080</td>\n",
       "      <td>2883.235344</td>\n",
       "      <td>1.074734e+06</td>\n",
       "      <td>-248.0</td>\n",
       "      <td>-22.0</td>\n",
       "      <td>296.0</td>\n",
       "      <td>756.0</td>\n",
       "    </tr>\n",
       "  </tbody>\n",
       "</table>\n",
       "</div>"
      ]
     },
     "execution_count": 13,
     "metadata": {},
     "output_type": "execute_result"
    }
   ],
   "execution_count": 13
  },
  {
   "cell_type": "code",
   "metadata": {
    "ExecuteTime": {
     "end_time": "2024-04-15T02:29:51.590011Z",
     "start_time": "2024-04-15T02:29:51.528540Z"
    }
   },
   "source": [
    "resultados_sin_backtesting"
   ],
   "outputs": [
    {
     "data": {
      "text/plain": [
       "  fecha_data_origen   fecha_fin  peso_ABBV  peso_MET  peso_OXY  peso_PERI  \\\n",
       "0        2010-01-02  2020-01-23   0.186800  0.394125  0.319075        0.1   \n",
       "1        2010-01-02  2021-01-23   0.409851  0.390149  0.100000        0.1   \n",
       "2        2010-01-02  2022-01-23   0.413568  0.386432  0.100000        0.1   \n",
       "3        2010-01-02  2023-01-23   0.409402  0.390598  0.100000        0.1   \n",
       "4        2010-01-02  2024-01-23   0.413946  0.386054  0.100000        0.1   \n",
       "\n",
       "   acciones_ABBV  acciones_MET  acciones_OXY  acciones_PERI     valor_ABBV  \\\n",
       "0         2568.0        8801.0        7784.0        10760.0  186327.451538   \n",
       "1         4065.0        8192.0        4598.0         6933.0  394978.240814   \n",
       "2         4340.0        8032.0        3855.0         6809.0  525431.150055   \n",
       "3         4630.0        9346.0        2445.0         5424.0  659517.346039   \n",
       "4         4291.0        9511.0        3004.0         5698.0  703122.018585   \n",
       "\n",
       "       valor_MET      valor_OXY     valor_PERI  cash_sobrante  \\\n",
       "0  393111.545963  318263.762817   99745.204926    2552.034756   \n",
       "1  375981.687500   96353.790806   96368.697355    2453.655539   \n",
       "2  491011.947998  127049.179001  127055.938961    3288.546242   \n",
       "3  629278.104935  161086.591759  161092.804138    4248.904743   \n",
       "4  655802.577652  169833.144928  169857.376957    4399.982151   \n",
       "\n",
       "   valor_total_cartera  diff_ABBV  diff_MET  diff_OXY  diff_PERI  \n",
       "0         1.000000e+06        NaN       NaN       NaN        NaN  \n",
       "1         9.661361e+05     1497.0    -609.0   -3186.0    -3827.0  \n",
       "2         1.273837e+06      275.0    -160.0    -743.0     -124.0  \n",
       "3         1.615224e+06      290.0    1314.0   -1410.0    -1385.0  \n",
       "4         1.703015e+06     -339.0     165.0     559.0      274.0  "
      ],
      "text/html": [
       "<div>\n",
       "<style scoped>\n",
       "    .dataframe tbody tr th:only-of-type {\n",
       "        vertical-align: middle;\n",
       "    }\n",
       "\n",
       "    .dataframe tbody tr th {\n",
       "        vertical-align: top;\n",
       "    }\n",
       "\n",
       "    .dataframe thead th {\n",
       "        text-align: right;\n",
       "    }\n",
       "</style>\n",
       "<table border=\"1\" class=\"dataframe\">\n",
       "  <thead>\n",
       "    <tr style=\"text-align: right;\">\n",
       "      <th></th>\n",
       "      <th>fecha_data_origen</th>\n",
       "      <th>fecha_fin</th>\n",
       "      <th>peso_ABBV</th>\n",
       "      <th>peso_MET</th>\n",
       "      <th>peso_OXY</th>\n",
       "      <th>peso_PERI</th>\n",
       "      <th>acciones_ABBV</th>\n",
       "      <th>acciones_MET</th>\n",
       "      <th>acciones_OXY</th>\n",
       "      <th>acciones_PERI</th>\n",
       "      <th>valor_ABBV</th>\n",
       "      <th>valor_MET</th>\n",
       "      <th>valor_OXY</th>\n",
       "      <th>valor_PERI</th>\n",
       "      <th>cash_sobrante</th>\n",
       "      <th>valor_total_cartera</th>\n",
       "      <th>diff_ABBV</th>\n",
       "      <th>diff_MET</th>\n",
       "      <th>diff_OXY</th>\n",
       "      <th>diff_PERI</th>\n",
       "    </tr>\n",
       "  </thead>\n",
       "  <tbody>\n",
       "    <tr>\n",
       "      <th>0</th>\n",
       "      <td>2010-01-02</td>\n",
       "      <td>2020-01-23</td>\n",
       "      <td>0.186800</td>\n",
       "      <td>0.394125</td>\n",
       "      <td>0.319075</td>\n",
       "      <td>0.1</td>\n",
       "      <td>2568.0</td>\n",
       "      <td>8801.0</td>\n",
       "      <td>7784.0</td>\n",
       "      <td>10760.0</td>\n",
       "      <td>186327.451538</td>\n",
       "      <td>393111.545963</td>\n",
       "      <td>318263.762817</td>\n",
       "      <td>99745.204926</td>\n",
       "      <td>2552.034756</td>\n",
       "      <td>1.000000e+06</td>\n",
       "      <td>NaN</td>\n",
       "      <td>NaN</td>\n",
       "      <td>NaN</td>\n",
       "      <td>NaN</td>\n",
       "    </tr>\n",
       "    <tr>\n",
       "      <th>1</th>\n",
       "      <td>2010-01-02</td>\n",
       "      <td>2021-01-23</td>\n",
       "      <td>0.409851</td>\n",
       "      <td>0.390149</td>\n",
       "      <td>0.100000</td>\n",
       "      <td>0.1</td>\n",
       "      <td>4065.0</td>\n",
       "      <td>8192.0</td>\n",
       "      <td>4598.0</td>\n",
       "      <td>6933.0</td>\n",
       "      <td>394978.240814</td>\n",
       "      <td>375981.687500</td>\n",
       "      <td>96353.790806</td>\n",
       "      <td>96368.697355</td>\n",
       "      <td>2453.655539</td>\n",
       "      <td>9.661361e+05</td>\n",
       "      <td>1497.0</td>\n",
       "      <td>-609.0</td>\n",
       "      <td>-3186.0</td>\n",
       "      <td>-3827.0</td>\n",
       "    </tr>\n",
       "    <tr>\n",
       "      <th>2</th>\n",
       "      <td>2010-01-02</td>\n",
       "      <td>2022-01-23</td>\n",
       "      <td>0.413568</td>\n",
       "      <td>0.386432</td>\n",
       "      <td>0.100000</td>\n",
       "      <td>0.1</td>\n",
       "      <td>4340.0</td>\n",
       "      <td>8032.0</td>\n",
       "      <td>3855.0</td>\n",
       "      <td>6809.0</td>\n",
       "      <td>525431.150055</td>\n",
       "      <td>491011.947998</td>\n",
       "      <td>127049.179001</td>\n",
       "      <td>127055.938961</td>\n",
       "      <td>3288.546242</td>\n",
       "      <td>1.273837e+06</td>\n",
       "      <td>275.0</td>\n",
       "      <td>-160.0</td>\n",
       "      <td>-743.0</td>\n",
       "      <td>-124.0</td>\n",
       "    </tr>\n",
       "    <tr>\n",
       "      <th>3</th>\n",
       "      <td>2010-01-02</td>\n",
       "      <td>2023-01-23</td>\n",
       "      <td>0.409402</td>\n",
       "      <td>0.390598</td>\n",
       "      <td>0.100000</td>\n",
       "      <td>0.1</td>\n",
       "      <td>4630.0</td>\n",
       "      <td>9346.0</td>\n",
       "      <td>2445.0</td>\n",
       "      <td>5424.0</td>\n",
       "      <td>659517.346039</td>\n",
       "      <td>629278.104935</td>\n",
       "      <td>161086.591759</td>\n",
       "      <td>161092.804138</td>\n",
       "      <td>4248.904743</td>\n",
       "      <td>1.615224e+06</td>\n",
       "      <td>290.0</td>\n",
       "      <td>1314.0</td>\n",
       "      <td>-1410.0</td>\n",
       "      <td>-1385.0</td>\n",
       "    </tr>\n",
       "    <tr>\n",
       "      <th>4</th>\n",
       "      <td>2010-01-02</td>\n",
       "      <td>2024-01-23</td>\n",
       "      <td>0.413946</td>\n",
       "      <td>0.386054</td>\n",
       "      <td>0.100000</td>\n",
       "      <td>0.1</td>\n",
       "      <td>4291.0</td>\n",
       "      <td>9511.0</td>\n",
       "      <td>3004.0</td>\n",
       "      <td>5698.0</td>\n",
       "      <td>703122.018585</td>\n",
       "      <td>655802.577652</td>\n",
       "      <td>169833.144928</td>\n",
       "      <td>169857.376957</td>\n",
       "      <td>4399.982151</td>\n",
       "      <td>1.703015e+06</td>\n",
       "      <td>-339.0</td>\n",
       "      <td>165.0</td>\n",
       "      <td>559.0</td>\n",
       "      <td>274.0</td>\n",
       "    </tr>\n",
       "  </tbody>\n",
       "</table>\n",
       "</div>"
      ]
     },
     "execution_count": 14,
     "metadata": {},
     "output_type": "execute_result"
    }
   ],
   "execution_count": 14
  },
  {
   "cell_type": "code",
   "metadata": {
    "ExecuteTime": {
     "end_time": "2024-04-15T02:29:54.523514Z",
     "start_time": "2024-04-15T02:29:51.590011Z"
    }
   },
   "source": [
    "plot_portfolio_value(resultados_backtesting, tickers)"
   ],
   "outputs": [
    {
     "name": "stderr",
     "output_type": "stream",
     "text": [
      "[*********************100%%**********************]  4 of 4 completed\n"
     ]
    },
    {
     "data": {
      "text/plain": [
       "<Figure size 1400x700 with 1 Axes>"
      ],
      "image/png": "[encoded data removed]"
     },
     "metadata": {},
     "output_type": "display_data"
    }
   ],
   "execution_count": 15
  },
  {
   "cell_type": "markdown",
   "metadata": {},
   "source": [
    "## ROY SAFETY FIRST RATIO"
   ]
  },
  {
   "cell_type": "code",
   "metadata": {
    "ExecuteTime": {
     "end_time": "2024-04-15T02:30:29.661126Z",
     "start_time": "2024-04-15T02:29:54.523514Z"
    }
   },
   "source": [
    "strategies = [\"Roy Safety First Ratio\"]\n",
    "\n",
    "for strategy in strategies:\n",
    "    QAA_instance.set_optimization_strategy(strategy)\n",
    "    for model in optimization_models:\n",
    "        QAA_instance.set_optimization_model(model)\n",
    "        QAA_instance.optimize()\n",
    "        if QAA_instance.optimal_weights is not None:\n",
    "            print(f\"\\nOptimal weights in our class ({strategy} - {model}):\", [format(weight, '.4f') for weight in QAA_instance.optimal_weights])\n",
    "        else:\n",
    "            print(f\"\\nOptimization for {strategy} with {model} did not converge or is not implemented.\")"
   ],
   "outputs": [
    {
     "name": "stderr",
     "output_type": "stream",
     "text": [
      "C:\\Users\\J3SVS\\AppData\\Local\\Programs\\Python\\Python312\\Lib\\site-packages\\scipy\\optimize\\_slsqp_py.py:437: RuntimeWarning: Values in x were outside bounds during a minimize step, clipping to bounds\n",
      "  fx = wrapped_fun(x)\n"
     ]
    },
    {
     "name": "stdout",
     "output_type": "stream",
     "text": [
      "\n",
      "Optimal weights in our class (Roy Safety First Ratio - SLSQP): ['0.5345', '0.1000', '0.1000', '0.2655']\n",
      "\n",
      "Optimal weights in our class (Roy Safety First Ratio - Monte Carlo): ['0.5365', '0.1001', '0.1001', '0.2633']\n",
      "\n",
      "Optimal weights in our class (Roy Safety First Ratio - COBYLA): ['0.5346', '0.1000', '0.1000', '0.2654']\n"
     ]
    }
   ],
   "execution_count": 16
  },
  {
   "cell_type": "code",
   "metadata": {
    "ExecuteTime": {
     "end_time": "2024-04-15T02:30:29.977254Z",
     "start_time": "2024-04-15T02:30:29.661126Z"
    }
   },
   "source": [
    "import numpy as np\n",
    "import pandas as pd\n",
    "import yfinance as yf\n",
    "from scipy.optimize import minimize\n",
    "\n",
    "def fetch_data(tickers, start_date, end_date):\n",
    "    \"\"\"Fetches historical closing prices and calculates log returns.\"\"\"\n",
    "    data = yf.download(tickers, start=start_date, end=end_date)['Adj Close']\n",
    "    return np.log(data / data.shift(1)).dropna()\n",
    "\n",
    "def safety_first_ratio(weights, returns, rf):\n",
    "    \"\"\"Calculates the negative of Roy's Safety First Ratio for minimization.\"\"\"\n",
    "    portfolio_return = np.sum(returns.mean() * weights) * 252  # Annualize\n",
    "    portfolio_vol = np.sqrt(np.dot(weights.T, np.dot(returns.cov() * 252, weights)))  # Annualize\n",
    "    return -(portfolio_return - rf) / portfolio_vol  # Negative for minimization\n",
    "\n",
    "def optimize_portfolio(tickers, start_date, end_date, rf):\n",
    "    \"\"\"Optimizes the portfolio based on Roy's Safety First Ratio.\"\"\"\n",
    "    # Fetch data\n",
    "    returns = fetch_data(tickers, start_date, end_date)\n",
    "    \n",
    "    # Initial guess for weights\n",
    "    weights_init = np.array([1/len(tickers)] * len(tickers))\n",
    "    \n",
    "    # Bounds for weights\n",
    "    bounds = tuple((0.10, 0.90) for _ in range(len(tickers)))\n",
    "    \n",
    "    # Constraints - sum of weights is 1\n",
    "    constraints = {'type': 'eq', 'fun': lambda weights: np.sum(weights) - 1}\n",
    "    \n",
    "    # Optimization\n",
    "    result = minimize(safety_first_ratio, weights_init, args=(returns, rf), method='SLSQP', bounds=bounds, constraints=constraints)\n",
    "    \n",
    "    if result.success:\n",
    "        return result.x\n",
    "    else:\n",
    "        raise Exception(\"Optimization did not converge\")\n",
    "\n",
    "# Example usage\n",
    "tickers = [\"ABBV\", \"MET\", \"OXY\", \"PERI\"]\n",
    "start_date = '2020-01-02'\n",
    "end_date = '2024-01-23'\n",
    "rf = 0.02\n",
    "\n",
    "optimal_weights = optimize_portfolio(tickers, start_date, end_date, rf)\n",
    "print(\"Optimal Weights:\", optimal_weights)\n"
   ],
   "outputs": [
    {
     "name": "stderr",
     "output_type": "stream",
     "text": [
      "[*********************100%%**********************]  4 of 4 completed"
     ]
    },
    {
     "name": "stdout",
     "output_type": "stream",
     "text": [
      "Optimal Weights: [0.59083289 0.1        0.1        0.20916711]\n"
     ]
    },
    {
     "name": "stderr",
     "output_type": "stream",
     "text": [
      "\n",
      "C:\\Users\\J3SVS\\AppData\\Local\\Programs\\Python\\Python312\\Lib\\site-packages\\scipy\\optimize\\_slsqp_py.py:437: RuntimeWarning: Values in x were outside bounds during a minimize step, clipping to bounds\n",
      "  fx = wrapped_fun(x)\n"
     ]
    }
   ],
   "execution_count": 17
  },
  {
   "cell_type": "markdown",
   "metadata": {},
   "source": [
    "## SORTINO RATIO"
   ]
  },
  {
   "cell_type": "code",
   "metadata": {
    "ExecuteTime": {
     "end_time": "2024-04-15T02:30:58.249717Z",
     "start_time": "2024-04-15T02:30:29.977254Z"
    }
   },
   "source": [
    "strategies = [\"Sortino Ratio\"]\n",
    "\n",
    "for strategy in strategies:\n",
    "    QAA_instance.set_optimization_strategy(strategy)\n",
    "    for model in optimization_models:\n",
    "        QAA_instance.set_optimization_model(model)\n",
    "        QAA_instance.optimize()\n",
    "        if QAA_instance.optimal_weights is not None:\n",
    "            print(f\"\\nOptimal weights in our class ({strategy} - {model}):\", [format(weight, '.4f') for weight in QAA_instance.optimal_weights])\n",
    "        else:\n",
    "            print(f\"\\nOptimization for {strategy} with {model} did not converge or is not implemented.\")"
   ],
   "outputs": [
    {
     "name": "stdout",
     "output_type": "stream",
     "text": [
      "\n",
      "Optimal weights in our class (Sortino Ratio - SLSQP): ['0.4709', '0.1600', '0.1000', '0.2691']\n",
      "\n",
      "Optimal weights in our class (Sortino Ratio - Monte Carlo): ['0.4670', '0.1591', '0.1019', '0.2720']\n",
      "\n",
      "Optimal weights in our class (Sortino Ratio - COBYLA): ['0.4710', '0.1600', '0.1000', '0.2691']\n"
     ]
    }
   ],
   "execution_count": 18
  },
  {
   "cell_type": "code",
   "metadata": {
    "ExecuteTime": {
     "end_time": "2024-04-15T02:30:58.795965Z",
     "start_time": "2024-04-15T02:30:58.249717Z"
    }
   },
   "source": [
    "# vALIDATE SORTINO RATIO NEED MORE VALIDATE\n",
    "import yfinance as yf\n",
    "import numpy as np\n",
    "from scipy.optimize import minimize\n",
    "\n",
    "# Parameters\n",
    "tickers = [\"ABBV\", \"MET\", \"OXY\", \"PERI\"]\n",
    "start_date = '2020-01-02'\n",
    "end_date = '2024-01-23'\n",
    "rf = 0.02  # Annual risk-free rate\n",
    "\n",
    "# Fetch historical stock prices\n",
    "data = yf.download(tickers, start=start_date, end=end_date)['Adj Close']\n",
    "returns = data.pct_change().dropna()\n",
    "\n",
    "def sortino_ratio(weights, returns, risk_free_rate):\n",
    "    portfolio_return = np.sum(returns.mean() * weights) * 252\n",
    "    downside_returns = returns.copy()\n",
    "    downside_returns[downside_returns > 0] = 0\n",
    "    downside_std = np.sqrt(np.sum((downside_returns.std() * weights)**2) * 252)\n",
    "    sortino_ratio = (portfolio_return - risk_free_rate) / downside_std\n",
    "    return -sortino_ratio  # Minimize negative Sortino Ratio\n",
    "\n",
    "def validate_sortino_ratio(tickers, returns, rf, weight_range=(0.10, 0.90)):\n",
    "    n_assets = len(tickers)\n",
    "    constraints = ({'type': 'eq', 'fun': lambda x: np.sum(x) - 1})\n",
    "    bounds = tuple((weight_range[0], weight_range[1]) for _ in range(n_assets))\n",
    "    initial_weights = np.random.rand(n_assets)\n",
    "    initial_weights /= np.sum(initial_weights)  # Normalize to sum to 1\n",
    "    result = minimize(sortino_ratio, initial_weights, args=(returns, rf), method='SLSQP',\n",
    "                      bounds=bounds, constraints=constraints)\n",
    "    optimal_weights = result.x\n",
    "    return optimal_weights\n",
    "\n",
    "optimal_weights = validate_sortino_ratio(tickers, returns, rf)\n",
    "print(\"Optimal Weights:\", optimal_weights)\n",
    "\n",
    "\n"
   ],
   "outputs": [
    {
     "name": "stderr",
     "output_type": "stream",
     "text": [
      "[*********************100%%**********************]  4 of 4 completed\n",
      "C:\\Users\\J3SVS\\AppData\\Local\\Programs\\Python\\Python312\\Lib\\site-packages\\scipy\\optimize\\_slsqp_py.py:437: RuntimeWarning: Values in x were outside bounds during a minimize step, clipping to bounds\n",
      "  fx = wrapped_fun(x)\n",
      "C:\\Users\\J3SVS\\AppData\\Local\\Programs\\Python\\Python312\\Lib\\site-packages\\scipy\\optimize\\_slsqp_py.py:441: RuntimeWarning: Values in x were outside bounds during a minimize step, clipping to bounds\n",
      "  g = append(wrapped_grad(x), 0.0)\n",
      "C:\\Users\\J3SVS\\AppData\\Local\\Programs\\Python\\Python312\\Lib\\site-packages\\scipy\\optimize\\_slsqp_py.py:495: RuntimeWarning: Values in x were outside bounds during a minimize step, clipping to bounds\n",
      "  a_eq = vstack([con['jac'](x, *con['args'])\n"
     ]
    },
    {
     "name": "stdout",
     "output_type": "stream",
     "text": [
      "Optimal Weights: [0.47084378 0.16007012 0.1        0.2690861 ]\n"
     ]
    }
   ],
   "execution_count": 19
  },
  {
   "cell_type": "markdown",
   "metadata": {},
   "source": [
    "## FAMMA - FRENCH"
   ]
  },
  {
   "cell_type": "code",
   "metadata": {
    "ExecuteTime": {
     "end_time": "2024-04-15T02:31:26.800209Z",
     "start_time": "2024-04-15T02:30:58.795965Z"
    }
   },
   "source": [
    "\n",
    "# Define a list of strategies to optimize\n",
    "strategies = [\"Fama French\"]\n",
    "\n",
    "for strategy in strategies:\n",
    "    QAA_instance.set_optimization_strategy(strategy)\n",
    "    for model in optimization_models:\n",
    "        QAA_instance.set_optimization_model(model)\n",
    "        QAA_instance.optimize()\n",
    "        if QAA_instance.optimal_weights is not None:\n",
    "            print(f\"\\nOptimal weights in our class ({strategy} - {model}):\", [format(weight, '.4f') for weight in QAA_instance.optimal_weights])\n",
    "        else:\n",
    "            print(f\"\\nOptimization for {strategy} with {model} did not converge or is not implemented.\")"
   ],
   "outputs": [
    {
     "name": "stdout",
     "output_type": "stream",
     "text": [
      "\n",
      "Optimal weights in our class (Fama French - SLSQP): ['0.5469', '0.1000', '0.1000', '0.2531']\n",
      "\n",
      "Optimal weights in our class (Fama French - Monte Carlo): ['0.5066', '0.1016', '0.1086', '0.2831']\n",
      "\n",
      "Optimal weights in our class (Fama French - COBYLA): ['0.5470', '0.1000', '0.1000', '0.2530']\n"
     ]
    }
   ],
   "execution_count": 20
  },
  {
   "cell_type": "code",
   "metadata": {
    "ExecuteTime": {
     "end_time": "2024-04-15T02:31:46.541572Z",
     "start_time": "2024-04-15T02:31:26.800209Z"
    }
   },
   "source": [
    "import pandas_datareader.data as web\n",
    "tickers = [\"ABBV\", \"MET\", \"OXY\", \"PERI\"]\n",
    "start_date = \"2020-01-02\"\n",
    "end_date = \"2024-01-24\"\n",
    "\n",
    "\n",
    "data = yf.download(tickers=tickers, start=start_date, end=end_date)[\"Adj Close\"]\n",
    "returns = data.pct_change().dropna()\n",
    "\n",
    "\n",
    "ff_data = web.DataReader('F-F_Research_Data_Factors_daily', 'famafrench', start=start_date, end=end_date)[0]\n",
    "ff_returns = ff_data[['Mkt-RF', 'SMB', 'HML']].loc[returns.index]\n",
    "\n",
    "def fama_french(returns, ff_returns, ff_data, weights):\n",
    "    \"\"\"Optimizes the objective function using Fama-French factors.\"\"\"\n",
    "    all_returns = pd.concat([returns, ff_returns], axis=1)\n",
    "    risk_free_rate = ff_data['RF'].mean()\n",
    "    ff_weights = np.append(weights, np.zeros(3))  \n",
    "    portfolio_returns = np.dot(all_returns, ff_weights)\n",
    "    ff_covariance = np.cov(all_returns.T)\n",
    "    portfolio_volatility = np.sqrt(np.dot(ff_weights.T, np.dot(ff_covariance, ff_weights)))\n",
    "    ff_ratio = (portfolio_returns.mean() * 252 - risk_free_rate) / portfolio_volatility\n",
    "    return -ff_ratio\n",
    "\n",
    "\n",
    "objective_function = lambda weights: fama_french(returns, ff_returns, ff_data, weights)\n",
    "\n",
    "\n",
    "initial_weights = np.ones(4) / 4\n",
    "\n",
    "\n",
    "result = minimize(objective_function, initial_weights, method='SLSQP', bounds=[(0.1, 0.9)] * 4, constraints=({'type': 'eq', 'fun': lambda w: np.sum(w) - 1}))\n",
    "\n",
    "\n",
    "optimal_weights = result.x\n",
    "\n",
    "\n",
    "optimal_weights /= np.sum(optimal_weights)\n",
    "\n",
    "print(\"Pesos óptimos:\", optimal_weights)"
   ],
   "outputs": [
    {
     "name": "stderr",
     "output_type": "stream",
     "text": [
      "[*********************100%%**********************]  4 of 4 completed\n"
     ]
    },
    {
     "name": "stdout",
     "output_type": "stream",
     "text": [
      "Pesos óptimos: [0.55094831 0.1        0.1        0.24905169]\n"
     ]
    }
   ],
   "execution_count": 21
  },
  {
   "cell_type": "markdown",
   "metadata": {},
   "source": [
    "## Sharpe Ratio"
   ]
  },
  {
   "cell_type": "code",
   "metadata": {
    "ExecuteTime": {
     "end_time": "2024-04-15T02:32:14.617705Z",
     "start_time": "2024-04-15T02:31:46.541572Z"
    }
   },
   "source": [
    "\n",
    "# Define a list of strategies to optimize\n",
    "strategies = [\"Sharpe Ratio\"]\n",
    "\n",
    "for strategy in strategies:\n",
    "    QAA_instance.set_optimization_strategy(strategy)\n",
    "    for model in optimization_models:\n",
    "        QAA_instance.set_optimization_model(model)\n",
    "        QAA_instance.optimize()\n",
    "        if QAA_instance.optimal_weights is not None:\n",
    "            print(f\"\\nOptimal weights in our class ({strategy} - {model}):\", [format(weight, '.4f') for weight in QAA_instance.optimal_weights])\n",
    "        else:\n",
    "            print(f\"\\nOptimization for {strategy} with {model} did not converge or is not implemented.\")"
   ],
   "outputs": [
    {
     "name": "stdout",
     "output_type": "stream",
     "text": [
      "\n",
      "Optimal weights in our class (Sharpe Ratio - SLSQP): ['0.4993', '0.1000', '0.1000', '0.3007']\n"
     ]
    },
    {
     "name": "stderr",
     "output_type": "stream",
     "text": [
      "C:\\Users\\J3SVS\\AppData\\Local\\Programs\\Python\\Python312\\Lib\\site-packages\\scipy\\optimize\\_slsqp_py.py:437: RuntimeWarning: Values in x were outside bounds during a minimize step, clipping to bounds\n",
      "  fx = wrapped_fun(x)\n"
     ]
    },
    {
     "name": "stdout",
     "output_type": "stream",
     "text": [
      "\n",
      "Optimal weights in our class (Sharpe Ratio - Monte Carlo): ['0.4718', '0.1018', '0.1040', '0.3225']\n",
      "\n",
      "Optimal weights in our class (Sharpe Ratio - COBYLA): ['0.4999', '0.1000', '0.1000', '0.3001']\n"
     ]
    }
   ],
   "execution_count": 22
  },
  {
   "cell_type": "code",
   "metadata": {
    "ExecuteTime": {
     "end_time": "2024-04-15T02:32:14.941382Z",
     "start_time": "2024-04-15T02:32:14.617705Z"
    }
   },
   "source": [
    "start_date = \"2020-01-02\"\n",
    "end_date = \"2024-01-24\"\n",
    "data = yf.download(tickers=tickers, start=start_date, end=end_date)[\"Adj Close\"]\n",
    "returns = data.pct_change().dropna()\n",
    "rf = 0.02 \n",
    "\n",
    "constraints = ({'type': 'eq', 'fun': lambda x: np.sum(x) - 1})  \n",
    "bounds = tuple((0.1, 1) for _ in range(len(tickers)))  \n",
    "sharpe_ratio = lambda w, returns: -( (np.sum(returns.mean() * w) - rf/100) * 252 / np.sqrt(np.dot(w.T, np.dot(returns.cov() * 252, w))))\n",
    "initial_guess = np.array([1.0 / len(tickers) for _ in range(len(tickers))])\n",
    "\n",
    "opt_results = minimize(sharpe_ratio, initial_guess, args=(returns,), method='SLSQP', bounds=bounds, constraints=constraints)\n",
    "\n",
    "print(\"Pesos óptimos:\", opt_results.x)"
   ],
   "outputs": [
    {
     "name": "stderr",
     "output_type": "stream",
     "text": [
      "[*********************100%%**********************]  4 of 4 completed"
     ]
    },
    {
     "name": "stdout",
     "output_type": "stream",
     "text": [
      "Pesos óptimos: [0.50479504 0.1        0.1        0.29520496]\n"
     ]
    },
    {
     "name": "stderr",
     "output_type": "stream",
     "text": [
      "\n"
     ]
    }
   ],
   "execution_count": 23
  },
  {
   "cell_type": "markdown",
   "metadata": {},
   "source": [
    "## HierarchicalRiskParity (HRP)"
   ]
  },
  {
   "cell_type": "code",
   "metadata": {
    "ExecuteTime": {
     "end_time": "2024-04-15T02:32:15.075339Z",
     "start_time": "2024-04-15T02:32:14.941382Z"
    }
   },
   "source": [
    "# Define a list of strategies to optimize\n",
    "strategies = [\"HRP\"]\n",
    "\n",
    "for strategy in strategies:\n",
    "    QAA_instance.set_optimization_strategy(strategy)\n",
    "    for model in optimization_models:\n",
    "        QAA_instance.set_optimization_model(model)\n",
    "        QAA_instance.optimize()\n",
    "        if QAA_instance.optimal_weights is not None:\n",
    "            print(f\"\\nOptimal weights in our class ({strategy} - {model}):\", [format(weight, '.4f') for weight in QAA_instance.optimal_weights])\n",
    "        else:\n",
    "            print(f\"\\nOptimization for {strategy} with {model} did not converge or is not implemented.\")"
   ],
   "outputs": [
    {
     "name": "stdout",
     "output_type": "stream",
     "text": [
      "\n",
      "Optimal weights in our class (HRP - SLSQP): ['0.6313', '0.2111', '0.0629', '0.0947']\n",
      "\n",
      "Optimal weights in our class (HRP - Monte Carlo): ['0.6313', '0.2111', '0.0629', '0.0947']\n",
      "\n",
      "Optimal weights in our class (HRP - COBYLA): ['0.6313', '0.2111', '0.0629', '0.0947']\n"
     ]
    }
   ],
   "execution_count": 24
  },
  {
   "cell_type": "code",
   "metadata": {
    "ExecuteTime": {
     "end_time": "2024-04-15T02:32:15.480661Z",
     "start_time": "2024-04-15T02:32:15.106595Z"
    }
   },
   "source": [
    "tickers = [\"ABBV\", \"MET\", \"OXY\", \"PERI\"]\n",
    "start_date = \"2020-01-02\"\n",
    "end_date = \"2024-01-24\"\n",
    "data = yf.download(tickers=tickers, start=start_date, end=end_date)[\"Adj Close\"]\n",
    "returns = data.pct_change().dropna()\n",
    "hrp_pypfopt = HRPOpt(returns)\n",
    "weights_hrp_pypfopt = hrp_pypfopt.optimize()\n",
    "weights_hrp_pypfopt"
   ],
   "outputs": [
    {
     "name": "stderr",
     "output_type": "stream",
     "text": [
      "[*********************100%%**********************]  4 of 4 completed\n"
     ]
    },
    {
     "data": {
      "text/plain": [
       "OrderedDict([('ABBV', 0.6311739397592893),\n",
       "             ('MET', 0.21115858954660596),\n",
       "             ('OXY', 0.0629304939686117),\n",
       "             ('PERI', 0.09473697672549308)])"
      ]
     },
     "execution_count": 25,
     "metadata": {},
     "output_type": "execute_result"
    }
   ],
   "execution_count": 25
  },
  {
   "cell_type": "markdown",
   "metadata": {},
   "source": [
    "### CVaR"
   ]
  },
  {
   "cell_type": "code",
   "metadata": {
    "ExecuteTime": {
     "end_time": "2024-04-15T02:32:43.289255Z",
     "start_time": "2024-04-15T02:32:15.511916Z"
    }
   },
   "source": [
    "# Define a list of strategies to optimize\n",
    "strategies = [\"CVaR\"]\n",
    "\n",
    "for strategy in strategies:\n",
    "    QAA_instance.set_optimization_strategy(strategy)\n",
    "    for model in optimization_models:\n",
    "        QAA_instance.set_optimization_model(model)\n",
    "        QAA_instance.optimize()\n",
    "        if QAA_instance.optimal_weights is not None:\n",
    "            print(f\"\\nOptimal weights in our class ({strategy} - {model}):\", [format(weight, '.4f') for weight in QAA_instance.optimal_weights])\n",
    "        else:\n",
    "            print(f\"\\nOptimization for {strategy} with {model} did not converge or is not implemented.\")"
   ],
   "outputs": [
    {
     "name": "stdout",
     "output_type": "stream",
     "text": [
      "\n",
      "Optimal weights in our class (CVaR - SLSQP): ['0.7000', '0.1000', '0.1000', '0.1000']\n",
      "\n",
      "Optimal weights in our class (CVaR - Monte Carlo): ['0.6806', '0.1123', '0.1002', '0.1069']\n",
      "\n",
      "Optimal weights in our class (CVaR - COBYLA): ['0.6970', '0.1010', '0.1010', '0.1010']\n"
     ]
    }
   ],
   "execution_count": 26
  },
  {
   "cell_type": "code",
   "metadata": {
    "ExecuteTime": {
     "end_time": "2024-04-15T02:32:43.635629Z",
     "start_time": "2024-04-15T02:32:43.289255Z"
    }
   },
   "source": [
    "#Validate using manual code:\n",
    "# pip install cvxpy\n",
    "import cvxpy as cp\n",
    "\n",
    "\n",
    "# Parameters\n",
    "tickers = [\"ABBV\", \"MET\", \"OXY\", \"PERI\"]\n",
    "start_date = '2020-01-02'\n",
    "end_date = '2024-01-23'\n",
    "confidence_level = 0.90\n",
    "\n",
    "# Fetching data\n",
    "data = yf.download(tickers, start=start_date, end=end_date)['Adj Close']\n",
    "print(\"Data shape:\", data.shape)\n",
    "\n",
    "# Calculating returns\n",
    "returns = data.pct_change().dropna()\n",
    "print(\"Returns shape:\", returns.shape)\n",
    "\n",
    "# Number of assets\n",
    "n_assets = len(tickers)\n",
    "print(\"Number of assets:\", n_assets)\n",
    "\n",
    "# Define weights as a CVXPY variable with bounds\n",
    "weights = cp.Variable(n_assets)\n",
    "\n",
    "# Convert returns DataFrame to a NumPy array for dot product\n",
    "returns_array = returns.values\n",
    "\n",
    "# Calculate portfolio returns as a dot product\n",
    "portfolio_return = returns_array @ weights\n",
    "\n",
    "# Define the portfolio loss as the negative of the portfolio returns\n",
    "portfolio_loss = -portfolio_return\n",
    "\n",
    "# VaR and CVaR calculation using auxiliary variables\n",
    "VaR = cp.Variable()\n",
    "helper_CVaR = cp.Variable()\n",
    "excess_loss = cp.pos(portfolio_loss - VaR)\n",
    "\n",
    "# Objective: Minimize CVaR (helper variable)\n",
    "objective = cp.Minimize(helper_CVaR)\n",
    "\n",
    "# Constraints with weight bounds\n",
    "constraints = [\n",
    "    cp.sum(weights) == 1,  # Weights must sum to 1\n",
    "    weights >= 0.10,       # Lower bound for each weight\n",
    "    weights <= 0.90,       # Upper bound for each weight\n",
    "    excess_loss <= helper_CVaR,  # Bounding the excess losses by CVaR\n",
    "    cp.sum(cp.multiply(excess_loss, 1 / len(returns))) <= helper_CVaR * (1 - confidence_level)  # Averaging only over the excess part\n",
    "]\n",
    "\n",
    "# Define and solve the problem\n",
    "problem = cp.Problem(objective, constraints)\n",
    "result = problem.solve()\n",
    "\n",
    "# Output the results\n",
    "if problem.status == cp.OPTIMAL:\n",
    "    optimal_weights_percent = [\"{:.2f}%\".format(weight * 100) for weight in weights.value]\n",
    "    print(\"Optimal Weights (%):\", optimal_weights_percent)\n",
    "    print(\"Optimal Portfolio CVaR:\", helper_CVaR.value)\n",
    "else:\n",
    "    print(\"Problem not solved, status:\", problem.status)\n"
   ],
   "outputs": [
    {
     "name": "stderr",
     "output_type": "stream",
     "text": [
      "[*********************100%%**********************]  4 of 4 completed"
     ]
    },
    {
     "name": "stdout",
     "output_type": "stream",
     "text": [
      "Data shape: (1020, 4)\n",
      "Returns shape: (1019, 4)\n",
      "Number of assets: 4\n",
      "Optimal Weights (%): ['69.61%', '10.16%', '10.17%', '10.06%']\n",
      "Optimal Portfolio CVaR: 2.5153474831283205e-12\n"
     ]
    },
    {
     "name": "stderr",
     "output_type": "stream",
     "text": [
      "\n"
     ]
    }
   ],
   "execution_count": 27
  },
  {
   "cell_type": "markdown",
   "metadata": {},
   "source": [
    "## Black Litterman"
   ]
  },
  {
   "cell_type": "code",
   "metadata": {
    "ExecuteTime": {
     "end_time": "2024-04-15T02:33:13.986623Z",
     "start_time": "2024-04-15T02:32:43.635629Z"
    }
   },
   "source": [
    "# Define a list of strategies to optimize\n",
    "strategies = [\"Black Litterman\"] #Estrategia nombre a validar\n",
    "\n",
    "for strategy in strategies:\n",
    "    QAA_instance.set_optimization_strategy(strategy)\n",
    "    for model in optimization_models:\n",
    "        QAA_instance.set_optimization_model(model)\n",
    "        QAA_instance.optimize()\n",
    "        if QAA_instance.optimal_weights is not None:\n",
    "            print(f\"\\nOptimal weights in our class ({strategy} - {model}):\", [format(weight, '.4f') for weight in QAA_instance.optimal_weights])\n",
    "        else:\n",
    "            print(f\"\\nOptimization for {strategy} with {model} did not converge or is not implemented.\")"
   ],
   "outputs": [
    {
     "name": "stdout",
     "output_type": "stream",
     "text": [
      "\n",
      "Optimal weights in our class (Black Litterman - SLSQP): ['0.1000', '0.1000', '0.1000', '0.7000']\n",
      "\n",
      "Optimal weights in our class (Black Litterman - Monte Carlo): ['0.1070', '0.1111', '0.1031', '0.6788']\n",
      "\n",
      "Optimal weights in our class (Black Litterman - COBYLA): ['0.1000', '0.1000', '0.1000', '0.7000']\n"
     ]
    }
   ],
   "execution_count": 28
  },
  {
   "cell_type": "code",
   "metadata": {
    "ExecuteTime": {
     "end_time": "2024-04-15T02:33:13.998746Z",
     "start_time": "2024-04-15T02:33:13.986623Z"
    }
   },
   "source": [
    "# Procedimiento a Mano"
   ],
   "outputs": [],
   "execution_count": 29
  },
  {
   "cell_type": "markdown",
   "metadata": {},
   "source": [
    "## TOTAL RETURN AA"
   ]
  },
  {
   "cell_type": "code",
   "metadata": {
    "ExecuteTime": {
     "end_time": "2024-04-15T02:33:43.554413Z",
     "start_time": "2024-04-15T02:33:13.998746Z"
    }
   },
   "source": [
    "# Define a list of strategies to optimize\n",
    "strategies = [\"Total Return\"] #Estrategia nombre a validar\n",
    "\n",
    "for strategy in strategies:\n",
    "    QAA_instance.set_optimization_strategy(strategy)\n",
    "    for model in optimization_models:\n",
    "        QAA_instance.set_optimization_model(model)\n",
    "        QAA_instance.optimize()\n",
    "        if QAA_instance.optimal_weights is not None:\n",
    "            print(f\"\\nOptimal weights in our class ({strategy} - {model}):\", [format(weight, '.4f') for weight in QAA_instance.optimal_weights])\n",
    "        else:\n",
    "            print(f\"\\nOptimization for {strategy} with {model} did not converge or is not implemented.\")"
   ],
   "outputs": [
    {
     "name": "stdout",
     "output_type": "stream",
     "text": [
      "\n",
      "Optimal weights in our class (Total Return - SLSQP): ['0.7000', '0.1000', '0.1000', '0.1000']\n",
      "\n",
      "Optimal weights in our class (Total Return - Monte Carlo): ['0.6738', '0.1221', '0.1010', '0.1031']\n",
      "\n",
      "Optimal weights in our class (Total Return - COBYLA): ['0.6970', '0.1010', '0.1010', '0.1010']\n"
     ]
    }
   ],
   "execution_count": 30
  },
  {
   "cell_type": "code",
   "metadata": {
    "ExecuteTime": {
     "end_time": "2024-04-15T02:33:43.565130Z",
     "start_time": "2024-04-15T02:33:43.554413Z"
    }
   },
   "source": [
    "# Procedimiento a mano"
   ],
   "outputs": [],
   "execution_count": 31
  },
  {
   "cell_type": "code",
   "metadata": {
    "ExecuteTime": {
     "end_time": "2024-04-15T02:33:43.580400Z",
     "start_time": "2024-04-15T02:33:43.565130Z"
    }
   },
   "source": [],
   "outputs": [],
   "execution_count": 31
  }
 ],
 "metadata": {
  "kernelspec": {
   "display_name": "Python 3",
   "language": "python",
   "name": "python3"
  },
  "language_info": {
   "codemirror_mode": {
    "name": "ipython",
    "version": 3
   },
   "file_extension": ".py",
   "mimetype": "text/x-python",
   "name": "python",
   "nbconvert_exporter": "python",
   "pygments_lexer": "ipython3",
   "version": "3.9.13"
  }
 },
 "nbformat": 4,
 "nbformat_minor": 2
}
