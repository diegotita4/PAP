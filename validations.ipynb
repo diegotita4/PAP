{
 "cells": [
  {
   "cell_type": "markdown",
   "id": "8c60f38d",
   "metadata": {},
   "source": [
    " "
   ]
  },
  {
   "cell_type": "markdown",
   "id": "015b1c40",
   "metadata": {},
   "source": [
    "# ----------------------------------------------------------------------------------------------------"
   ]
  },
  {
   "cell_type": "markdown",
   "id": "ccf52f21",
   "metadata": {},
   "source": [
    " "
   ]
  },
  {
   "cell_type": "markdown",
   "id": "eecc3329",
   "metadata": {},
   "source": [
    "# VALIDATIONS (validations.py)"
   ]
  },
  {
   "cell_type": "markdown",
   "id": "d1596df9",
   "metadata": {},
   "source": [
    " "
   ]
  },
  {
   "cell_type": "code",
   "execution_count": 1,
   "id": "396cbd55",
   "metadata": {},
   "outputs": [],
   "source": [
    "# LIBRARIES\n",
    "import numpy as np\n",
    "import pandas as pd\n",
    "import yfinance as yf\n",
    "import matplotlib.pyplot as plt\n",
    "from functions import QAA\n",
    "from datetime import datetime\n",
    "from scipy.optimize import minimize\n",
    "from scipy.spatial.distance import squareform\n",
    "from scipy.cluster.hierarchy import linkage, dendrogram, leaves_list"
   ]
  },
  {
   "cell_type": "markdown",
   "id": "62c8c80e",
   "metadata": {},
   "source": [
    " "
   ]
  },
  {
   "cell_type": "code",
   "execution_count": 2,
   "id": "4927422a",
   "metadata": {},
   "outputs": [
    {
     "name": "stderr",
     "output_type": "stream",
     "text": [
      "c:\\Users\\diego\\OneDrive - ITESO\\ITESO - TITA\\Semestres - TITA\\10mo Sem -TITA\\PAP\\PAP\\venvPAP\\Lib\\site-packages\\yfinance\\utils.py:775: FutureWarning: The 'unit' keyword in TimedeltaIndex construction is deprecated and will be removed in a future version. Use pd.to_timedelta instead.\n",
      "  df.index += _pd.TimedeltaIndex(dst_error_hours, 'h')\n",
      "[                       0%%                      ]c:\\Users\\diego\\OneDrive - ITESO\\ITESO - TITA\\Semestres - TITA\\10mo Sem -TITA\\PAP\\PAP\\venvPAP\\Lib\\site-packages\\yfinance\\utils.py:775: FutureWarning: The 'unit' keyword in TimedeltaIndex construction is deprecated and will be removed in a future version. Use pd.to_timedelta instead.\n",
      "  df.index += _pd.TimedeltaIndex(dst_error_hours, 'h')\n",
      "c:\\Users\\diego\\OneDrive - ITESO\\ITESO - TITA\\Semestres - TITA\\10mo Sem -TITA\\PAP\\PAP\\venvPAP\\Lib\\site-packages\\yfinance\\utils.py:775: FutureWarning: The 'unit' keyword in TimedeltaIndex construction is deprecated and will be removed in a future version. Use pd.to_timedelta instead.\n",
      "  df.index += _pd.TimedeltaIndex(dst_error_hours, 'h')\n",
      "[**********************50%%                      ]  2 of 4 completedc:\\Users\\diego\\OneDrive - ITESO\\ITESO - TITA\\Semestres - TITA\\10mo Sem -TITA\\PAP\\PAP\\venvPAP\\Lib\\site-packages\\yfinance\\utils.py:775: FutureWarning: The 'unit' keyword in TimedeltaIndex construction is deprecated and will be removed in a future version. Use pd.to_timedelta instead.\n",
      "  df.index += _pd.TimedeltaIndex(dst_error_hours, 'h')\n",
      "[*********************100%%**********************]  4 of 4 completed\n"
     ]
    }
   ],
   "source": [
    "tickers = [\"ABBV\", \"MET\", \"OXY\", \"PERI\"]\n",
    "start_date = \"2020-01-02\"\n",
    "end_date = \"2024-01-23\"\n",
    "\n",
    "validation_data = yf.download(tickers, start=start_date, end=end_date)['Adj Close']\n",
    "validation_returns = validation_data.pct_change().dropna()"
   ]
  },
  {
   "cell_type": "markdown",
   "id": "dca4c0d1",
   "metadata": {},
   "source": [
    " "
   ]
  },
  {
   "cell_type": "markdown",
   "id": "d7d496c2",
   "metadata": {},
   "source": [
    "# ----------------------------------------------------------------------------------------------------"
   ]
  },
  {
   "cell_type": "markdown",
   "id": "63e1af2d",
   "metadata": {},
   "source": [
    " "
   ]
  },
  {
   "cell_type": "markdown",
   "id": "c7a3b26a",
   "metadata": {},
   "source": [
    "## MIN VARIANCE"
   ]
  },
  {
   "cell_type": "markdown",
   "id": "cf921d03",
   "metadata": {},
   "source": [
    " "
   ]
  },
  {
   "cell_type": "markdown",
   "id": "8b9659f8",
   "metadata": {},
   "source": [
    " ### functions.py"
   ]
  },
  {
   "cell_type": "code",
   "execution_count": 3,
   "id": "c08fab66",
   "metadata": {},
   "outputs": [
    {
     "name": "stderr",
     "output_type": "stream",
     "text": [
      "c:\\Users\\diego\\OneDrive - ITESO\\ITESO - TITA\\Semestres - TITA\\10mo Sem -TITA\\PAP\\PAP\\venvPAP\\Lib\\site-packages\\yfinance\\utils.py:775: FutureWarning: The 'unit' keyword in TimedeltaIndex construction is deprecated and will be removed in a future version. Use pd.to_timedelta instead.\n",
      "  df.index += _pd.TimedeltaIndex(dst_error_hours, 'h')\n",
      "c:\\Users\\diego\\OneDrive - ITESO\\ITESO - TITA\\Semestres - TITA\\10mo Sem -TITA\\PAP\\PAP\\venvPAP\\Lib\\site-packages\\yfinance\\utils.py:775: FutureWarning: The 'unit' keyword in TimedeltaIndex construction is deprecated and will be removed in a future version. Use pd.to_timedelta instead.\n",
      "  df.index += _pd.TimedeltaIndex(dst_error_hours, 'h')\n",
      "c:\\Users\\diego\\OneDrive - ITESO\\ITESO - TITA\\Semestres - TITA\\10mo Sem -TITA\\PAP\\PAP\\venvPAP\\Lib\\site-packages\\yfinance\\utils.py:775: FutureWarning: The 'unit' keyword in TimedeltaIndex construction is deprecated and will be removed in a future version. Use pd.to_timedelta instead.\n",
      "  df.index += _pd.TimedeltaIndex(dst_error_hours, 'h')\n",
      "[                       0%%                      ]c:\\Users\\diego\\OneDrive - ITESO\\ITESO - TITA\\Semestres - TITA\\10mo Sem -TITA\\PAP\\PAP\\venvPAP\\Lib\\site-packages\\yfinance\\utils.py:775: FutureWarning: The 'unit' keyword in TimedeltaIndex construction is deprecated and will be removed in a future version. Use pd.to_timedelta instead.\n",
      "  df.index += _pd.TimedeltaIndex(dst_error_hours, 'h')\n",
      "[**********************60%%***                   ]  3 of 5 completedc:\\Users\\diego\\OneDrive - ITESO\\ITESO - TITA\\Semestres - TITA\\10mo Sem -TITA\\PAP\\PAP\\venvPAP\\Lib\\site-packages\\yfinance\\utils.py:775: FutureWarning: The 'unit' keyword in TimedeltaIndex construction is deprecated and will be removed in a future version. Use pd.to_timedelta instead.\n",
      "  df.index += _pd.TimedeltaIndex(dst_error_hours, 'h')\n",
      "[*********************100%%**********************]  5 of 5 completed\n",
      "c:\\Users\\diego\\OneDrive - ITESO\\ITESO - TITA\\Semestres - TITA\\10mo Sem -TITA\\PAP\\PAP\\venvPAP\\Lib\\site-packages\\yfinance\\utils.py:775: FutureWarning: The 'unit' keyword in TimedeltaIndex construction is deprecated and will be removed in a future version. Use pd.to_timedelta instead.\n",
      "  df.index += _pd.TimedeltaIndex(dst_error_hours, 'h')\n",
      "c:\\Users\\diego\\OneDrive - ITESO\\ITESO - TITA\\Semestres - TITA\\10mo Sem -TITA\\PAP\\PAP\\venvPAP\\Lib\\site-packages\\yfinance\\utils.py:775: FutureWarning: The 'unit' keyword in TimedeltaIndex construction is deprecated and will be removed in a future version. Use pd.to_timedelta instead.\n",
      "  df.index += _pd.TimedeltaIndex(dst_error_hours, 'h')\n",
      "c:\\Users\\diego\\OneDrive - ITESO\\ITESO - TITA\\Semestres - TITA\\10mo Sem -TITA\\PAP\\PAP\\venvPAP\\Lib\\site-packages\\yfinance\\utils.py:775: FutureWarning: The 'unit' keyword in TimedeltaIndex construction is deprecated and will be removed in a future version. Use pd.to_timedelta instead.\n",
      "  df.index += _pd.TimedeltaIndex(dst_error_hours, 'h')\n",
      "c:\\Users\\diego\\OneDrive - ITESO\\ITESO - TITA\\Semestres - TITA\\10mo Sem -TITA\\PAP\\PAP\\venvPAP\\Lib\\site-packages\\yfinance\\utils.py:775: FutureWarning: The 'unit' keyword in TimedeltaIndex construction is deprecated and will be removed in a future version. Use pd.to_timedelta instead.\n",
      "  df.index += _pd.TimedeltaIndex(dst_error_hours, 'h')\n",
      "[                       0%%                      ]c:\\Users\\diego\\OneDrive - ITESO\\ITESO - TITA\\Semestres - TITA\\10mo Sem -TITA\\PAP\\PAP\\venvPAP\\Lib\\site-packages\\yfinance\\utils.py:775: FutureWarning: The 'unit' keyword in TimedeltaIndex construction is deprecated and will be removed in a future version. Use pd.to_timedelta instead.\n",
      "  df.index += _pd.TimedeltaIndex(dst_error_hours, 'h')\n",
      "[*********************100%%**********************]  5 of 5 completed\n"
     ]
    },
    {
     "name": "stdout",
     "output_type": "stream",
     "text": [
      "\n",
      "Optimal Portfolio Weights for MIN VARIANCE QAA using SLSQP optimization:\n",
      "ABBV    0.25\n",
      "MET     0.25\n",
      "OXY     0.25\n",
      "PERI    0.25\n",
      "Name: Optimal Weights, dtype: float64\n"
     ]
    },
    {
     "name": "stderr",
     "output_type": "stream",
     "text": [
      "c:\\Users\\diego\\OneDrive - ITESO\\ITESO - TITA\\Semestres - TITA\\10mo Sem -TITA\\PAP\\PAP\\venvPAP\\Lib\\site-packages\\yfinance\\utils.py:775: FutureWarning: The 'unit' keyword in TimedeltaIndex construction is deprecated and will be removed in a future version. Use pd.to_timedelta instead.\n",
      "  df.index += _pd.TimedeltaIndex(dst_error_hours, 'h')\n",
      "c:\\Users\\diego\\OneDrive - ITESO\\ITESO - TITA\\Semestres - TITA\\10mo Sem -TITA\\PAP\\PAP\\venvPAP\\Lib\\site-packages\\yfinance\\utils.py:775: FutureWarning: The 'unit' keyword in TimedeltaIndex construction is deprecated and will be removed in a future version. Use pd.to_timedelta instead.\n",
      "  df.index += _pd.TimedeltaIndex(dst_error_hours, 'h')\n",
      "c:\\Users\\diego\\OneDrive - ITESO\\ITESO - TITA\\Semestres - TITA\\10mo Sem -TITA\\PAP\\PAP\\venvPAP\\Lib\\site-packages\\yfinance\\utils.py:775: FutureWarning: The 'unit' keyword in TimedeltaIndex construction is deprecated and will be removed in a future version. Use pd.to_timedelta instead.\n",
      "  df.index += _pd.TimedeltaIndex(dst_error_hours, 'h')\n",
      "c:\\Users\\diego\\OneDrive - ITESO\\ITESO - TITA\\Semestres - TITA\\10mo Sem -TITA\\PAP\\PAP\\venvPAP\\Lib\\site-packages\\yfinance\\utils.py:775: FutureWarning: The 'unit' keyword in TimedeltaIndex construction is deprecated and will be removed in a future version. Use pd.to_timedelta instead.\n",
      "  df.index += _pd.TimedeltaIndex(dst_error_hours, 'h')\n",
      "[                       0%%                      ]c:\\Users\\diego\\OneDrive - ITESO\\ITESO - TITA\\Semestres - TITA\\10mo Sem -TITA\\PAP\\PAP\\venvPAP\\Lib\\site-packages\\yfinance\\utils.py:775: FutureWarning: The 'unit' keyword in TimedeltaIndex construction is deprecated and will be removed in a future version. Use pd.to_timedelta instead.\n",
      "  df.index += _pd.TimedeltaIndex(dst_error_hours, 'h')\n",
      "[*********************100%%**********************]  5 of 5 completed"
     ]
    },
    {
     "name": "stdout",
     "output_type": "stream",
     "text": [
      "\n",
      "Optimal Portfolio Weights for MIN VARIANCE QAA using MONTECARLO optimization:\n",
      "ABBV    0.656560\n",
      "MET     0.168150\n",
      "OXY     0.078238\n",
      "PERI    0.097052\n",
      "Name: Optimal Weights, dtype: float64\n",
      "\n",
      "Optimal Portfolio Weights for MIN VARIANCE QAA using COBYLA optimization:\n",
      "ABBV    0.7\n",
      "MET     0.1\n",
      "OXY     0.1\n",
      "PERI    0.1\n",
      "Name: Optimal Weights, dtype: float64\n"
     ]
    },
    {
     "name": "stderr",
     "output_type": "stream",
     "text": [
      "\n"
     ]
    }
   ],
   "source": [
    "optimization_models = [\"SLSQP\", \"MONTECARLO\", \"COBYLA\"]#, \"PSO\"]\n",
    "\n",
    "for optimization_model in optimization_models:\n",
    "    qaa_instance = QAA(\n",
    "        tickers=[\"ABBV\", \"MET\", \"OXY\", \"PERI\"],\n",
    "        benchmark=\"SPY\",\n",
    "        rf=0.02,\n",
    "        lower_bound=0.10,\n",
    "        higher_bound=0.90,\n",
    "        start_date=\"2020-01-02\",\n",
    "        end_date=\"2024-01-23\",\n",
    "        expected_returns=np.array([.15, .1, .1, .1]),\n",
    "        opinions=np.array([[1, 0, 0, 0], [0, 1, -3, 0], [0, 0, 1, -1], [0, 0, 0, 0]]),\n",
    "        MAR=0.2,\n",
    "        optimization_model=optimization_model,\n",
    "        QAA_strategy=\"MIN VARIANCE\"\n",
    "    )\n",
    "    \n",
    "    try:\n",
    "        data, returns, std, var, cov, corr = qaa_instance.assets_metrics()\n",
    "\n",
    "        optimal_weights = qaa_instance.QAA_strategy_selection(returns=returns)\n",
    "        \n",
    "    except ValueError as ve:\n",
    "        print(f\"Error: {str(ve)}\")"
   ]
  },
  {
   "cell_type": "markdown",
   "id": "16551201",
   "metadata": {},
   "source": [
    " "
   ]
  },
  {
   "cell_type": "markdown",
   "id": "e7b75676",
   "metadata": {},
   "source": [
    "##### ~~~~~~~~~~~~~~~~~~~~~~~~~~~~~~~~~~~~~~~~~~~~~~~~~~~~~~~~~~~~~~~~~~~~~~~~~~~~~~~~~~~~~~~~~~~~~~~~~~~~"
   ]
  },
  {
   "cell_type": "markdown",
   "id": "962b9128",
   "metadata": {},
   "source": [
    " "
   ]
  },
  {
   "cell_type": "markdown",
   "id": "2ebff33c",
   "metadata": {},
   "source": [
    " ### validations.py"
   ]
  },
  {
   "cell_type": "code",
   "execution_count": 4,
   "id": "0f360ff8",
   "metadata": {},
   "outputs": [
    {
     "data": {
      "text/plain": [
       "OrderedDict([('ABBV', 0.7), ('MET', 0.1), ('OXY', 0.1), ('PERI', 0.1)])"
      ]
     },
     "execution_count": 4,
     "metadata": {},
     "output_type": "execute_result"
    }
   ],
   "source": [
    "from pypfopt import EfficientFrontier\n",
    "from pypfopt import expected_returns\n",
    "from pypfopt import risk_models\n",
    "\n",
    "mu = expected_returns.mean_historical_return(validation_data)\n",
    "Sigma = risk_models.sample_cov(validation_data)\n",
    "\n",
    "ef = EfficientFrontier(mu, Sigma)\n",
    "\n",
    "ef.add_constraint(lambda w: w >= 0.10)\n",
    "ef.add_constraint(lambda w: w <= 0.9)\n",
    "\n",
    "ef.min_volatility()"
   ]
  },
  {
   "cell_type": "markdown",
   "id": "2e76180b",
   "metadata": {},
   "source": [
    " "
   ]
  },
  {
   "cell_type": "markdown",
   "id": "dc376c48",
   "metadata": {},
   "source": [
    "# ----------------------------------------------------------------------------------------------------"
   ]
  },
  {
   "cell_type": "markdown",
   "id": "1d9db67a",
   "metadata": {},
   "source": [
    " "
   ]
  },
  {
   "cell_type": "markdown",
   "id": "20d93363",
   "metadata": {},
   "source": [
    "## MAX SHARPE RATIO"
   ]
  },
  {
   "cell_type": "markdown",
   "id": "baad6c0b",
   "metadata": {},
   "source": [
    " ### functions.py"
   ]
  },
  {
   "cell_type": "code",
   "execution_count": 5,
   "id": "283dd95e",
   "metadata": {},
   "outputs": [
    {
     "name": "stderr",
     "output_type": "stream",
     "text": [
      "c:\\Users\\diego\\OneDrive - ITESO\\ITESO - TITA\\Semestres - TITA\\10mo Sem -TITA\\PAP\\PAP\\venvPAP\\Lib\\site-packages\\yfinance\\utils.py:775: FutureWarning: The 'unit' keyword in TimedeltaIndex construction is deprecated and will be removed in a future version. Use pd.to_timedelta instead.\n",
      "  df.index += _pd.TimedeltaIndex(dst_error_hours, 'h')\n",
      "c:\\Users\\diego\\OneDrive - ITESO\\ITESO - TITA\\Semestres - TITA\\10mo Sem -TITA\\PAP\\PAP\\venvPAP\\Lib\\site-packages\\yfinance\\utils.py:775: FutureWarning: The 'unit' keyword in TimedeltaIndex construction is deprecated and will be removed in a future version. Use pd.to_timedelta instead.\n",
      "  df.index += _pd.TimedeltaIndex(dst_error_hours, 'h')\n",
      "c:\\Users\\diego\\OneDrive - ITESO\\ITESO - TITA\\Semestres - TITA\\10mo Sem -TITA\\PAP\\PAP\\venvPAP\\Lib\\site-packages\\yfinance\\utils.py:775: FutureWarning: The 'unit' keyword in TimedeltaIndex construction is deprecated and will be removed in a future version. Use pd.to_timedelta instead.\n",
      "  df.index += _pd.TimedeltaIndex(dst_error_hours, 'h')\n",
      "[                       0%%                      ]c:\\Users\\diego\\OneDrive - ITESO\\ITESO - TITA\\Semestres - TITA\\10mo Sem -TITA\\PAP\\PAP\\venvPAP\\Lib\\site-packages\\yfinance\\utils.py:775: FutureWarning: The 'unit' keyword in TimedeltaIndex construction is deprecated and will be removed in a future version. Use pd.to_timedelta instead.\n",
      "  df.index += _pd.TimedeltaIndex(dst_error_hours, 'h')\n",
      "c:\\Users\\diego\\OneDrive - ITESO\\ITESO - TITA\\Semestres - TITA\\10mo Sem -TITA\\PAP\\PAP\\venvPAP\\Lib\\site-packages\\yfinance\\utils.py:775: FutureWarning: The 'unit' keyword in TimedeltaIndex construction is deprecated and will be removed in a future version. Use pd.to_timedelta instead.\n",
      "  df.index += _pd.TimedeltaIndex(dst_error_hours, 'h')\n",
      "[*********************100%%**********************]  5 of 5 completed\n",
      "c:\\Users\\diego\\OneDrive - ITESO\\ITESO - TITA\\Semestres - TITA\\10mo Sem -TITA\\PAP\\PAP\\venvPAP\\Lib\\site-packages\\yfinance\\utils.py:775: FutureWarning: The 'unit' keyword in TimedeltaIndex construction is deprecated and will be removed in a future version. Use pd.to_timedelta instead.\n",
      "  df.index += _pd.TimedeltaIndex(dst_error_hours, 'h')\n",
      "c:\\Users\\diego\\OneDrive - ITESO\\ITESO - TITA\\Semestres - TITA\\10mo Sem -TITA\\PAP\\PAP\\venvPAP\\Lib\\site-packages\\yfinance\\utils.py:775: FutureWarning: The 'unit' keyword in TimedeltaIndex construction is deprecated and will be removed in a future version. Use pd.to_timedelta instead.\n",
      "  df.index += _pd.TimedeltaIndex(dst_error_hours, 'h')\n",
      "c:\\Users\\diego\\OneDrive - ITESO\\ITESO - TITA\\Semestres - TITA\\10mo Sem -TITA\\PAP\\PAP\\venvPAP\\Lib\\site-packages\\yfinance\\utils.py:775: FutureWarning: The 'unit' keyword in TimedeltaIndex construction is deprecated and will be removed in a future version. Use pd.to_timedelta instead.\n",
      "  df.index += _pd.TimedeltaIndex(dst_error_hours, 'h')\n",
      "c:\\Users\\diego\\OneDrive - ITESO\\ITESO - TITA\\Semestres - TITA\\10mo Sem -TITA\\PAP\\PAP\\venvPAP\\Lib\\site-packages\\yfinance\\utils.py:775: FutureWarning: The 'unit' keyword in TimedeltaIndex construction is deprecated and will be removed in a future version. Use pd.to_timedelta instead.\n",
      "  df.index += _pd.TimedeltaIndex(dst_error_hours, 'h')\n",
      "c:\\Users\\diego\\OneDrive - ITESO\\ITESO - TITA\\Semestres - TITA\\10mo Sem -TITA\\PAP\\PAP\\venvPAP\\Lib\\site-packages\\yfinance\\utils.py:775: FutureWarning: The 'unit' keyword in TimedeltaIndex construction is deprecated and will be removed in a future version. Use pd.to_timedelta instead.\n",
      "  df.index += _pd.TimedeltaIndex(dst_error_hours, 'h')\n",
      "[*********************100%%**********************]  5 of 5 completed\n"
     ]
    },
    {
     "name": "stdout",
     "output_type": "stream",
     "text": [
      "\n",
      "Optimal Portfolio Weights for MAX SHARPE RATIO QAA using SLSQP optimization:\n",
      "ABBV    0.1\n",
      "MET     0.1\n",
      "OXY     0.7\n",
      "PERI    0.1\n",
      "Name: Optimal Weights, dtype: float64\n"
     ]
    },
    {
     "name": "stderr",
     "output_type": "stream",
     "text": [
      "c:\\Users\\diego\\OneDrive - ITESO\\ITESO - TITA\\Semestres - TITA\\10mo Sem -TITA\\PAP\\PAP\\venvPAP\\Lib\\site-packages\\yfinance\\utils.py:775: FutureWarning: The 'unit' keyword in TimedeltaIndex construction is deprecated and will be removed in a future version. Use pd.to_timedelta instead.\n",
      "  df.index += _pd.TimedeltaIndex(dst_error_hours, 'h')\n",
      "c:\\Users\\diego\\OneDrive - ITESO\\ITESO - TITA\\Semestres - TITA\\10mo Sem -TITA\\PAP\\PAP\\venvPAP\\Lib\\site-packages\\yfinance\\utils.py:775: FutureWarning: The 'unit' keyword in TimedeltaIndex construction is deprecated and will be removed in a future version. Use pd.to_timedelta instead.\n",
      "  df.index += _pd.TimedeltaIndex(dst_error_hours, 'h')\n",
      "c:\\Users\\diego\\OneDrive - ITESO\\ITESO - TITA\\Semestres - TITA\\10mo Sem -TITA\\PAP\\PAP\\venvPAP\\Lib\\site-packages\\yfinance\\utils.py:775: FutureWarning: The 'unit' keyword in TimedeltaIndex construction is deprecated and will be removed in a future version. Use pd.to_timedelta instead.\n",
      "  df.index += _pd.TimedeltaIndex(dst_error_hours, 'h')\n",
      "c:\\Users\\diego\\OneDrive - ITESO\\ITESO - TITA\\Semestres - TITA\\10mo Sem -TITA\\PAP\\PAP\\venvPAP\\Lib\\site-packages\\yfinance\\utils.py:775: FutureWarning: The 'unit' keyword in TimedeltaIndex construction is deprecated and will be removed in a future version. Use pd.to_timedelta instead.\n",
      "  df.index += _pd.TimedeltaIndex(dst_error_hours, 'h')\n",
      "c:\\Users\\diego\\OneDrive - ITESO\\ITESO - TITA\\Semestres - TITA\\10mo Sem -TITA\\PAP\\PAP\\venvPAP\\Lib\\site-packages\\yfinance\\utils.py:775: FutureWarning: The 'unit' keyword in TimedeltaIndex construction is deprecated and will be removed in a future version. Use pd.to_timedelta instead.\n",
      "  df.index += _pd.TimedeltaIndex(dst_error_hours, 'h')\n",
      "[*********************100%%**********************]  5 of 5 completed"
     ]
    },
    {
     "name": "stdout",
     "output_type": "stream",
     "text": [
      "\n",
      "Optimal Portfolio Weights for MAX SHARPE RATIO QAA using MONTECARLO optimization:\n",
      "ABBV    0.084963\n",
      "MET     0.136021\n",
      "OXY     0.686987\n",
      "PERI    0.092029\n",
      "Name: Optimal Weights, dtype: float64\n",
      "\n",
      "Optimal Portfolio Weights for MAX SHARPE RATIO QAA using COBYLA optimization:\n",
      "ABBV    0.9\n",
      "MET     0.9\n",
      "OXY     0.9\n",
      "PERI    0.9\n",
      "Name: Optimal Weights, dtype: float64\n"
     ]
    },
    {
     "name": "stderr",
     "output_type": "stream",
     "text": [
      "\n"
     ]
    }
   ],
   "source": [
    "optimization_models = [\"SLSQP\", \"MONTECARLO\", \"COBYLA\"]#, \"PSO\"]\n",
    "\n",
    "for optimization_model in optimization_models:\n",
    "    qaa_instance = QAA(\n",
    "        tickers=[\"ABBV\", \"MET\", \"OXY\", \"PERI\"],\n",
    "        benchmark=\"SPY\",\n",
    "        rf=0.02,\n",
    "        lower_bound=0.10,\n",
    "        higher_bound=0.90,\n",
    "        start_date=\"2020-01-02\",\n",
    "        end_date=\"2024-01-23\",\n",
    "        expected_returns=np.array([.15, .1, .1, .1]),\n",
    "        opinions=np.array([[1, 0, 0, 0], [0, 1, -3, 0], [0, 0, 1, -1], [0, 0, 0, 0]]),\n",
    "        MAR=0.2,\n",
    "        optimization_model=optimization_model,\n",
    "        QAA_strategy=\"MAX SHARPE RATIO\"\n",
    "    )\n",
    "    \n",
    "    try:\n",
    "        data, returns, std, var, cov, corr = qaa_instance.assets_metrics()\n",
    "\n",
    "        optimal_weights = qaa_instance.QAA_strategy_selection(returns=returns)\n",
    "        \n",
    "    except ValueError as ve:\n",
    "        print(f\"Error: {str(ve)}\")"
   ]
  },
  {
   "cell_type": "markdown",
   "id": "483afde6",
   "metadata": {},
   "source": [
    " "
   ]
  },
  {
   "cell_type": "markdown",
   "id": "38e34030",
   "metadata": {},
   "source": [
    "##### ~~~~~~~~~~~~~~~~~~~~~~~~~~~~~~~~~~~~~~~~~~~~~~~~~~~~~~~~~~~~~~~~~~~~~~~~~~~~~~~~~~~~~~~~~~~~~~~~~~~~"
   ]
  },
  {
   "cell_type": "markdown",
   "id": "c996df5c",
   "metadata": {},
   "source": [
    " "
   ]
  },
  {
   "cell_type": "markdown",
   "id": "d8ef5756",
   "metadata": {},
   "source": [
    " ### validations.py"
   ]
  },
  {
   "cell_type": "code",
   "execution_count": 6,
   "id": "5d877c78",
   "metadata": {},
   "outputs": [
    {
     "data": {
      "text/plain": [
       "OrderedDict([('ABBV', 0.5701564412846583),\n",
       "             ('MET', 0.1),\n",
       "             ('OXY', 0.1),\n",
       "             ('PERI', 0.2298435587153416)])"
      ]
     },
     "execution_count": 6,
     "metadata": {},
     "output_type": "execute_result"
    }
   ],
   "source": [
    "from pypfopt import EfficientFrontier\n",
    "from pypfopt import expected_returns\n",
    "from pypfopt import risk_models\n",
    "\n",
    "mu = expected_returns.mean_historical_return(validation_data)\n",
    "Sigma = risk_models.sample_cov(validation_data)\n",
    "\n",
    "ef = EfficientFrontier(mu, Sigma)\n",
    "\n",
    "ef.add_constraint(lambda w: w >= 0.10)\n",
    "ef.add_constraint(lambda w: w <= 0.9)\n",
    "\n",
    "ef.max_sharpe()"
   ]
  },
  {
   "cell_type": "markdown",
   "id": "84a78fa1",
   "metadata": {},
   "source": [
    " "
   ]
  },
  {
   "cell_type": "markdown",
   "id": "47296269",
   "metadata": {},
   "source": [
    "# ----------------------------------------------------------------------------------------------------"
   ]
  },
  {
   "cell_type": "markdown",
   "id": "2e7bbe46",
   "metadata": {},
   "source": [
    " "
   ]
  },
  {
   "cell_type": "markdown",
   "id": "46b3c697",
   "metadata": {},
   "source": [
    "## OMEGA"
   ]
  },
  {
   "cell_type": "markdown",
   "id": "5b78485c",
   "metadata": {},
   "source": [
    " ### functions.py"
   ]
  },
  {
   "cell_type": "raw",
   "id": "c67f533c",
   "metadata": {},
   "source": [
    "optimization_models = [\"SLSQP\", \"MONTECARLO\", \"COBYLA\"]#, \"PSO\"]\n",
    "\n",
    "for optimization_model in optimization_models:\n",
    "    qaa_instance = QAA(\n",
    "        tickers=[\"ABBV\", \"MET\", \"OXY\", \"PERI\"],\n",
    "        benchmark=\"SPY\",\n",
    "        rf=0.02,\n",
    "        lower_bound=0.00,\n",
    "        higher_bound=0.00,\n",
    "        start_date=\"2020-01-02\",\n",
    "        end_date=\"2024-01-23\",\n",
    "        expected_returns=np.array([.15, .1, .1, .1]),\n",
    "        opinions=np.array([[1, 0, 0, 0], [0, 1, -3, 0], [0, 0, 1, -1], [0, 0, 0, 0]]),\n",
    "        MAR=0.2,\n",
    "        optimization_model=optimization_model,\n",
    "        QAA_strategy=\"OMEGA\"\n",
    "    )\n",
    "    \n",
    "    try:\n",
    "        data, returns, std, var, cov, corr = qaa_instance.assets_metrics()\n",
    "\n",
    "        optimal_weights = qaa_instance.QAA_strategy_selection(returns=returns)\n",
    "        \n",
    "    except ValueError as ve:\n",
    "        print(f\"Error: {str(ve)}\")"
   ]
  },
  {
   "cell_type": "markdown",
   "id": "291c0278",
   "metadata": {},
   "source": [
    " "
   ]
  },
  {
   "cell_type": "markdown",
   "id": "2c06d71c",
   "metadata": {},
   "source": [
    "##### ~~~~~~~~~~~~~~~~~~~~~~~~~~~~~~~~~~~~~~~~~~~~~~~~~~~~~~~~~~~~~~~~~~~~~~~~~~~~~~~~~~~~~~~~~~~~~~~~~~~~"
   ]
  },
  {
   "cell_type": "markdown",
   "id": "20b46dfc",
   "metadata": {},
   "source": [
    " "
   ]
  },
  {
   "cell_type": "markdown",
   "id": "3a43765b",
   "metadata": {},
   "source": [
    " ### validations.py"
   ]
  },
  {
   "cell_type": "code",
   "execution_count": null,
   "id": "3688f99f",
   "metadata": {},
   "outputs": [],
   "source": []
  },
  {
   "cell_type": "markdown",
   "id": "aabf634e",
   "metadata": {},
   "source": [
    " "
   ]
  },
  {
   "cell_type": "markdown",
   "id": "e54c076b",
   "metadata": {},
   "source": [
    "# ----------------------------------------------------------------------------------------------------"
   ]
  },
  {
   "cell_type": "markdown",
   "id": "bf5f7f55",
   "metadata": {},
   "source": [
    " "
   ]
  },
  {
   "cell_type": "markdown",
   "id": "dfd30a2c",
   "metadata": {},
   "source": [
    "## SEMIVARIANCE"
   ]
  },
  {
   "cell_type": "markdown",
   "id": "2e968df5",
   "metadata": {},
   "source": [
    " ### functions.py"
   ]
  },
  {
   "cell_type": "raw",
   "id": "f67fa6ed",
   "metadata": {},
   "source": [
    "optimization_models = [\"SLSQP\", \"MONTECARLO\", \"COBYLA\"]#, \"PSO\"]\n",
    "\n",
    "for optimization_model in optimization_models:\n",
    "    qaa_instance = QAA(\n",
    "        tickers=[\"ABBV\", \"MET\", \"OXY\", \"PERI\"],\n",
    "        benchmark=\"SPY\",\n",
    "        rf=0.02,\n",
    "        lower_bound=0.00,\n",
    "        higher_bound=0.00,\n",
    "        start_date=\"2020-01-02\",\n",
    "        end_date=\"2024-01-23\",\n",
    "        expected_returns=np.array([.15, .1, .1, .1]),\n",
    "        opinions=np.array([[1, 0, 0, 0], [0, 1, -3, 0], [0, 0, 1, -1], [0, 0, 0, 0]]),\n",
    "        MAR=0.2,\n",
    "        optimization_model=optimization_model,\n",
    "        QAA_strategy=\"SEMIVARIANCE\"\n",
    "    )\n",
    "    \n",
    "    try:\n",
    "        data, returns, std, var, cov, corr = qaa_instance.assets_metrics()\n",
    "\n",
    "        optimal_weights = qaa_instance.QAA_strategy_selection(returns=returns)\n",
    "        \n",
    "    except ValueError as ve:\n",
    "        print(f\"Error: {str(ve)}\")"
   ]
  },
  {
   "cell_type": "markdown",
   "id": "954231fd",
   "metadata": {},
   "source": [
    " "
   ]
  },
  {
   "cell_type": "markdown",
   "id": "6dbc0a12",
   "metadata": {},
   "source": [
    "##### ~~~~~~~~~~~~~~~~~~~~~~~~~~~~~~~~~~~~~~~~~~~~~~~~~~~~~~~~~~~~~~~~~~~~~~~~~~~~~~~~~~~~~~~~~~~~~~~~~~~~"
   ]
  },
  {
   "cell_type": "markdown",
   "id": "8900c2ee",
   "metadata": {},
   "source": [
    " "
   ]
  },
  {
   "cell_type": "markdown",
   "id": "ed022b5c",
   "metadata": {},
   "source": [
    " ### validations.py"
   ]
  },
  {
   "cell_type": "code",
   "execution_count": null,
   "id": "bb82f0c5",
   "metadata": {},
   "outputs": [],
   "source": []
  },
  {
   "cell_type": "markdown",
   "id": "3ace3c14",
   "metadata": {},
   "source": [
    " "
   ]
  },
  {
   "cell_type": "markdown",
   "id": "7549786e",
   "metadata": {},
   "source": [
    "# ----------------------------------------------------------------------------------------------------"
   ]
  },
  {
   "cell_type": "markdown",
   "id": "682b3674",
   "metadata": {},
   "source": [
    " "
   ]
  },
  {
   "cell_type": "markdown",
   "id": "9b5562d8",
   "metadata": {},
   "source": [
    "## SORTINO RATIO"
   ]
  },
  {
   "cell_type": "markdown",
   "id": "d6cf2f5b",
   "metadata": {},
   "source": [
    " ### functions.py"
   ]
  },
  {
   "cell_type": "raw",
   "id": "abdff37b",
   "metadata": {},
   "source": [
    "optimization_models = [\"SLSQP\", \"MONTECARLO\", \"COBYLA\"]#, \"PSO\"]\n",
    "\n",
    "for optimization_model in optimization_models:\n",
    "    qaa_instance = QAA(\n",
    "        tickers=[\"ABBV\", \"MET\", \"OXY\", \"PERI\"],\n",
    "        benchmark=\"SPY\",\n",
    "        rf=0.02,\n",
    "        lower_bound=0.00,\n",
    "        higher_bound=0.00,\n",
    "        start_date=\"2020-01-02\",\n",
    "        end_date=\"2024-01-23\",\n",
    "        expected_returns=np.array([.15, .1, .1, .1]),\n",
    "        opinions=np.array([[1, 0, 0, 0], [0, 1, -3, 0], [0, 0, 1, -1], [0, 0, 0, 0]]),\n",
    "        MAR=0.2,\n",
    "        optimization_model=optimization_model,\n",
    "        QAA_strategy=\"SORTINO RATIO\"\n",
    "    )\n",
    "    \n",
    "    try:\n",
    "        data, returns, std, var, cov, corr = qaa_instance.assets_metrics()\n",
    "\n",
    "        optimal_weights = qaa_instance.QAA_strategy_selection(returns=returns)\n",
    "        \n",
    "    except ValueError as ve:\n",
    "        print(f\"Error: {str(ve)}\")"
   ]
  },
  {
   "cell_type": "markdown",
   "id": "68d09c5f",
   "metadata": {},
   "source": [
    " "
   ]
  },
  {
   "cell_type": "markdown",
   "id": "33c5090e",
   "metadata": {},
   "source": [
    "##### ~~~~~~~~~~~~~~~~~~~~~~~~~~~~~~~~~~~~~~~~~~~~~~~~~~~~~~~~~~~~~~~~~~~~~~~~~~~~~~~~~~~~~~~~~~~~~~~~~~~~"
   ]
  },
  {
   "cell_type": "markdown",
   "id": "f6129c48",
   "metadata": {},
   "source": [
    " "
   ]
  },
  {
   "cell_type": "markdown",
   "id": "ad4102cd",
   "metadata": {},
   "source": [
    " ### validations.py"
   ]
  },
  {
   "cell_type": "code",
   "execution_count": null,
   "id": "faffcb76",
   "metadata": {},
   "outputs": [],
   "source": []
  },
  {
   "cell_type": "markdown",
   "id": "820f6fc7",
   "metadata": {},
   "source": [
    " "
   ]
  },
  {
   "cell_type": "markdown",
   "id": "a6b9e79b",
   "metadata": {},
   "source": [
    "# ----------------------------------------------------------------------------------------------------"
   ]
  },
  {
   "cell_type": "markdown",
   "id": "b7408ac9",
   "metadata": {},
   "source": [
    " "
   ]
  },
  {
   "cell_type": "markdown",
   "id": "4188cde1",
   "metadata": {},
   "source": [
    "## BLACK LITTERMAN"
   ]
  },
  {
   "cell_type": "markdown",
   "id": "7d3f2644",
   "metadata": {},
   "source": [
    " ### functions.py"
   ]
  },
  {
   "cell_type": "raw",
   "id": "76abd9fe",
   "metadata": {},
   "source": [
    "optimization_models = [\"SLSQP\", \"MONTECARLO\", \"COBYLA\"]#, \"PSO\"]\n",
    "\n",
    "for optimization_model in optimization_models:\n",
    "    qaa_instance = QAA(\n",
    "        tickers=[\"ABBV\", \"MET\", \"OXY\", \"PERI\"],\n",
    "        benchmark=\"SPY\",\n",
    "        rf=0.02,\n",
    "        lower_bound=0.00,\n",
    "        higher_bound=0.00,\n",
    "        start_date=\"2020-01-02\",\n",
    "        end_date=\"2024-01-23\",\n",
    "        expected_returns=np.array([.15, .1, .1, .1]),\n",
    "        opinions=np.array([[1, 0, 0, 0], [0, 1, -3, 0], [0, 0, 1, -1], [0, 0, 0, 0]]),\n",
    "        MAR=0.2,\n",
    "        optimization_model=optimization_model,\n",
    "        QAA_strategy=\"BLACK LITTERMAN\"\n",
    "    )\n",
    "    \n",
    "    try:\n",
    "        data, returns, std, var, cov, corr = qaa_instance.assets_metrics()\n",
    "\n",
    "        optimal_weights = qaa_instance.QAA_strategy_selection(returns=returns)\n",
    "        \n",
    "    except ValueError as ve:\n",
    "        print(f\"Error: {str(ve)}\")"
   ]
  },
  {
   "cell_type": "markdown",
   "id": "b4ebe958",
   "metadata": {},
   "source": [
    " "
   ]
  },
  {
   "cell_type": "markdown",
   "id": "609c599a",
   "metadata": {},
   "source": [
    "##### ~~~~~~~~~~~~~~~~~~~~~~~~~~~~~~~~~~~~~~~~~~~~~~~~~~~~~~~~~~~~~~~~~~~~~~~~~~~~~~~~~~~~~~~~~~~~~~~~~~~~"
   ]
  },
  {
   "cell_type": "markdown",
   "id": "44454e02",
   "metadata": {},
   "source": [
    " "
   ]
  },
  {
   "cell_type": "markdown",
   "id": "f5afc33b",
   "metadata": {},
   "source": [
    " ### validations.py"
   ]
  },
  {
   "cell_type": "code",
   "execution_count": null,
   "id": "c9c20593",
   "metadata": {},
   "outputs": [],
   "source": []
  },
  {
   "cell_type": "markdown",
   "id": "02121ff9",
   "metadata": {},
   "source": [
    " "
   ]
  },
  {
   "cell_type": "markdown",
   "id": "afb3b1bc",
   "metadata": {},
   "source": [
    "# ----------------------------------------------------------------------------------------------------"
   ]
  },
  {
   "cell_type": "markdown",
   "id": "942f82e7",
   "metadata": {},
   "source": [
    " "
   ]
  },
  {
   "cell_type": "markdown",
   "id": "0f73c6ca",
   "metadata": {},
   "source": [
    "## ROY SAFETY RATIO"
   ]
  },
  {
   "cell_type": "markdown",
   "id": "ade9d97f",
   "metadata": {},
   "source": [
    " ### functions.py"
   ]
  },
  {
   "cell_type": "raw",
   "id": "6b4d78f5",
   "metadata": {},
   "source": [
    "optimization_models = [\"SLSQP\", \"MONTECARLO\", \"COBYLA\"]#, \"PSO\"]\n",
    "\n",
    "for optimization_model in optimization_models:\n",
    "    qaa_instance = QAA(\n",
    "        tickers=[\"ABBV\", \"MET\", \"OXY\", \"PERI\"],\n",
    "        benchmark=\"SPY\",\n",
    "        rf=0.02,\n",
    "        lower_bound=0.00,\n",
    "        higher_bound=0.00,\n",
    "        start_date=\"2020-01-02\",\n",
    "        end_date=\"2024-01-23\",\n",
    "        expected_returns=np.array([.15, .1, .1, .1]),\n",
    "        opinions=np.array([[1, 0, 0, 0], [0, 1, -3, 0], [0, 0, 1, -1], [0, 0, 0, 0]]),\n",
    "        MAR=0.2,\n",
    "        optimization_model=optimization_model,\n",
    "        QAA_strategy=\"ROY SAFETY RATIO\"\n",
    "    )\n",
    "    \n",
    "    try:\n",
    "        data, returns, std, var, cov, corr = qaa_instance.assets_metrics()\n",
    "\n",
    "        optimal_weights = qaa_instance.QAA_strategy_selection(returns=returns)\n",
    "        \n",
    "    except ValueError as ve:\n",
    "        print(f\"Error: {str(ve)}\")"
   ]
  },
  {
   "cell_type": "markdown",
   "id": "d31130f2",
   "metadata": {},
   "source": [
    " "
   ]
  },
  {
   "cell_type": "markdown",
   "id": "b6ecdd13",
   "metadata": {},
   "source": [
    "##### ~~~~~~~~~~~~~~~~~~~~~~~~~~~~~~~~~~~~~~~~~~~~~~~~~~~~~~~~~~~~~~~~~~~~~~~~~~~~~~~~~~~~~~~~~~~~~~~~~~~~"
   ]
  },
  {
   "cell_type": "markdown",
   "id": "7e6d8c41",
   "metadata": {},
   "source": [
    " "
   ]
  },
  {
   "cell_type": "markdown",
   "id": "4641f0f8",
   "metadata": {},
   "source": [
    " ### validations.py"
   ]
  },
  {
   "cell_type": "code",
   "execution_count": null,
   "id": "3df346fd",
   "metadata": {},
   "outputs": [],
   "source": []
  },
  {
   "cell_type": "markdown",
   "id": "d8e60105",
   "metadata": {},
   "source": [
    " "
   ]
  },
  {
   "cell_type": "markdown",
   "id": "2b153ab6",
   "metadata": {},
   "source": [
    "# ----------------------------------------------------------------------------------------------------"
   ]
  },
  {
   "cell_type": "markdown",
   "id": "f1f4ae04",
   "metadata": {},
   "source": [
    " "
   ]
  },
  {
   "cell_type": "markdown",
   "id": "8d46cafd",
   "metadata": {},
   "source": [
    "## MARTINGALE"
   ]
  },
  {
   "cell_type": "markdown",
   "id": "ec10913a",
   "metadata": {},
   "source": [
    " ### functions.py"
   ]
  },
  {
   "cell_type": "raw",
   "id": "a50312a7",
   "metadata": {},
   "source": [
    "optimization_models = [\"SLSQP\", \"MONTECARLO\", \"COBYLA\"]#, \"PSO\"]\n",
    "\n",
    "for optimization_model in optimization_models:\n",
    "    qaa_instance = QAA(\n",
    "        tickers=[\"ABBV\", \"MET\", \"OXY\", \"PERI\"],\n",
    "        benchmark=\"SPY\",\n",
    "        rf=0.02,\n",
    "        lower_bound=0.00,\n",
    "        higher_bound=0.00,\n",
    "        start_date=\"2020-01-02\",\n",
    "        end_date=\"2024-01-23\",\n",
    "        expected_returns=np.array([.15, .1, .1, .1]),\n",
    "        opinions=np.array([[1, 0, 0, 0], [0, 1, -3, 0], [0, 0, 1, -1], [0, 0, 0, 0]]),\n",
    "        MAR=0.2,\n",
    "        optimization_model=optimization_model,\n",
    "        QAA_strategy=\"MARTINGALE\"\n",
    "    )\n",
    "    \n",
    "    try:\n",
    "        data, returns, std, var, cov, corr = qaa_instance.assets_metrics()\n",
    "\n",
    "        optimal_weights = qaa_instance.QAA_strategy_selection(returns=returns)\n",
    "        \n",
    "    except ValueError as ve:\n",
    "        print(f\"Error: {str(ve)}\")"
   ]
  },
  {
   "cell_type": "markdown",
   "id": "596c11ca",
   "metadata": {},
   "source": [
    " "
   ]
  },
  {
   "cell_type": "markdown",
   "id": "562bc6e7",
   "metadata": {},
   "source": [
    "##### ~~~~~~~~~~~~~~~~~~~~~~~~~~~~~~~~~~~~~~~~~~~~~~~~~~~~~~~~~~~~~~~~~~~~~~~~~~~~~~~~~~~~~~~~~~~~~~~~~~~~"
   ]
  },
  {
   "cell_type": "markdown",
   "id": "58876bf2",
   "metadata": {},
   "source": [
    " "
   ]
  },
  {
   "cell_type": "markdown",
   "id": "774746a7",
   "metadata": {},
   "source": [
    " ### validations.py"
   ]
  },
  {
   "cell_type": "code",
   "execution_count": null,
   "id": "9d3c1274",
   "metadata": {},
   "outputs": [],
   "source": []
  },
  {
   "cell_type": "markdown",
   "id": "fd47f249",
   "metadata": {},
   "source": [
    " "
   ]
  },
  {
   "cell_type": "markdown",
   "id": "8eaefaa4",
   "metadata": {},
   "source": [
    "# ----------------------------------------------------------------------------------------------------"
   ]
  },
  {
   "cell_type": "markdown",
   "id": "3147119b",
   "metadata": {},
   "source": [
    " "
   ]
  },
  {
   "cell_type": "markdown",
   "id": "b7a2bd9f",
   "metadata": {},
   "source": [
    "## HRP"
   ]
  },
  {
   "cell_type": "markdown",
   "id": "68e11a60",
   "metadata": {},
   "source": [
    " "
   ]
  },
  {
   "cell_type": "markdown",
   "id": "508adf6b",
   "metadata": {},
   "source": [
    " ### functions.py"
   ]
  },
  {
   "cell_type": "raw",
   "id": "6432f989",
   "metadata": {},
   "source": [
    "optimization_models = [\"SLSQP\", \"MONTECARLO\", \"COBYLA\"]#, \"PSO\"]\n",
    "\n",
    "for optimization_model in optimization_models:\n",
    "    qaa_instance = QAA(\n",
    "        tickers=[\"ABBV\", \"MET\", \"OXY\", \"PERI\"],\n",
    "        benchmark=\"SPY\",\n",
    "        rf=0.02,\n",
    "        lower_bound=0.00,\n",
    "        higher_bound=0.00,\n",
    "        start_date=\"2020-01-02\",\n",
    "        end_date=\"2024-01-23\",\n",
    "        expected_returns=np.array([.15, .1, .1, .1]),\n",
    "        opinions=np.array([[1, 0, 0, 0], [0, 1, -3, 0], [0, 0, 1, -1], [0, 0, 0, 0]]),\n",
    "        MAR=0.2,\n",
    "        optimization_model=optimization_model,\n",
    "        QAA_strategy=\"HRP\"\n",
    "    )\n",
    "    \n",
    "    try:\n",
    "        data, returns, std, var, cov, corr = qaa_instance.assets_metrics()\n",
    "\n",
    "        optimal_weights = qaa_instance.QAA_strategy_selection(returns=returns)\n",
    "        \n",
    "    except ValueError as ve:\n",
    "        print(f\"Error: {str(ve)}\")"
   ]
  },
  {
   "cell_type": "markdown",
   "id": "aac703a2",
   "metadata": {},
   "source": [
    " "
   ]
  },
  {
   "cell_type": "markdown",
   "id": "c180bc4a",
   "metadata": {},
   "source": [
    "##### ~~~~~~~~~~~~~~~~~~~~~~~~~~~~~~~~~~~~~~~~~~~~~~~~~~~~~~~~~~~~~~~~~~~~~~~~~~~~~~~~~~~~~~~~~~~~~~~~~~~~"
   ]
  },
  {
   "cell_type": "markdown",
   "id": "8d3884bf",
   "metadata": {},
   "source": [
    " "
   ]
  },
  {
   "cell_type": "markdown",
   "id": "4d209323",
   "metadata": {},
   "source": [
    " ### validations.py"
   ]
  },
  {
   "cell_type": "code",
   "execution_count": 7,
   "id": "9defcfd6",
   "metadata": {
    "scrolled": true
   },
   "outputs": [
    {
     "name": "stderr",
     "output_type": "stream",
     "text": [
      "c:\\Users\\diego\\OneDrive - ITESO\\ITESO - TITA\\Semestres - TITA\\10mo Sem -TITA\\PAP\\PAP\\venvPAP\\Lib\\site-packages\\pypfopt\\hierarchical_portfolio.py:138: FutureWarning: Setting an item of incompatible dtype is deprecated and will raise an error in a future version of pandas. Value '[0.7259991 0.7259991]' has dtype incompatible with int64, please explicitly cast to a compatible dtype first.\n",
      "  w[first_cluster] *= alpha  # weight 1\n"
     ]
    },
    {
     "data": {
      "text/plain": [
       "OrderedDict([('ABBV', 0.6312962175894649),\n",
       "             ('MET', 0.2110907364293606),\n",
       "             ('OXY', 0.06291016430236329),\n",
       "             ('PERI', 0.09470288167881123)])"
      ]
     },
     "execution_count": 7,
     "metadata": {},
     "output_type": "execute_result"
    }
   ],
   "source": [
    "from pypfopt.hierarchical_portfolio import HRPOpt\n",
    "\n",
    "HRPOpt(validation_returns).optimize()"
   ]
  },
  {
   "cell_type": "markdown",
   "id": "75e5a231",
   "metadata": {},
   "source": [
    " "
   ]
  },
  {
   "cell_type": "markdown",
   "id": "82e226e5",
   "metadata": {},
   "source": [
    "# ----------------------------------------------------------------------------------------------------"
   ]
  },
  {
   "cell_type": "markdown",
   "id": "0a8483b8",
   "metadata": {},
   "source": [
    " "
   ]
  },
  {
   "cell_type": "markdown",
   "id": "0a0f7207",
   "metadata": {},
   "source": [
    "## ten"
   ]
  },
  {
   "cell_type": "markdown",
   "id": "a951358f",
   "metadata": {},
   "source": [
    " ### functions.py"
   ]
  },
  {
   "cell_type": "raw",
   "id": "33e056c0",
   "metadata": {},
   "source": [
    "optimization_models = [\"SLSQP\", \"MONTECARLO\", \"COBYLA\"]#, \"PSO\"]\n",
    "\n",
    "for optimization_model in optimization_models:\n",
    "    qaa_instance = QAA(\n",
    "        tickers=[\"ABBV\", \"MET\", \"OXY\", \"PERI\"],\n",
    "        benchmark=\"SPY\",\n",
    "        rf=0.02,\n",
    "        lower_bound=0.00,\n",
    "        higher_bound=0.00,\n",
    "        start_date=\"2020-01-02\",\n",
    "        end_date=\"2024-01-23\",\n",
    "        expected_returns=np.array([.15, .1, .1, .1]),\n",
    "        opinions=np.array([[1, 0, 0, 0], [0, 1, -3, 0], [0, 0, 1, -1], [0, 0, 0, 0]]),\n",
    "        MAR=0.2,\n",
    "        optimization_model=optimization_model,\n",
    "        QAA_strategy=\"ten\"\n",
    "    )\n",
    "    \n",
    "    try:\n",
    "        data, returns, std, var, cov, corr = qaa_instance.assets_metrics()\n",
    "\n",
    "        optimal_weights = qaa_instance.QAA_strategy_selection(returns=returns)\n",
    "        \n",
    "    except ValueError as ve:\n",
    "        print(f\"Error: {str(ve)}\")"
   ]
  },
  {
   "cell_type": "markdown",
   "id": "8916234c",
   "metadata": {},
   "source": [
    " "
   ]
  },
  {
   "cell_type": "markdown",
   "id": "3448c9e1",
   "metadata": {},
   "source": [
    "##### ~~~~~~~~~~~~~~~~~~~~~~~~~~~~~~~~~~~~~~~~~~~~~~~~~~~~~~~~~~~~~~~~~~~~~~~~~~~~~~~~~~~~~~~~~~~~~~~~~~~~"
   ]
  },
  {
   "cell_type": "markdown",
   "id": "0585ed4f",
   "metadata": {},
   "source": [
    " "
   ]
  },
  {
   "cell_type": "markdown",
   "id": "9bfde4f0",
   "metadata": {},
   "source": [
    " ### validations.py"
   ]
  },
  {
   "cell_type": "code",
   "execution_count": null,
   "id": "dab4125b",
   "metadata": {},
   "outputs": [],
   "source": []
  },
  {
   "cell_type": "markdown",
   "id": "8e3fb906",
   "metadata": {},
   "source": [
    " "
   ]
  },
  {
   "cell_type": "markdown",
   "id": "818525da",
   "metadata": {},
   "source": [
    "# ----------------------------------------------------------------------------------------------------"
   ]
  },
  {
   "cell_type": "markdown",
   "id": "08b79f1b",
   "metadata": {},
   "source": [
    " "
   ]
  },
  {
   "cell_type": "markdown",
   "id": "04a00629",
   "metadata": {},
   "source": [
    "## eleven"
   ]
  },
  {
   "cell_type": "markdown",
   "id": "bb02d519",
   "metadata": {},
   "source": [
    " ### functions.py"
   ]
  },
  {
   "cell_type": "raw",
   "id": "70fb6b17",
   "metadata": {},
   "source": [
    "optimization_models = [\"SLSQP\", \"MONTECARLO\", \"COBYLA\"]#, \"PSO\"]\n",
    "\n",
    "for optimization_model in optimization_models:\n",
    "    qaa_instance = QAA(\n",
    "        tickers=[\"ABBV\", \"MET\", \"OXY\", \"PERI\"],\n",
    "        benchmark=\"SPY\",\n",
    "        rf=0.02,\n",
    "        lower_bound=0.00,\n",
    "        higher_bound=0.00,\n",
    "        start_date=\"2020-01-02\",\n",
    "        end_date=\"2024-01-23\",\n",
    "        expected_returns=np.array([.15, .1, .1, .1]),\n",
    "        opinions=np.array([[1, 0, 0, 0], [0, 1, -3, 0], [0, 0, 1, -1], [0, 0, 0, 0]]),\n",
    "        MAR=0.2,\n",
    "        optimization_model=optimization_model,\n",
    "        QAA_strategy=\"eleven\"\n",
    "    )\n",
    "    \n",
    "    try:\n",
    "        data, returns, std, var, cov, corr = qaa_instance.assets_metrics()\n",
    "\n",
    "        optimal_weights = qaa_instance.QAA_strategy_selection(returns=returns)\n",
    "        \n",
    "    except ValueError as ve:\n",
    "        print(f\"Error: {str(ve)}\")"
   ]
  },
  {
   "cell_type": "markdown",
   "id": "74b6ccbf",
   "metadata": {},
   "source": [
    " "
   ]
  },
  {
   "cell_type": "markdown",
   "id": "182f5551",
   "metadata": {},
   "source": [
    "##### ~~~~~~~~~~~~~~~~~~~~~~~~~~~~~~~~~~~~~~~~~~~~~~~~~~~~~~~~~~~~~~~~~~~~~~~~~~~~~~~~~~~~~~~~~~~~~~~~~~~~"
   ]
  },
  {
   "cell_type": "markdown",
   "id": "24b880f5",
   "metadata": {},
   "source": [
    " "
   ]
  },
  {
   "cell_type": "markdown",
   "id": "7371bc59",
   "metadata": {},
   "source": [
    " ### validations.py"
   ]
  },
  {
   "cell_type": "code",
   "execution_count": null,
   "id": "f16ccafd",
   "metadata": {},
   "outputs": [],
   "source": []
  },
  {
   "cell_type": "markdown",
   "id": "674c3ffb",
   "metadata": {},
   "source": [
    " "
   ]
  }
 ],
 "metadata": {
  "kernelspec": {
   "display_name": "Python 3 (ipykernel)",
   "language": "python",
   "name": "python3"
  },
  "language_info": {
   "codemirror_mode": {
    "name": "ipython",
    "version": 3
   },
   "file_extension": ".py",
   "mimetype": "text/x-python",
   "name": "python",
   "nbconvert_exporter": "python",
   "pygments_lexer": "ipython3",
   "version": "3.11.5"
  }
 },
 "nbformat": 4,
 "nbformat_minor": 5
}
